{
  "nbformat": 4,
  "nbformat_minor": 0,
  "metadata": {
    "kernelspec": {
      "display_name": "eunil",
      "language": "python",
      "name": "eunil"
    },
    "language_info": {
      "codemirror_mode": {
        "name": "ipython",
        "version": 3
      },
      "file_extension": ".py",
      "mimetype": "text/x-python",
      "name": "python",
      "nbconvert_exporter": "python",
      "pygments_lexer": "ipython3",
      "version": "3.7.0"
    },
    "colab": {
      "name": "First Feature Engineering.ipynb",
      "provenance": [],
      "collapsed_sections": []
    }
  },
  "cells": [
    {
      "cell_type": "code",
      "metadata": {
        "colab": {
          "base_uri": "https://localhost:8080/"
        },
        "id": "iMUDmPvr1By0",
        "outputId": "3899502f-f8ad-497b-b38f-4032f23828d1"
      },
      "source": [
        "from google.colab import drive\n",
        "drive.mount('/content/drive', force_remount=True)"
      ],
      "execution_count": null,
      "outputs": [
        {
          "output_type": "stream",
          "text": [
            "Mounted at /content/drive\n"
          ],
          "name": "stdout"
        }
      ]
    },
    {
      "cell_type": "code",
      "metadata": {
        "colab": {
          "base_uri": "https://localhost:8080/"
        },
        "id": "i2sCypE24Bpb",
        "outputId": "4ef9f866-f928-4d0c-f102-00cae27d1092"
      },
      "source": [
        "!sudo apt-get install -y fonts-nanum\n",
        "!sudo fc-cache -fv\n",
        "!rm ~/.cache/matplotlib -rf"
      ],
      "execution_count": null,
      "outputs": [
        {
          "output_type": "stream",
          "text": [
            "Reading package lists... Done\n",
            "Building dependency tree       \n",
            "Reading state information... Done\n",
            "The following NEW packages will be installed:\n",
            "  fonts-nanum\n",
            "0 upgraded, 1 newly installed, 0 to remove and 39 not upgraded.\n",
            "Need to get 9,604 kB of archives.\n",
            "After this operation, 29.5 MB of additional disk space will be used.\n",
            "Get:1 http://archive.ubuntu.com/ubuntu bionic/universe amd64 fonts-nanum all 20170925-1 [9,604 kB]\n",
            "Fetched 9,604 kB in 1s (10.1 MB/s)\n",
            "debconf: unable to initialize frontend: Dialog\n",
            "debconf: (No usable dialog-like program is installed, so the dialog based frontend cannot be used. at /usr/share/perl5/Debconf/FrontEnd/Dialog.pm line 76, <> line 1.)\n",
            "debconf: falling back to frontend: Readline\n",
            "debconf: unable to initialize frontend: Readline\n",
            "debconf: (This frontend requires a controlling tty.)\n",
            "debconf: falling back to frontend: Teletype\n",
            "dpkg-preconfigure: unable to re-open stdin: \n",
            "Selecting previously unselected package fonts-nanum.\n",
            "(Reading database ... 160815 files and directories currently installed.)\n",
            "Preparing to unpack .../fonts-nanum_20170925-1_all.deb ...\n",
            "Unpacking fonts-nanum (20170925-1) ...\n",
            "Setting up fonts-nanum (20170925-1) ...\n",
            "Processing triggers for fontconfig (2.12.6-0ubuntu2) ...\n",
            "/usr/share/fonts: caching, new cache contents: 0 fonts, 1 dirs\n",
            "/usr/share/fonts/truetype: caching, new cache contents: 0 fonts, 3 dirs\n",
            "/usr/share/fonts/truetype/humor-sans: caching, new cache contents: 1 fonts, 0 dirs\n",
            "/usr/share/fonts/truetype/liberation: caching, new cache contents: 16 fonts, 0 dirs\n",
            "/usr/share/fonts/truetype/nanum: caching, new cache contents: 10 fonts, 0 dirs\n",
            "/usr/local/share/fonts: caching, new cache contents: 0 fonts, 0 dirs\n",
            "/root/.local/share/fonts: skipping, no such directory\n",
            "/root/.fonts: skipping, no such directory\n",
            "/var/cache/fontconfig: cleaning cache directory\n",
            "/root/.cache/fontconfig: not cleaning non-existent cache directory\n",
            "/root/.fontconfig: not cleaning non-existent cache directory\n",
            "fc-cache: succeeded\n"
          ],
          "name": "stdout"
        }
      ]
    },
    {
      "cell_type": "markdown",
      "metadata": {
        "id": "pozCh6YQ0_At"
      },
      "source": [
        "## 패키지"
      ]
    },
    {
      "cell_type": "code",
      "metadata": {
        "id": "TKHu5OWS0_Ax",
        "colab": {
          "base_uri": "https://localhost:8080/"
        },
        "outputId": "185a8973-84c4-4bd6-f091-fcadd9683040"
      },
      "source": [
        "import pandas as pd\n",
        "import numpy as np\n",
        "\n",
        "from matplotlib import pyplot as plt\n",
        "import matplotlib.pyplot as plt\n",
        "plt.rc('font', family='NanumBarunGothic') \n",
        "import seaborn as sns\n",
        "\n",
        "from sklearn.preprocessing import LabelEncoder, OneHotEncoder, MinMaxScaler\n",
        "from sklearn.decomposition import PCA\n",
        "from sklearn.model_selection import train_test_split,cross_val_score\n",
        "from sklearn.model_selection import RandomizedSearchCV\n",
        "!pip install bayesian-optimization\n",
        "from bayes_opt import BayesianOptimization\n",
        "\n",
        "from sklearn.feature_selection import SelectKBest, SelectPercentile\n",
        "\n",
        "from sklearn.linear_model import LinearRegression\n",
        "from sklearn.ensemble import RandomForestRegressor, ExtraTreesRegressor\n",
        "from lightgbm import LGBMRegressor\n",
        "\n",
        "from sklearn.metrics import mean_absolute_error\n",
        "\n",
        "from tqdm import tqdm\n",
        "\n",
        "import os\n",
        "os.chdir('/content/drive/MyDrive/dacon_LH')"
      ],
      "execution_count": null,
      "outputs": [
        {
          "output_type": "stream",
          "text": [
            "Collecting bayesian-optimization\n",
            "  Downloading bayesian-optimization-1.2.0.tar.gz (14 kB)\n",
            "Requirement already satisfied: numpy>=1.9.0 in /usr/local/lib/python3.7/dist-packages (from bayesian-optimization) (1.19.5)\n",
            "Requirement already satisfied: scipy>=0.14.0 in /usr/local/lib/python3.7/dist-packages (from bayesian-optimization) (1.4.1)\n",
            "Requirement already satisfied: scikit-learn>=0.18.0 in /usr/local/lib/python3.7/dist-packages (from bayesian-optimization) (0.22.2.post1)\n",
            "Requirement already satisfied: joblib>=0.11 in /usr/local/lib/python3.7/dist-packages (from scikit-learn>=0.18.0->bayesian-optimization) (1.0.1)\n",
            "Building wheels for collected packages: bayesian-optimization\n",
            "  Building wheel for bayesian-optimization (setup.py) ... \u001b[?25l\u001b[?25hdone\n",
            "  Created wheel for bayesian-optimization: filename=bayesian_optimization-1.2.0-py3-none-any.whl size=11685 sha256=013bdfa270c02c0e7b55ad84d16c695476fb250f8d39d90448ee7a4e01add531\n",
            "  Stored in directory: /root/.cache/pip/wheels/fd/9b/71/f127d694e02eb40bcf18c7ae9613b88a6be4470f57a8528c5b\n",
            "Successfully built bayesian-optimization\n",
            "Installing collected packages: bayesian-optimization\n",
            "Successfully installed bayesian-optimization-1.2.0\n"
          ],
          "name": "stdout"
        }
      ]
    },
    {
      "cell_type": "markdown",
      "metadata": {
        "id": "QLPWFOpe0_Ay"
      },
      "source": [
        "## 데이터"
      ]
    },
    {
      "cell_type": "code",
      "metadata": {
        "id": "DwhVLG2A0_Az"
      },
      "source": [
        "train = pd.read_csv('./data/train.csv', na_values='-')\n",
        "test = pd.read_csv('./data/test.csv', na_values='-')\n",
        "submission = pd.read_csv('./data/sample_submission.csv')"
      ],
      "execution_count": null,
      "outputs": []
    },
    {
      "cell_type": "code",
      "metadata": {
        "colab": {
          "base_uri": "https://localhost:8080/"
        },
        "id": "Lila9qop0_A0",
        "outputId": "bc1215be-f56f-4a3d-f0d6-877e1f0beb6b"
      },
      "source": [
        "train.shape, test.shape"
      ],
      "execution_count": null,
      "outputs": [
        {
          "output_type": "execute_result",
          "data": {
            "text/plain": [
              "((2952, 15), (1022, 14))"
            ]
          },
          "metadata": {
            "tags": []
          },
          "execution_count": 71
        }
      ]
    },
    {
      "cell_type": "code",
      "metadata": {
        "colab": {
          "base_uri": "https://localhost:8080/",
          "height": 305
        },
        "id": "cH38ifNX0_A1",
        "outputId": "13bd4303-e8e4-46bc-c19b-1a18e8da2357"
      },
      "source": [
        "train.head()"
      ],
      "execution_count": null,
      "outputs": [
        {
          "output_type": "execute_result",
          "data": {
            "text/html": [
              "<div>\n",
              "<style scoped>\n",
              "    .dataframe tbody tr th:only-of-type {\n",
              "        vertical-align: middle;\n",
              "    }\n",
              "\n",
              "    .dataframe tbody tr th {\n",
              "        vertical-align: top;\n",
              "    }\n",
              "\n",
              "    .dataframe thead th {\n",
              "        text-align: right;\n",
              "    }\n",
              "</style>\n",
              "<table border=\"1\" class=\"dataframe\">\n",
              "  <thead>\n",
              "    <tr style=\"text-align: right;\">\n",
              "      <th></th>\n",
              "      <th>단지코드</th>\n",
              "      <th>총세대수</th>\n",
              "      <th>임대건물구분</th>\n",
              "      <th>지역</th>\n",
              "      <th>공급유형</th>\n",
              "      <th>전용면적</th>\n",
              "      <th>전용면적별세대수</th>\n",
              "      <th>공가수</th>\n",
              "      <th>자격유형</th>\n",
              "      <th>임대보증금</th>\n",
              "      <th>임대료</th>\n",
              "      <th>도보 10분거리 내 지하철역 수(환승노선 수 반영)</th>\n",
              "      <th>도보 10분거리 내 버스정류장 수</th>\n",
              "      <th>단지내주차면수</th>\n",
              "      <th>등록차량수</th>\n",
              "    </tr>\n",
              "  </thead>\n",
              "  <tbody>\n",
              "    <tr>\n",
              "      <th>0</th>\n",
              "      <td>C2483</td>\n",
              "      <td>900</td>\n",
              "      <td>아파트</td>\n",
              "      <td>경상북도</td>\n",
              "      <td>국민임대</td>\n",
              "      <td>39.72</td>\n",
              "      <td>134</td>\n",
              "      <td>38.0</td>\n",
              "      <td>A</td>\n",
              "      <td>15667000.0</td>\n",
              "      <td>103680.0</td>\n",
              "      <td>0.0</td>\n",
              "      <td>3.0</td>\n",
              "      <td>1425.0</td>\n",
              "      <td>1015.0</td>\n",
              "    </tr>\n",
              "    <tr>\n",
              "      <th>1</th>\n",
              "      <td>C2483</td>\n",
              "      <td>900</td>\n",
              "      <td>아파트</td>\n",
              "      <td>경상북도</td>\n",
              "      <td>국민임대</td>\n",
              "      <td>39.72</td>\n",
              "      <td>15</td>\n",
              "      <td>38.0</td>\n",
              "      <td>A</td>\n",
              "      <td>15667000.0</td>\n",
              "      <td>103680.0</td>\n",
              "      <td>0.0</td>\n",
              "      <td>3.0</td>\n",
              "      <td>1425.0</td>\n",
              "      <td>1015.0</td>\n",
              "    </tr>\n",
              "    <tr>\n",
              "      <th>2</th>\n",
              "      <td>C2483</td>\n",
              "      <td>900</td>\n",
              "      <td>아파트</td>\n",
              "      <td>경상북도</td>\n",
              "      <td>국민임대</td>\n",
              "      <td>51.93</td>\n",
              "      <td>385</td>\n",
              "      <td>38.0</td>\n",
              "      <td>A</td>\n",
              "      <td>27304000.0</td>\n",
              "      <td>184330.0</td>\n",
              "      <td>0.0</td>\n",
              "      <td>3.0</td>\n",
              "      <td>1425.0</td>\n",
              "      <td>1015.0</td>\n",
              "    </tr>\n",
              "    <tr>\n",
              "      <th>3</th>\n",
              "      <td>C2483</td>\n",
              "      <td>900</td>\n",
              "      <td>아파트</td>\n",
              "      <td>경상북도</td>\n",
              "      <td>국민임대</td>\n",
              "      <td>51.93</td>\n",
              "      <td>15</td>\n",
              "      <td>38.0</td>\n",
              "      <td>A</td>\n",
              "      <td>27304000.0</td>\n",
              "      <td>184330.0</td>\n",
              "      <td>0.0</td>\n",
              "      <td>3.0</td>\n",
              "      <td>1425.0</td>\n",
              "      <td>1015.0</td>\n",
              "    </tr>\n",
              "    <tr>\n",
              "      <th>4</th>\n",
              "      <td>C2483</td>\n",
              "      <td>900</td>\n",
              "      <td>아파트</td>\n",
              "      <td>경상북도</td>\n",
              "      <td>국민임대</td>\n",
              "      <td>51.93</td>\n",
              "      <td>41</td>\n",
              "      <td>38.0</td>\n",
              "      <td>A</td>\n",
              "      <td>27304000.0</td>\n",
              "      <td>184330.0</td>\n",
              "      <td>0.0</td>\n",
              "      <td>3.0</td>\n",
              "      <td>1425.0</td>\n",
              "      <td>1015.0</td>\n",
              "    </tr>\n",
              "  </tbody>\n",
              "</table>\n",
              "</div>"
            ],
            "text/plain": [
              "    단지코드  총세대수 임대건물구분  ... 도보 10분거리 내 버스정류장 수 단지내주차면수   등록차량수\n",
              "0  C2483   900    아파트  ...                3.0  1425.0  1015.0\n",
              "1  C2483   900    아파트  ...                3.0  1425.0  1015.0\n",
              "2  C2483   900    아파트  ...                3.0  1425.0  1015.0\n",
              "3  C2483   900    아파트  ...                3.0  1425.0  1015.0\n",
              "4  C2483   900    아파트  ...                3.0  1425.0  1015.0\n",
              "\n",
              "[5 rows x 15 columns]"
            ]
          },
          "metadata": {
            "tags": []
          },
          "execution_count": 72
        }
      ]
    },
    {
      "cell_type": "code",
      "metadata": {
        "colab": {
          "base_uri": "https://localhost:8080/"
        },
        "id": "d3VBHY143XJ3",
        "outputId": "e7f5b0a8-25d3-416a-d841-bc9287beb535"
      },
      "source": [
        "# train = train.drop_duplicates()  # 완전히 동일한 행 중복?? -> raw data 상에서는 다른 인스턴스\n",
        "train.rename(columns={'도보 10분거리 내 지하철역 수(환승노선 수 반영)':'지하철역수', '도보 10분거리 내 버스정류장 수':'버스정류장수'}, inplace=True)\n",
        "print(len(train))"
      ],
      "execution_count": null,
      "outputs": [
        {
          "output_type": "stream",
          "text": [
            "2952\n"
          ],
          "name": "stdout"
        }
      ]
    },
    {
      "cell_type": "code",
      "metadata": {
        "colab": {
          "base_uri": "https://localhost:8080/",
          "height": 305
        },
        "id": "QKrlqjzV0_A1",
        "outputId": "095aaae0-50f7-452c-8938-0f85829d38a7"
      },
      "source": [
        "test.head()"
      ],
      "execution_count": null,
      "outputs": [
        {
          "output_type": "execute_result",
          "data": {
            "text/html": [
              "<div>\n",
              "<style scoped>\n",
              "    .dataframe tbody tr th:only-of-type {\n",
              "        vertical-align: middle;\n",
              "    }\n",
              "\n",
              "    .dataframe tbody tr th {\n",
              "        vertical-align: top;\n",
              "    }\n",
              "\n",
              "    .dataframe thead th {\n",
              "        text-align: right;\n",
              "    }\n",
              "</style>\n",
              "<table border=\"1\" class=\"dataframe\">\n",
              "  <thead>\n",
              "    <tr style=\"text-align: right;\">\n",
              "      <th></th>\n",
              "      <th>단지코드</th>\n",
              "      <th>총세대수</th>\n",
              "      <th>임대건물구분</th>\n",
              "      <th>지역</th>\n",
              "      <th>공급유형</th>\n",
              "      <th>전용면적</th>\n",
              "      <th>전용면적별세대수</th>\n",
              "      <th>공가수</th>\n",
              "      <th>자격유형</th>\n",
              "      <th>임대보증금</th>\n",
              "      <th>임대료</th>\n",
              "      <th>도보 10분거리 내 지하철역 수(환승노선 수 반영)</th>\n",
              "      <th>도보 10분거리 내 버스정류장 수</th>\n",
              "      <th>단지내주차면수</th>\n",
              "    </tr>\n",
              "  </thead>\n",
              "  <tbody>\n",
              "    <tr>\n",
              "      <th>0</th>\n",
              "      <td>C1072</td>\n",
              "      <td>754</td>\n",
              "      <td>아파트</td>\n",
              "      <td>경기도</td>\n",
              "      <td>국민임대</td>\n",
              "      <td>39.79</td>\n",
              "      <td>116</td>\n",
              "      <td>14.0</td>\n",
              "      <td>H</td>\n",
              "      <td>22830000.0</td>\n",
              "      <td>189840.0</td>\n",
              "      <td>0.0</td>\n",
              "      <td>2.0</td>\n",
              "      <td>683.0</td>\n",
              "    </tr>\n",
              "    <tr>\n",
              "      <th>1</th>\n",
              "      <td>C1072</td>\n",
              "      <td>754</td>\n",
              "      <td>아파트</td>\n",
              "      <td>경기도</td>\n",
              "      <td>국민임대</td>\n",
              "      <td>46.81</td>\n",
              "      <td>30</td>\n",
              "      <td>14.0</td>\n",
              "      <td>A</td>\n",
              "      <td>36048000.0</td>\n",
              "      <td>249930.0</td>\n",
              "      <td>0.0</td>\n",
              "      <td>2.0</td>\n",
              "      <td>683.0</td>\n",
              "    </tr>\n",
              "    <tr>\n",
              "      <th>2</th>\n",
              "      <td>C1072</td>\n",
              "      <td>754</td>\n",
              "      <td>아파트</td>\n",
              "      <td>경기도</td>\n",
              "      <td>국민임대</td>\n",
              "      <td>46.90</td>\n",
              "      <td>112</td>\n",
              "      <td>14.0</td>\n",
              "      <td>H</td>\n",
              "      <td>36048000.0</td>\n",
              "      <td>249930.0</td>\n",
              "      <td>0.0</td>\n",
              "      <td>2.0</td>\n",
              "      <td>683.0</td>\n",
              "    </tr>\n",
              "    <tr>\n",
              "      <th>3</th>\n",
              "      <td>C1072</td>\n",
              "      <td>754</td>\n",
              "      <td>아파트</td>\n",
              "      <td>경기도</td>\n",
              "      <td>국민임대</td>\n",
              "      <td>46.90</td>\n",
              "      <td>120</td>\n",
              "      <td>14.0</td>\n",
              "      <td>H</td>\n",
              "      <td>36048000.0</td>\n",
              "      <td>249930.0</td>\n",
              "      <td>0.0</td>\n",
              "      <td>2.0</td>\n",
              "      <td>683.0</td>\n",
              "    </tr>\n",
              "    <tr>\n",
              "      <th>4</th>\n",
              "      <td>C1072</td>\n",
              "      <td>754</td>\n",
              "      <td>아파트</td>\n",
              "      <td>경기도</td>\n",
              "      <td>국민임대</td>\n",
              "      <td>51.46</td>\n",
              "      <td>60</td>\n",
              "      <td>14.0</td>\n",
              "      <td>H</td>\n",
              "      <td>43497000.0</td>\n",
              "      <td>296780.0</td>\n",
              "      <td>0.0</td>\n",
              "      <td>2.0</td>\n",
              "      <td>683.0</td>\n",
              "    </tr>\n",
              "  </tbody>\n",
              "</table>\n",
              "</div>"
            ],
            "text/plain": [
              "    단지코드  총세대수  ... 도보 10분거리 내 버스정류장 수 단지내주차면수\n",
              "0  C1072   754  ...                2.0   683.0\n",
              "1  C1072   754  ...                2.0   683.0\n",
              "2  C1072   754  ...                2.0   683.0\n",
              "3  C1072   754  ...                2.0   683.0\n",
              "4  C1072   754  ...                2.0   683.0\n",
              "\n",
              "[5 rows x 14 columns]"
            ]
          },
          "metadata": {
            "tags": []
          },
          "execution_count": 74
        }
      ]
    },
    {
      "cell_type": "code",
      "metadata": {
        "colab": {
          "base_uri": "https://localhost:8080/"
        },
        "id": "Jl59CrmG3pib",
        "outputId": "ebcb36f5-4ffe-4ff4-e3ef-3bdee46d02da"
      },
      "source": [
        "# test = test.drop_duplicates()  # 완전히 동일한 행 중복?? -> raw data 상에서는 다른 인스턴스\n",
        "test.rename(columns={'도보 10분거리 내 지하철역 수(환승노선 수 반영)':'지하철역수', '도보 10분거리 내 버스정류장 수':'버스정류장수'}, inplace=True)\n",
        "print(len(test))"
      ],
      "execution_count": null,
      "outputs": [
        {
          "output_type": "stream",
          "text": [
            "1022\n"
          ],
          "name": "stdout"
        }
      ]
    },
    {
      "cell_type": "code",
      "metadata": {
        "colab": {
          "base_uri": "https://localhost:8080/",
          "height": 204
        },
        "id": "IoDwD5qm1pTl",
        "outputId": "a4cfd779-f06e-49f3-e6e4-70fa1eee555c"
      },
      "source": [
        "submission.head()"
      ],
      "execution_count": null,
      "outputs": [
        {
          "output_type": "execute_result",
          "data": {
            "text/html": [
              "<div>\n",
              "<style scoped>\n",
              "    .dataframe tbody tr th:only-of-type {\n",
              "        vertical-align: middle;\n",
              "    }\n",
              "\n",
              "    .dataframe tbody tr th {\n",
              "        vertical-align: top;\n",
              "    }\n",
              "\n",
              "    .dataframe thead th {\n",
              "        text-align: right;\n",
              "    }\n",
              "</style>\n",
              "<table border=\"1\" class=\"dataframe\">\n",
              "  <thead>\n",
              "    <tr style=\"text-align: right;\">\n",
              "      <th></th>\n",
              "      <th>code</th>\n",
              "      <th>num</th>\n",
              "    </tr>\n",
              "  </thead>\n",
              "  <tbody>\n",
              "    <tr>\n",
              "      <th>0</th>\n",
              "      <td>C1072</td>\n",
              "      <td>0</td>\n",
              "    </tr>\n",
              "    <tr>\n",
              "      <th>1</th>\n",
              "      <td>C1128</td>\n",
              "      <td>0</td>\n",
              "    </tr>\n",
              "    <tr>\n",
              "      <th>2</th>\n",
              "      <td>C1456</td>\n",
              "      <td>0</td>\n",
              "    </tr>\n",
              "    <tr>\n",
              "      <th>3</th>\n",
              "      <td>C1840</td>\n",
              "      <td>0</td>\n",
              "    </tr>\n",
              "    <tr>\n",
              "      <th>4</th>\n",
              "      <td>C1332</td>\n",
              "      <td>0</td>\n",
              "    </tr>\n",
              "  </tbody>\n",
              "</table>\n",
              "</div>"
            ],
            "text/plain": [
              "    code  num\n",
              "0  C1072    0\n",
              "1  C1128    0\n",
              "2  C1456    0\n",
              "3  C1840    0\n",
              "4  C1332    0"
            ]
          },
          "metadata": {
            "tags": []
          },
          "execution_count": 16
        }
      ]
    },
    {
      "cell_type": "code",
      "metadata": {
        "id": "1psJ2kL75eBT"
      },
      "source": [
        ""
      ],
      "execution_count": null,
      "outputs": []
    },
    {
      "cell_type": "code",
      "metadata": {
        "colab": {
          "base_uri": "https://localhost:8080/"
        },
        "id": "C8pyjWDd5eDy",
        "outputId": "8fd07d5e-37a8-480e-facc-f392f0429a30"
      },
      "source": [
        "train.info()"
      ],
      "execution_count": null,
      "outputs": [
        {
          "output_type": "stream",
          "text": [
            "<class 'pandas.core.frame.DataFrame'>\n",
            "RangeIndex: 2952 entries, 0 to 2951\n",
            "Data columns (total 15 columns):\n",
            " #   Column    Non-Null Count  Dtype  \n",
            "---  ------    --------------  -----  \n",
            " 0   단지코드      2952 non-null   object \n",
            " 1   총세대수      2952 non-null   int64  \n",
            " 2   임대건물구분    2952 non-null   object \n",
            " 3   지역        2952 non-null   object \n",
            " 4   공급유형      2952 non-null   object \n",
            " 5   전용면적      2952 non-null   float64\n",
            " 6   전용면적별세대수  2952 non-null   int64  \n",
            " 7   공가수       2952 non-null   float64\n",
            " 8   자격유형      2952 non-null   object \n",
            " 9   임대보증금     2371 non-null   float64\n",
            " 10  임대료       2362 non-null   float64\n",
            " 11  지하철역수     2741 non-null   float64\n",
            " 12  버스정류장수    2948 non-null   float64\n",
            " 13  단지내주차면수   2952 non-null   float64\n",
            " 14  등록차량수     2952 non-null   float64\n",
            "dtypes: float64(8), int64(2), object(5)\n",
            "memory usage: 346.1+ KB\n"
          ],
          "name": "stdout"
        }
      ]
    },
    {
      "cell_type": "code",
      "metadata": {
        "id": "PyK8QOT66MLw"
      },
      "source": [
        ""
      ],
      "execution_count": null,
      "outputs": []
    },
    {
      "cell_type": "markdown",
      "metadata": {
        "id": "1pMh55dp6ndg"
      },
      "source": [
        "## EDA"
      ]
    },
    {
      "cell_type": "code",
      "metadata": {
        "colab": {
          "base_uri": "https://localhost:8080/"
        },
        "id": "NYaSS7X61ymT",
        "outputId": "2a7a18e3-e1ad-4348-9866-f406d818d84d"
      },
      "source": [
        "cat_col = ['임대건물구분','지역','공급유형','자격유형']\n",
        "print(cat_col)"
      ],
      "execution_count": null,
      "outputs": [
        {
          "output_type": "stream",
          "text": [
            "['임대건물구분', '지역', '공급유형', '자격유형']\n"
          ],
          "name": "stdout"
        }
      ]
    },
    {
      "cell_type": "code",
      "metadata": {
        "id": "BpnF5ZjU11gI",
        "colab": {
          "base_uri": "https://localhost:8080/"
        },
        "outputId": "640d1b80-1db1-4847-ef82-091406a1e5b8"
      },
      "source": [
        "for col in cat_col:\n",
        "  print(col, train[col].unique())"
      ],
      "execution_count": null,
      "outputs": [
        {
          "output_type": "stream",
          "text": [
            "임대건물구분 ['아파트' '상가']\n",
            "지역 ['경상북도' '경상남도' '대전광역시' '경기도' '전라북도' '강원도' '광주광역시' '충청남도' '부산광역시' '제주특별자치도'\n",
            " '울산광역시' '충청북도' '전라남도' '대구광역시' '서울특별시' '세종특별자치시']\n",
            "공급유형 ['국민임대' '공공임대(50년)' '영구임대' '임대상가' '공공임대(10년)' '공공임대(분납)' '장기전세' '공공분양'\n",
            " '행복주택' '공공임대(5년)']\n",
            "자격유형 ['A' 'B' 'C' 'D' 'E' 'F' 'G' 'H' 'I' 'J' 'K' 'L' 'M' 'N' 'O']\n"
          ],
          "name": "stdout"
        }
      ]
    },
    {
      "cell_type": "code",
      "metadata": {
        "colab": {
          "base_uri": "https://localhost:8080/",
          "height": 1000
        },
        "id": "lyNrPhZ_3PMb",
        "outputId": "308840a7-a035-4625-9638-678e5838a7c6"
      },
      "source": [
        "for col in cat_col:\n",
        "  train.groupby(col).count()['단지코드'].plot(kind='bar')\n",
        "  plt.show()"
      ],
      "execution_count": null,
      "outputs": [
        {
          "output_type": "display_data",
          "data": {
            "image/png": "[encoded data removed]",
            "text/plain": [
              "<Figure size 432x288 with 1 Axes>"
            ]
          },
          "metadata": {
            "tags": [],
            "needs_background": "light"
          }
        },
        {
          "output_type": "display_data",
          "data": {
            "image/png": "[encoded data removed]",
            "text/plain": [
              "<Figure size 432x288 with 1 Axes>"
            ]
          },
          "metadata": {
            "tags": [],
            "needs_background": "light"
          }
        },
        {
          "output_type": "display_data",
          "data": {
            "image/png": "[encoded data removed]",
            "text/plain": [
              "<Figure size 432x288 with 1 Axes>"
            ]
          },
          "metadata": {
            "tags": [],
            "needs_background": "light"
          }
        },
        {
          "output_type": "display_data",
          "data": {
            "image/png": "[encoded data removed]",
            "text/plain": [
              "<Figure size 432x288 with 1 Axes>"
            ]
          },
          "metadata": {
            "tags": [],
            "needs_background": "light"
          }
        }
      ]
    },
    {
      "cell_type": "code",
      "metadata": {
        "colab": {
          "base_uri": "https://localhost:8080/"
        },
        "id": "MyOACN1Z4zt6",
        "outputId": "87e6ba38-1524-4e74-9c40-7a8e3eca77a6"
      },
      "source": [
        "num_col = train.columns.difference(['단지코드']).difference(cat_col)\n",
        "print(num_col)"
      ],
      "execution_count": null,
      "outputs": [
        {
          "output_type": "stream",
          "text": [
            "Index(['공가수', '단지내주차면수', '등록차량수', '버스정류장수', '임대료', '임대보증금', '전용면적', '전용면적별세대수',\n",
            "       '지하철역수', '총세대수'],\n",
            "      dtype='object')\n"
          ],
          "name": "stdout"
        }
      ]
    },
    {
      "cell_type": "code",
      "metadata": {
        "colab": {
          "base_uri": "https://localhost:8080/",
          "height": 1000
        },
        "id": "-bwbpr294zwZ",
        "outputId": "39416ff7-1410-4788-b0e6-d439fb1c18f3"
      },
      "source": [
        "for col in num_col:\n",
        "  sns.kdeplot(train[col], shade=True)\n",
        "  plt.show()"
      ],
      "execution_count": null,
      "outputs": [
        {
          "output_type": "stream",
          "text": [
            "/usr/local/lib/python3.7/dist-packages/matplotlib/backends/backend_agg.py:214: RuntimeWarning: Glyph 8722 missing from current font.\n",
            "  font.set_text(s, 0.0, flags=flags)\n",
            "/usr/local/lib/python3.7/dist-packages/matplotlib/backends/backend_agg.py:183: RuntimeWarning: Glyph 8722 missing from current font.\n",
            "  font.set_text(s, 0, flags=flags)\n"
          ],
          "name": "stderr"
        },
        {
          "output_type": "display_data",
          "data": {
            "image/png": "[encoded data removed]",
            "text/plain": [
              "<Figure size 432x288 with 1 Axes>"
            ]
          },
          "metadata": {
            "tags": [],
            "needs_background": "light"
          }
        },
        {
          "output_type": "display_data",
          "data": {
            "image/png": "[encoded data removed]",
            "text/plain": [
              "<Figure size 432x288 with 1 Axes>"
            ]
          },
          "metadata": {
            "tags": [],
            "needs_background": "light"
          }
        },
        {
          "output_type": "display_data",
          "data": {
            "image/png": "[encoded data removed]",
            "text/plain": [
              "<Figure size 432x288 with 1 Axes>"
            ]
          },
          "metadata": {
            "tags": [],
            "needs_background": "light"
          }
        },
        {
          "output_type": "display_data",
          "data": {
            "image/png": "[encoded data removed]",
            "text/plain": [
              "<Figure size 432x288 with 1 Axes>"
            ]
          },
          "metadata": {
            "tags": [],
            "needs_background": "light"
          }
        },
        {
          "output_type": "stream",
          "text": [
            "/usr/local/lib/python3.7/dist-packages/matplotlib/backends/backend_agg.py:214: RuntimeWarning: Glyph 8722 missing from current font.\n",
            "  font.set_text(s, 0.0, flags=flags)\n",
            "/usr/local/lib/python3.7/dist-packages/matplotlib/backends/backend_agg.py:183: RuntimeWarning: Glyph 8722 missing from current font.\n",
            "  font.set_text(s, 0, flags=flags)\n"
          ],
          "name": "stderr"
        },
        {
          "output_type": "display_data",
          "data": {
            "image/png": "[encoded data removed]",
            "text/plain": [
              "<Figure size 432x288 with 1 Axes>"
            ]
          },
          "metadata": {
            "tags": [],
            "needs_background": "light"
          }
        },
        {
          "output_type": "stream",
          "text": [
            "/usr/local/lib/python3.7/dist-packages/matplotlib/backends/backend_agg.py:214: RuntimeWarning: Glyph 8722 missing from current font.\n",
            "  font.set_text(s, 0.0, flags=flags)\n",
            "/usr/local/lib/python3.7/dist-packages/matplotlib/backends/backend_agg.py:183: RuntimeWarning: Glyph 8722 missing from current font.\n",
            "  font.set_text(s, 0, flags=flags)\n"
          ],
          "name": "stderr"
        },
        {
          "output_type": "display_data",
          "data": {
            "image/png": "[encoded data removed]",
            "text/plain": [
              "<Figure size 432x288 with 1 Axes>"
            ]
          },
          "metadata": {
            "tags": [],
            "needs_background": "light"
          }
        },
        {
          "output_type": "display_data",
          "data": {
            "image/png": "[encoded data removed]",
            "text/plain": [
              "<Figure size 432x288 with 1 Axes>"
            ]
          },
          "metadata": {
            "tags": [],
            "needs_background": "light"
          }
        },
        {
          "output_type": "display_data",
          "data": {
            "image/png": "[encoded data removed]",
            "text/plain": [
              "<Figure size 432x288 with 1 Axes>"
            ]
          },
          "metadata": {
            "tags": [],
            "needs_background": "light"
          }
        },
        {
          "output_type": "display_data",
          "data": {
            "image/png": "[encoded data removed]",
            "text/plain": [
              "<Figure size 432x288 with 1 Axes>"
            ]
          },
          "metadata": {
            "tags": [],
            "needs_background": "light"
          }
        },
        {
          "output_type": "display_data",
          "data": {
            "image/png": "[encoded data removed]",
            "text/plain": [
              "<Figure size 432x288 with 1 Axes>"
            ]
          },
          "metadata": {
            "tags": [],
            "needs_background": "light"
          }
        }
      ]
    },
    {
      "cell_type": "markdown",
      "metadata": {
        "id": "HcUWeDDZ6u9i"
      },
      "source": [
        "임대료, 임대보증금, 전용면적, 전용면적별세대수 -> 이상치 존재"
      ]
    },
    {
      "cell_type": "markdown",
      "metadata": {
        "id": "JWREnMvu0_A1"
      },
      "source": [
        "## 결측치 처리"
      ]
    },
    {
      "cell_type": "code",
      "metadata": {
        "colab": {
          "base_uri": "https://localhost:8080/"
        },
        "id": "KEg2_Vd20_A2",
        "outputId": "31d1db2b-58f9-4f79-807b-ccee31d525b3"
      },
      "source": [
        "train.isna().sum()"
      ],
      "execution_count": null,
      "outputs": [
        {
          "output_type": "execute_result",
          "data": {
            "text/plain": [
              "단지코드          0\n",
              "총세대수          0\n",
              "임대건물구분        0\n",
              "지역            0\n",
              "공급유형          0\n",
              "전용면적          0\n",
              "전용면적별세대수      0\n",
              "공가수           0\n",
              "자격유형          0\n",
              "임대보증금       581\n",
              "임대료         590\n",
              "지하철역수       211\n",
              "버스정류장수        4\n",
              "단지내주차면수       0\n",
              "등록차량수         0\n",
              "dtype: int64"
            ]
          },
          "metadata": {
            "tags": []
          },
          "execution_count": 13
        }
      ]
    },
    {
      "cell_type": "code",
      "metadata": {
        "colab": {
          "base_uri": "https://localhost:8080/"
        },
        "id": "TSIg_5iA0_A2",
        "outputId": "97d3b76d-13fe-46c2-bd51-de04d4fa806c"
      },
      "source": [
        "test.isna().sum()"
      ],
      "execution_count": null,
      "outputs": [
        {
          "output_type": "execute_result",
          "data": {
            "text/plain": [
              "단지코드          0\n",
              "총세대수          0\n",
              "임대건물구분        0\n",
              "지역            0\n",
              "공급유형          0\n",
              "전용면적          0\n",
              "전용면적별세대수      0\n",
              "공가수           0\n",
              "자격유형          2\n",
              "임대보증금       186\n",
              "임대료         186\n",
              "지하철역수        42\n",
              "버스정류장수        0\n",
              "단지내주차면수       0\n",
              "dtype: int64"
            ]
          },
          "metadata": {
            "tags": []
          },
          "execution_count": 14
        }
      ]
    },
    {
      "cell_type": "markdown",
      "metadata": {
        "id": "8RYDdb7sG8hN"
      },
      "source": [
        "임대보증금, 임대료 결측치 보간\n",
        "- 임대건물구분, 지역, 공급유형별 임대료 평균으로 보간\n",
        "- 해당 그룹 내 임대보증금, 임대료 값이 하나도 없는 경우 존재\n",
        "- 지역별 임대료 평균으로 한번 더 보간"
      ]
    },
    {
      "cell_type": "code",
      "metadata": {
        "id": "_uJHaLy1PbZT"
      },
      "source": [
        "train[['임대보증금', '임대료']] = train[['임대보증금', '임대료']].fillna(0)\n",
        "test[['임대보증금', '임대료']] = test[['임대보증금', '임대료']].fillna(0)"
      ],
      "execution_count": null,
      "outputs": []
    },
    {
      "cell_type": "code",
      "metadata": {
        "colab": {
          "base_uri": "https://localhost:8080/"
        },
        "id": "2juuFgcMHJlG",
        "outputId": "8642a3b0-e68c-47d1-f4a9-ae83b3873a37"
      },
      "source": [
        "# train['임대보증금'] = train['임대보증금'].fillna(train.groupby(['임대건물구분','지역','공급유형'])['임대보증금'].transform('mean'))\n",
        "# train['임대보증금'] = train['임대보증금'].fillna(train.groupby(['지역'])['임대보증금'].transform('mean'))\n",
        "# print(train.임대보증금.isnull().sum())\n",
        "\n",
        "# test['임대보증금'] = test['임대보증금'].fillna(test.groupby(['임대건물구분','지역','공급유형'])['임대보증금'].transform('mean'))\n",
        "# test['임대보증금'] = test['임대보증금'].fillna(test.groupby(['지역'])['임대보증금'].transform('mean'))\n",
        "# print(test.임대보증금.isnull().sum())"
      ],
      "execution_count": null,
      "outputs": [
        {
          "output_type": "stream",
          "text": [
            "0\n",
            "0\n"
          ],
          "name": "stdout"
        }
      ]
    },
    {
      "cell_type": "code",
      "metadata": {
        "colab": {
          "base_uri": "https://localhost:8080/"
        },
        "id": "2d9sEyRxFUnc",
        "outputId": "d3874901-43ba-4e76-bd93-8ac1a0cd87b0"
      },
      "source": [
        "# train['임대료'] = train['임대료'].fillna(train.groupby(['임대건물구분','지역','공급유형'])['임대료'].transform('mean'))\n",
        "# train['임대료'] = train['임대료'].fillna(train.groupby(['지역'])['임대료'].transform('mean'))\n",
        "# print(train.임대료.isnull().sum())\n",
        "\n",
        "# test['임대료'] = test['임대료'].fillna(test.groupby(['임대건물구분','지역','공급유형'])['임대료'].transform('mean'))\n",
        "# test['임대료'] = test['임대료'].fillna(test.groupby(['지역'])['임대료'].transform('mean'))\n",
        "# print(test.임대료.isnull().sum())"
      ],
      "execution_count": null,
      "outputs": [
        {
          "output_type": "stream",
          "text": [
            "0\n",
            "0\n"
          ],
          "name": "stdout"
        }
      ]
    },
    {
      "cell_type": "markdown",
      "metadata": {
        "id": "kWCciYDGHXXD"
      },
      "source": [
        "지하철역수, 버스정류장 수 결측치 보간"
      ]
    },
    {
      "cell_type": "code",
      "metadata": {
        "colab": {
          "base_uri": "https://localhost:8080/",
          "height": 49
        },
        "id": "grkMaxUVDxle",
        "outputId": "42658205-dcb8-4a78-ac37-8615830537f7"
      },
      "source": [
        "temp = train.drop_duplicates(['단지코드','지하철역수'])\n",
        "temp[temp.duplicated(['단지코드'])]  # 하나의 단지에서 지하철역수, 버스정류장수가 null값과 not null값을 동시에 가지는 경우는 없음"
      ],
      "execution_count": null,
      "outputs": [
        {
          "output_type": "execute_result",
          "data": {
            "text/html": [
              "<div>\n",
              "<style scoped>\n",
              "    .dataframe tbody tr th:only-of-type {\n",
              "        vertical-align: middle;\n",
              "    }\n",
              "\n",
              "    .dataframe tbody tr th {\n",
              "        vertical-align: top;\n",
              "    }\n",
              "\n",
              "    .dataframe thead th {\n",
              "        text-align: right;\n",
              "    }\n",
              "</style>\n",
              "<table border=\"1\" class=\"dataframe\">\n",
              "  <thead>\n",
              "    <tr style=\"text-align: right;\">\n",
              "      <th></th>\n",
              "      <th>단지코드</th>\n",
              "      <th>총세대수</th>\n",
              "      <th>임대건물구분</th>\n",
              "      <th>지역</th>\n",
              "      <th>공급유형</th>\n",
              "      <th>전용면적</th>\n",
              "      <th>전용면적별세대수</th>\n",
              "      <th>공가수</th>\n",
              "      <th>자격유형</th>\n",
              "      <th>임대보증금</th>\n",
              "      <th>임대료</th>\n",
              "      <th>지하철역수</th>\n",
              "      <th>버스정류장수</th>\n",
              "      <th>단지내주차면수</th>\n",
              "      <th>등록차량수</th>\n",
              "    </tr>\n",
              "  </thead>\n",
              "  <tbody>\n",
              "  </tbody>\n",
              "</table>\n",
              "</div>"
            ],
            "text/plain": [
              "Empty DataFrame\n",
              "Columns: [단지코드, 총세대수, 임대건물구분, 지역, 공급유형, 전용면적, 전용면적별세대수, 공가수, 자격유형, 임대보증금, 임대료, 지하철역수, 버스정류장수, 단지내주차면수, 등록차량수]\n",
              "Index: []"
            ]
          },
          "metadata": {
            "tags": []
          },
          "execution_count": 43
        }
      ]
    },
    {
      "cell_type": "code",
      "metadata": {
        "id": "YJRMOngkGYsL"
      },
      "source": [
        "# 지하철역과 버스정류장수의 null값은 0일 가능성이 높으므로 0으로 대치\n",
        "train[['지하철역수','버스정류장수']] = train[['지하철역수','버스정류장수']].fillna(0)\n",
        "test[['지하철역수','버스정류장수']] = test[['지하철역수','버스정류장수']].fillna(0)"
      ],
      "execution_count": null,
      "outputs": []
    },
    {
      "cell_type": "markdown",
      "metadata": {
        "id": "l8dYpRrMH2Wh"
      },
      "source": [
        "자격유형 결측치 보간\n",
        "- 결측치는 test셋에만 존재 (2개)\n",
        "- 단순 최빈값 대치"
      ]
    },
    {
      "cell_type": "code",
      "metadata": {
        "colab": {
          "base_uri": "https://localhost:8080/"
        },
        "id": "ztxB_59iIVyn",
        "outputId": "f886c3ec-e643-4e22-de86-d7a04d646d97"
      },
      "source": [
        "print(train['자격유형'].isnull().sum())\n",
        "print(test['자격유형'].isnull().sum())"
      ],
      "execution_count": null,
      "outputs": [
        {
          "output_type": "stream",
          "text": [
            "0\n",
            "2\n"
          ],
          "name": "stdout"
        }
      ]
    },
    {
      "cell_type": "code",
      "metadata": {
        "colab": {
          "base_uri": "https://localhost:8080/"
        },
        "id": "dKKUXDIXIk6L",
        "outputId": "b1ef7647-d3ba-4795-e89d-b5ab3457a042"
      },
      "source": [
        "train['자격유형'].value_counts()  # 결측치 처리의 기준은 train set / test set은 only transform"
      ],
      "execution_count": null,
      "outputs": [
        {
          "output_type": "execute_result",
          "data": {
            "text/plain": [
              "A    1801\n",
              "D     569\n",
              "H     155\n",
              "J     114\n",
              "C      95\n",
              "I      49\n",
              "E      37\n",
              "K      33\n",
              "L      33\n",
              "N      30\n",
              "B      21\n",
              "G       9\n",
              "F       3\n",
              "M       2\n",
              "O       1\n",
              "Name: 자격유형, dtype: int64"
            ]
          },
          "metadata": {
            "tags": []
          },
          "execution_count": 19
        }
      ]
    },
    {
      "cell_type": "code",
      "metadata": {
        "colab": {
          "base_uri": "https://localhost:8080/"
        },
        "id": "LDlSisUBIV1J",
        "outputId": "fb334849-5f4d-483d-bb53-838fab7b3b79"
      },
      "source": [
        "test['자격유형'] = test['자격유형'].fillna('A')\n",
        "print(test['자격유형'].isnull().sum())"
      ],
      "execution_count": null,
      "outputs": [
        {
          "output_type": "stream",
          "text": [
            "0\n"
          ],
          "name": "stdout"
        }
      ]
    },
    {
      "cell_type": "markdown",
      "metadata": {
        "id": "orlrZOEd7Jdr"
      },
      "source": [
        "## 이상치 처리"
      ]
    },
    {
      "cell_type": "code",
      "metadata": {
        "id": "XXbh0hwdJ72_"
      },
      "source": [
        "train.loc[train['임대료']>= 800000,'임대료'] = 800000\n",
        "test.loc[test['임대료']>= 800000,'임대료'] = 800000\n",
        "\n",
        "\n",
        "train.loc[train['임대보증금']>= 170000000, '임대보증금'] = 170000000\n",
        "test.loc[test['임대보증금']>= 170000000, '임대보증금'] = 170000000\n",
        "\n",
        "\n",
        "train.loc[train['전용면적']>= 400, '전용면적'] = 400\n",
        "test.loc[test['전용면적']>= 400, '전용면적'] = 400\n",
        "\n",
        "\n",
        "train.loc[train['전용면적별세대수']>= 1400, '전용면적별세대수'] = 1400\n",
        "test.loc[test['전용면적별세대수']>= 1400, '전용면적별세대수'] = 1400"
      ],
      "execution_count": null,
      "outputs": []
    },
    {
      "cell_type": "code",
      "metadata": {
        "id": "ITdV8aHO_FuY"
      },
      "source": [
        ""
      ],
      "execution_count": null,
      "outputs": []
    },
    {
      "cell_type": "code",
      "metadata": {
        "id": "EeuYypyk_mH4"
      },
      "source": [
        "# test에 없는 행들은 제거\n",
        "train = train[~(train.지역=='서울특별시') | (train.공급유형=='공공분양') | (train.공급유형=='공공임대(5년)') | (train.공급유형=='장기전세')].reset_index(drop=True)"
      ],
      "execution_count": null,
      "outputs": []
    },
    {
      "cell_type": "markdown",
      "metadata": {
        "id": "-XsdLQpWLuUd"
      },
      "source": [
        "## 파생변수 생성"
      ]
    },
    {
      "cell_type": "markdown",
      "metadata": {
        "id": "N3x6FBY8oCKl"
      },
      "source": [
        "임대보증금 / 임대료 로그"
      ]
    },
    {
      "cell_type": "code",
      "metadata": {
        "id": "0gIEvDQSn6Ku"
      },
      "source": [
        "train['임대보증금로그'] = np.log1p(train['임대보증금'])\n",
        "test['임대보증금로그'] = np.log1p(test['임대보증금'])"
      ],
      "execution_count": null,
      "outputs": []
    },
    {
      "cell_type": "code",
      "metadata": {
        "id": "ki7T0N1Vn6CQ"
      },
      "source": [
        "train['임대료로그'] = np.log1p(train['임대료'])\n",
        "test['임대료로그'] = np.log1p(test['임대료'])"
      ],
      "execution_count": null,
      "outputs": []
    },
    {
      "cell_type": "markdown",
      "metadata": {
        "id": "gUSsuKJB9Ani"
      },
      "source": [
        "총세대수 범주형화"
      ]
    },
    {
      "cell_type": "code",
      "metadata": {
        "colab": {
          "base_uri": "https://localhost:8080/"
        },
        "id": "ko-sgEzD9Anl",
        "outputId": "c84d84a5-8d1f-4fdf-d7a9-c90fe729ed45"
      },
      "source": [
        "def cat_househld(x):\n",
        "  if x < 500:\n",
        "    r = 'under 500'\n",
        "  elif (x >= 500) & (x < 1000):\n",
        "    r = '500~1000'\n",
        "  elif (x >= 1000) & (x < 1500):\n",
        "    r = '1000~1500'\n",
        "  elif (x >= 1500) & (x < 2000):\n",
        "    r = '1500~2000'\n",
        "  else:\n",
        "    r = 'over 2000'\n",
        "  \n",
        "  return r\n",
        "\n",
        "train['총세대수_그룹'] = train['총세대수'].apply(lambda x: cat_househld(x))\n",
        "print(train.총세대수_그룹.value_counts())\n",
        "\n",
        "test['총세대수_그룹'] = test['총세대수'].apply(lambda x: cat_househld(x))\n",
        "print(test.총세대수_그룹.value_counts())"
      ],
      "execution_count": null,
      "outputs": [
        {
          "output_type": "stream",
          "text": [
            "500~1000     1259\n",
            "under 500     685\n",
            "1000~1500     595\n",
            "1500~2000     236\n",
            "over 2000     122\n",
            "Name: 총세대수_그룹, dtype: int64\n",
            "500~1000     409\n",
            "under 500    276\n",
            "1000~1500    253\n",
            "over 2000     46\n",
            "1500~2000     38\n",
            "Name: 총세대수_그룹, dtype: int64\n"
          ],
          "name": "stdout"
        }
      ]
    },
    {
      "cell_type": "markdown",
      "metadata": {
        "id": "Pc4oGd77MK9v"
      },
      "source": [
        "전용면적 변수 범주형화"
      ]
    },
    {
      "cell_type": "code",
      "metadata": {
        "colab": {
          "base_uri": "https://localhost:8080/"
        },
        "id": "DVwY6DY4MjuE",
        "outputId": "3dccdd9e-8bac-45b1-d2dd-cc6e80004951"
      },
      "source": [
        "train['전용면적'].describe()"
      ],
      "execution_count": null,
      "outputs": [
        {
          "output_type": "execute_result",
          "data": {
            "text/plain": [
              "count    2897.000000\n",
              "mean       44.285109\n",
              "std        27.147289\n",
              "min        12.620000\n",
              "25%        32.100000\n",
              "50%        39.910000\n",
              "75%        51.490000\n",
              "max       400.000000\n",
              "Name: 전용면적, dtype: float64"
            ]
          },
          "metadata": {
            "tags": []
          },
          "execution_count": 84
        }
      ]
    },
    {
      "cell_type": "code",
      "metadata": {
        "colab": {
          "base_uri": "https://localhost:8080/"
        },
        "id": "Nhwj_-KtMJLj",
        "outputId": "02bb2d2c-5f91-4f50-8fb6-8409093684b3"
      },
      "source": [
        "def cat_area(x):\n",
        "  if x < 20:\n",
        "    r = 'under 20'\n",
        "  elif (x >= 20) & (x < 40):\n",
        "    r = '20~40'\n",
        "  elif (x >= 40) & (x < 60):\n",
        "    r = '40~60'\n",
        "  elif (x >= 60) & (x < 80):\n",
        "    r = '60~80'\n",
        "  elif (x >= 80) & (x < 100):\n",
        "    r = '80~100'\n",
        "  else:\n",
        "    r = 'over 100'\n",
        "  \n",
        "  return r\n",
        "\n",
        "train['전용면적_그룹'] = train['전용면적'].apply(lambda x: cat_area(x))\n",
        "print(train.전용면적_그룹.value_counts())\n",
        "\n",
        "test['전용면적_그룹'] = test['전용면적'].apply(lambda x: cat_area(x))\n",
        "print(test.전용면적_그룹.value_counts())"
      ],
      "execution_count": null,
      "outputs": [
        {
          "output_type": "stream",
          "text": [
            "20~40       1387\n",
            "40~60       1263\n",
            "under 20      81\n",
            "60~80         70\n",
            "80~100        68\n",
            "over 100      28\n",
            "Name: 전용면적_그룹, dtype: int64\n",
            "20~40       505\n",
            "40~60       429\n",
            "under 20     51\n",
            "80~100       15\n",
            "60~80        13\n",
            "over 100      9\n",
            "Name: 전용면적_그룹, dtype: int64\n"
          ],
          "name": "stdout"
        }
      ]
    },
    {
      "cell_type": "markdown",
      "metadata": {
        "id": "bpxTxlvc7Yam"
      },
      "source": [
        "단지내주차면수 그룹화"
      ]
    },
    {
      "cell_type": "code",
      "metadata": {
        "id": "-QVpYlV00S8E",
        "colab": {
          "base_uri": "https://localhost:8080/"
        },
        "outputId": "8b92e821-049c-4a13-9115-c1c026c9ded8"
      },
      "source": [
        "def cat_parking(x):\n",
        "  if x < 500:\n",
        "    r = 'under 500'\n",
        "  elif (x >= 500) & (x < 1000):\n",
        "    r = '500~1000'\n",
        "  elif (x >= 1000) & (x < 1500):\n",
        "    r = '1000~1500'\n",
        "  elif (x >= 1500) & (x < 2000):\n",
        "    r = '1500~2000'\n",
        "  else:\n",
        "    r = 'over 2000'\n",
        "  \n",
        "  return r\n",
        "\n",
        "train['단지내주차면수_그룹'] = train['단지내주차면수'].apply(lambda x: cat_parking(x))\n",
        "print(train.단지내주차면수_그룹.value_counts())\n",
        "\n",
        "test['단지내주차면수_그룹'] = test['단지내주차면수'].apply(lambda x: cat_parking(x))\n",
        "print(test.단지내주차면수_그룹.value_counts())"
      ],
      "execution_count": null,
      "outputs": [
        {
          "output_type": "stream",
          "text": [
            "under 500    1421\n",
            "500~1000     1045\n",
            "1000~1500     313\n",
            "1500~2000     118\n",
            "Name: 단지내주차면수_그룹, dtype: int64\n",
            "under 500    547\n",
            "500~1000     334\n",
            "1000~1500    130\n",
            "1500~2000     11\n",
            "Name: 단지내주차면수_그룹, dtype: int64\n"
          ],
          "name": "stdout"
        }
      ]
    },
    {
      "cell_type": "markdown",
      "metadata": {
        "id": "9Xh4xZDGNzKi"
      },
      "source": [
        "임대료 대비 보증금"
      ]
    },
    {
      "cell_type": "code",
      "metadata": {
        "id": "tgeTbyG9LwcM"
      },
      "source": [
        "train['임대료대비보증금'] = train['임대보증금']/(train['임대료']+1)\n",
        "test['임대료대비보증금'] = test['임대보증금']/(test['임대료']+1)"
      ],
      "execution_count": null,
      "outputs": []
    },
    {
      "cell_type": "markdown",
      "metadata": {
        "id": "CKe07vPuAAJc"
      },
      "source": [
        "총세대수 대비 주차면수"
      ]
    },
    {
      "cell_type": "code",
      "metadata": {
        "id": "uNweasGa_4JX"
      },
      "source": [
        "train['총세대수대비주차면수'] = train['단지내주차면수']/train['총세대수']\n",
        "test['총세대수대비주차면수'] = test['단지내주차면수']/test['총세대수']"
      ],
      "execution_count": null,
      "outputs": []
    },
    {
      "cell_type": "markdown",
      "metadata": {
        "id": "vsUnO_msAjtl"
      },
      "source": [
        "면적별세대수 대비 주차면수"
      ]
    },
    {
      "cell_type": "code",
      "metadata": {
        "id": "xJkEwzrO_3gF"
      },
      "source": [
        "train['면적별세대수대비주차면수'] = train['단지내주차면수']/train['전용면적별세대수']\n",
        "test['면적별세대수대비주차면수'] = test['단지내주차면수']/test['전용면적별세대수']"
      ],
      "execution_count": null,
      "outputs": []
    },
    {
      "cell_type": "markdown",
      "metadata": {
        "id": "msQzlxZH8LO3"
      },
      "source": [
        "대중교통 대비 주차면수"
      ]
    },
    {
      "cell_type": "code",
      "metadata": {
        "id": "07HoSqn_752f"
      },
      "source": [
        "train['대중교통대비주차면수'] = train['단지내주차면수']/(train['지하철역수']+train['버스정류장수']+1)\n",
        "test['대중교통대비주차면수'] = test['단지내주차면수']/(test['지하철역수']+test['버스정류장수']+1)"
      ],
      "execution_count": null,
      "outputs": []
    },
    {
      "cell_type": "code",
      "metadata": {
        "colab": {
          "base_uri": "https://localhost:8080/",
          "height": 595
        },
        "id": "XCpp5iA3Ok7H",
        "outputId": "009c8d5e-0274-47e0-ee72-940ad1a0b689"
      },
      "source": [
        "train.head()"
      ],
      "execution_count": null,
      "outputs": [
        {
          "output_type": "execute_result",
          "data": {
            "text/html": [
              "<div>\n",
              "<style scoped>\n",
              "    .dataframe tbody tr th:only-of-type {\n",
              "        vertical-align: middle;\n",
              "    }\n",
              "\n",
              "    .dataframe tbody tr th {\n",
              "        vertical-align: top;\n",
              "    }\n",
              "\n",
              "    .dataframe thead th {\n",
              "        text-align: right;\n",
              "    }\n",
              "</style>\n",
              "<table border=\"1\" class=\"dataframe\">\n",
              "  <thead>\n",
              "    <tr style=\"text-align: right;\">\n",
              "      <th></th>\n",
              "      <th>단지코드</th>\n",
              "      <th>총세대수</th>\n",
              "      <th>임대건물구분</th>\n",
              "      <th>지역</th>\n",
              "      <th>공급유형</th>\n",
              "      <th>전용면적</th>\n",
              "      <th>전용면적별세대수</th>\n",
              "      <th>공가수</th>\n",
              "      <th>자격유형</th>\n",
              "      <th>임대보증금</th>\n",
              "      <th>임대료</th>\n",
              "      <th>지하철역수</th>\n",
              "      <th>버스정류장수</th>\n",
              "      <th>단지내주차면수</th>\n",
              "      <th>등록차량수</th>\n",
              "      <th>임대보증금로그</th>\n",
              "      <th>임대료로그</th>\n",
              "      <th>총세대수_그룹</th>\n",
              "      <th>전용면적_그룹</th>\n",
              "      <th>단지내주차면수_그룹</th>\n",
              "      <th>임대료대비보증금</th>\n",
              "      <th>총세대수대비주차면수</th>\n",
              "      <th>면적별세대수대비주차면수</th>\n",
              "      <th>대중교통대비주차면수</th>\n",
              "    </tr>\n",
              "  </thead>\n",
              "  <tbody>\n",
              "    <tr>\n",
              "      <th>0</th>\n",
              "      <td>C2483</td>\n",
              "      <td>900</td>\n",
              "      <td>아파트</td>\n",
              "      <td>경상북도</td>\n",
              "      <td>국민임대</td>\n",
              "      <td>39.72</td>\n",
              "      <td>134</td>\n",
              "      <td>38.0</td>\n",
              "      <td>A</td>\n",
              "      <td>15667000.0</td>\n",
              "      <td>103680.0</td>\n",
              "      <td>0.0</td>\n",
              "      <td>3.0</td>\n",
              "      <td>1425.0</td>\n",
              "      <td>1015.0</td>\n",
              "      <td>16.567067</td>\n",
              "      <td>11.549074</td>\n",
              "      <td>500~1000</td>\n",
              "      <td>20~40</td>\n",
              "      <td>1000~1500</td>\n",
              "      <td>151.107725</td>\n",
              "      <td>1.583333</td>\n",
              "      <td>10.634328</td>\n",
              "      <td>356.25</td>\n",
              "    </tr>\n",
              "    <tr>\n",
              "      <th>1</th>\n",
              "      <td>C2483</td>\n",
              "      <td>900</td>\n",
              "      <td>아파트</td>\n",
              "      <td>경상북도</td>\n",
              "      <td>국민임대</td>\n",
              "      <td>39.72</td>\n",
              "      <td>15</td>\n",
              "      <td>38.0</td>\n",
              "      <td>A</td>\n",
              "      <td>15667000.0</td>\n",
              "      <td>103680.0</td>\n",
              "      <td>0.0</td>\n",
              "      <td>3.0</td>\n",
              "      <td>1425.0</td>\n",
              "      <td>1015.0</td>\n",
              "      <td>16.567067</td>\n",
              "      <td>11.549074</td>\n",
              "      <td>500~1000</td>\n",
              "      <td>20~40</td>\n",
              "      <td>1000~1500</td>\n",
              "      <td>151.107725</td>\n",
              "      <td>1.583333</td>\n",
              "      <td>95.000000</td>\n",
              "      <td>356.25</td>\n",
              "    </tr>\n",
              "    <tr>\n",
              "      <th>2</th>\n",
              "      <td>C2483</td>\n",
              "      <td>900</td>\n",
              "      <td>아파트</td>\n",
              "      <td>경상북도</td>\n",
              "      <td>국민임대</td>\n",
              "      <td>51.93</td>\n",
              "      <td>385</td>\n",
              "      <td>38.0</td>\n",
              "      <td>A</td>\n",
              "      <td>27304000.0</td>\n",
              "      <td>184330.0</td>\n",
              "      <td>0.0</td>\n",
              "      <td>3.0</td>\n",
              "      <td>1425.0</td>\n",
              "      <td>1015.0</td>\n",
              "      <td>17.122544</td>\n",
              "      <td>12.124488</td>\n",
              "      <td>500~1000</td>\n",
              "      <td>40~60</td>\n",
              "      <td>1000~1500</td>\n",
              "      <td>148.124841</td>\n",
              "      <td>1.583333</td>\n",
              "      <td>3.701299</td>\n",
              "      <td>356.25</td>\n",
              "    </tr>\n",
              "    <tr>\n",
              "      <th>3</th>\n",
              "      <td>C2483</td>\n",
              "      <td>900</td>\n",
              "      <td>아파트</td>\n",
              "      <td>경상북도</td>\n",
              "      <td>국민임대</td>\n",
              "      <td>51.93</td>\n",
              "      <td>15</td>\n",
              "      <td>38.0</td>\n",
              "      <td>A</td>\n",
              "      <td>27304000.0</td>\n",
              "      <td>184330.0</td>\n",
              "      <td>0.0</td>\n",
              "      <td>3.0</td>\n",
              "      <td>1425.0</td>\n",
              "      <td>1015.0</td>\n",
              "      <td>17.122544</td>\n",
              "      <td>12.124488</td>\n",
              "      <td>500~1000</td>\n",
              "      <td>40~60</td>\n",
              "      <td>1000~1500</td>\n",
              "      <td>148.124841</td>\n",
              "      <td>1.583333</td>\n",
              "      <td>95.000000</td>\n",
              "      <td>356.25</td>\n",
              "    </tr>\n",
              "    <tr>\n",
              "      <th>4</th>\n",
              "      <td>C2483</td>\n",
              "      <td>900</td>\n",
              "      <td>아파트</td>\n",
              "      <td>경상북도</td>\n",
              "      <td>국민임대</td>\n",
              "      <td>51.93</td>\n",
              "      <td>41</td>\n",
              "      <td>38.0</td>\n",
              "      <td>A</td>\n",
              "      <td>27304000.0</td>\n",
              "      <td>184330.0</td>\n",
              "      <td>0.0</td>\n",
              "      <td>3.0</td>\n",
              "      <td>1425.0</td>\n",
              "      <td>1015.0</td>\n",
              "      <td>17.122544</td>\n",
              "      <td>12.124488</td>\n",
              "      <td>500~1000</td>\n",
              "      <td>40~60</td>\n",
              "      <td>1000~1500</td>\n",
              "      <td>148.124841</td>\n",
              "      <td>1.583333</td>\n",
              "      <td>34.756098</td>\n",
              "      <td>356.25</td>\n",
              "    </tr>\n",
              "  </tbody>\n",
              "</table>\n",
              "</div>"
            ],
            "text/plain": [
              "    단지코드  총세대수 임대건물구분    지역  ...    임대료대비보증금  총세대수대비주차면수  면적별세대수대비주차면수  대중교통대비주차면수\n",
              "0  C2483   900    아파트  경상북도  ...  151.107725    1.583333     10.634328      356.25\n",
              "1  C2483   900    아파트  경상북도  ...  151.107725    1.583333     95.000000      356.25\n",
              "2  C2483   900    아파트  경상북도  ...  148.124841    1.583333      3.701299      356.25\n",
              "3  C2483   900    아파트  경상북도  ...  148.124841    1.583333     95.000000      356.25\n",
              "4  C2483   900    아파트  경상북도  ...  148.124841    1.583333     34.756098      356.25\n",
              "\n",
              "[5 rows x 24 columns]"
            ]
          },
          "metadata": {
            "tags": []
          },
          "execution_count": 96
        }
      ]
    },
    {
      "cell_type": "code",
      "metadata": {
        "colab": {
          "base_uri": "https://localhost:8080/",
          "height": 595
        },
        "id": "q4qS-4lXUBFd",
        "outputId": "11337a01-fe42-49df-e2c4-8336528e4449"
      },
      "source": [
        "test.head()"
      ],
      "execution_count": null,
      "outputs": [
        {
          "output_type": "execute_result",
          "data": {
            "text/html": [
              "<div>\n",
              "<style scoped>\n",
              "    .dataframe tbody tr th:only-of-type {\n",
              "        vertical-align: middle;\n",
              "    }\n",
              "\n",
              "    .dataframe tbody tr th {\n",
              "        vertical-align: top;\n",
              "    }\n",
              "\n",
              "    .dataframe thead th {\n",
              "        text-align: right;\n",
              "    }\n",
              "</style>\n",
              "<table border=\"1\" class=\"dataframe\">\n",
              "  <thead>\n",
              "    <tr style=\"text-align: right;\">\n",
              "      <th></th>\n",
              "      <th>단지코드</th>\n",
              "      <th>총세대수</th>\n",
              "      <th>임대건물구분</th>\n",
              "      <th>지역</th>\n",
              "      <th>공급유형</th>\n",
              "      <th>전용면적</th>\n",
              "      <th>전용면적별세대수</th>\n",
              "      <th>공가수</th>\n",
              "      <th>자격유형</th>\n",
              "      <th>임대보증금</th>\n",
              "      <th>임대료</th>\n",
              "      <th>지하철역수</th>\n",
              "      <th>버스정류장수</th>\n",
              "      <th>단지내주차면수</th>\n",
              "      <th>임대보증금로그</th>\n",
              "      <th>임대료로그</th>\n",
              "      <th>총세대수_그룹</th>\n",
              "      <th>전용면적_그룹</th>\n",
              "      <th>단지내주차면수_그룹</th>\n",
              "      <th>임대료대비보증금</th>\n",
              "      <th>총세대수대비주차면수</th>\n",
              "      <th>면적별세대수대비주차면수</th>\n",
              "      <th>대중교통대비주차면수</th>\n",
              "    </tr>\n",
              "  </thead>\n",
              "  <tbody>\n",
              "    <tr>\n",
              "      <th>0</th>\n",
              "      <td>C1072</td>\n",
              "      <td>754</td>\n",
              "      <td>아파트</td>\n",
              "      <td>경기도</td>\n",
              "      <td>국민임대</td>\n",
              "      <td>39.79</td>\n",
              "      <td>116</td>\n",
              "      <td>14.0</td>\n",
              "      <td>H</td>\n",
              "      <td>22830000.0</td>\n",
              "      <td>189840.0</td>\n",
              "      <td>0.0</td>\n",
              "      <td>2.0</td>\n",
              "      <td>683.0</td>\n",
              "      <td>16.943586</td>\n",
              "      <td>12.153942</td>\n",
              "      <td>500~1000</td>\n",
              "      <td>20~40</td>\n",
              "      <td>500~1000</td>\n",
              "      <td>120.258532</td>\n",
              "      <td>0.905836</td>\n",
              "      <td>5.887931</td>\n",
              "      <td>227.666667</td>\n",
              "    </tr>\n",
              "    <tr>\n",
              "      <th>1</th>\n",
              "      <td>C1072</td>\n",
              "      <td>754</td>\n",
              "      <td>아파트</td>\n",
              "      <td>경기도</td>\n",
              "      <td>국민임대</td>\n",
              "      <td>46.81</td>\n",
              "      <td>30</td>\n",
              "      <td>14.0</td>\n",
              "      <td>A</td>\n",
              "      <td>36048000.0</td>\n",
              "      <td>249930.0</td>\n",
              "      <td>0.0</td>\n",
              "      <td>2.0</td>\n",
              "      <td>683.0</td>\n",
              "      <td>17.400362</td>\n",
              "      <td>12.428940</td>\n",
              "      <td>500~1000</td>\n",
              "      <td>40~60</td>\n",
              "      <td>500~1000</td>\n",
              "      <td>144.231808</td>\n",
              "      <td>0.905836</td>\n",
              "      <td>22.766667</td>\n",
              "      <td>227.666667</td>\n",
              "    </tr>\n",
              "    <tr>\n",
              "      <th>2</th>\n",
              "      <td>C1072</td>\n",
              "      <td>754</td>\n",
              "      <td>아파트</td>\n",
              "      <td>경기도</td>\n",
              "      <td>국민임대</td>\n",
              "      <td>46.90</td>\n",
              "      <td>112</td>\n",
              "      <td>14.0</td>\n",
              "      <td>H</td>\n",
              "      <td>36048000.0</td>\n",
              "      <td>249930.0</td>\n",
              "      <td>0.0</td>\n",
              "      <td>2.0</td>\n",
              "      <td>683.0</td>\n",
              "      <td>17.400362</td>\n",
              "      <td>12.428940</td>\n",
              "      <td>500~1000</td>\n",
              "      <td>40~60</td>\n",
              "      <td>500~1000</td>\n",
              "      <td>144.231808</td>\n",
              "      <td>0.905836</td>\n",
              "      <td>6.098214</td>\n",
              "      <td>227.666667</td>\n",
              "    </tr>\n",
              "    <tr>\n",
              "      <th>3</th>\n",
              "      <td>C1072</td>\n",
              "      <td>754</td>\n",
              "      <td>아파트</td>\n",
              "      <td>경기도</td>\n",
              "      <td>국민임대</td>\n",
              "      <td>46.90</td>\n",
              "      <td>120</td>\n",
              "      <td>14.0</td>\n",
              "      <td>H</td>\n",
              "      <td>36048000.0</td>\n",
              "      <td>249930.0</td>\n",
              "      <td>0.0</td>\n",
              "      <td>2.0</td>\n",
              "      <td>683.0</td>\n",
              "      <td>17.400362</td>\n",
              "      <td>12.428940</td>\n",
              "      <td>500~1000</td>\n",
              "      <td>40~60</td>\n",
              "      <td>500~1000</td>\n",
              "      <td>144.231808</td>\n",
              "      <td>0.905836</td>\n",
              "      <td>5.691667</td>\n",
              "      <td>227.666667</td>\n",
              "    </tr>\n",
              "    <tr>\n",
              "      <th>4</th>\n",
              "      <td>C1072</td>\n",
              "      <td>754</td>\n",
              "      <td>아파트</td>\n",
              "      <td>경기도</td>\n",
              "      <td>국민임대</td>\n",
              "      <td>51.46</td>\n",
              "      <td>60</td>\n",
              "      <td>14.0</td>\n",
              "      <td>H</td>\n",
              "      <td>43497000.0</td>\n",
              "      <td>296780.0</td>\n",
              "      <td>0.0</td>\n",
              "      <td>2.0</td>\n",
              "      <td>683.0</td>\n",
              "      <td>17.588203</td>\n",
              "      <td>12.600750</td>\n",
              "      <td>500~1000</td>\n",
              "      <td>40~60</td>\n",
              "      <td>500~1000</td>\n",
              "      <td>146.562617</td>\n",
              "      <td>0.905836</td>\n",
              "      <td>11.383333</td>\n",
              "      <td>227.666667</td>\n",
              "    </tr>\n",
              "  </tbody>\n",
              "</table>\n",
              "</div>"
            ],
            "text/plain": [
              "    단지코드  총세대수 임대건물구분   지역  ...    임대료대비보증금  총세대수대비주차면수  면적별세대수대비주차면수  대중교통대비주차면수\n",
              "0  C1072   754    아파트  경기도  ...  120.258532    0.905836      5.887931  227.666667\n",
              "1  C1072   754    아파트  경기도  ...  144.231808    0.905836     22.766667  227.666667\n",
              "2  C1072   754    아파트  경기도  ...  144.231808    0.905836      6.098214  227.666667\n",
              "3  C1072   754    아파트  경기도  ...  144.231808    0.905836      5.691667  227.666667\n",
              "4  C1072   754    아파트  경기도  ...  146.562617    0.905836     11.383333  227.666667\n",
              "\n",
              "[5 rows x 23 columns]"
            ]
          },
          "metadata": {
            "tags": []
          },
          "execution_count": 97
        }
      ]
    },
    {
      "cell_type": "markdown",
      "metadata": {
        "id": "fg1fCgFFO83y"
      },
      "source": [
        "## 인코딩"
      ]
    },
    {
      "cell_type": "code",
      "metadata": {
        "id": "GSk2nLvPR_w1"
      },
      "source": [
        "cat_col = ['임대건물구분', '지역', '공급유형', '자격유형', '총세대수_그룹','전용면적_그룹','단지내주차면수_그룹']"
      ],
      "execution_count": null,
      "outputs": []
    },
    {
      "cell_type": "code",
      "metadata": {
        "colab": {
          "base_uri": "https://localhost:8080/"
        },
        "id": "Mm-lDFC1QxB-",
        "outputId": "936c0ead-9276-46f1-e6b7-ece11f0d2bea"
      },
      "source": [
        "for col in cat_col:\n",
        "  print(col, train[col].unique(), len(train[col].unique()))"
      ],
      "execution_count": null,
      "outputs": [
        {
          "output_type": "stream",
          "text": [
            "임대건물구분 ['아파트' '상가'] 2\n",
            "지역 ['경상북도' '경상남도' '대전광역시' '경기도' '전라북도' '강원도' '광주광역시' '충청남도' '부산광역시' '제주특별자치도'\n",
            " '울산광역시' '충청북도' '전라남도' '대구광역시' '서울특별시' '세종특별자치시'] 16\n",
            "공급유형 ['국민임대' '공공임대(50년)' '영구임대' '임대상가' '공공임대(10년)' '장기전세' '공공분양' '공공임대(분납)'\n",
            " '행복주택' '공공임대(5년)'] 10\n",
            "자격유형 ['A' 'B' 'C' 'D' 'E' 'F' 'G' 'H' 'I' 'J' 'K' 'L' 'M' 'N' 'O'] 15\n",
            "총세대수_그룹 ['500~1000' '1000~1500' '1500~2000' 'under 500' 'over 2000'] 5\n",
            "전용면적_그룹 ['20~40' '40~60' '60~80' 'under 20' 'over 100' '80~100'] 6\n",
            "단지내주차면수_그룹 ['1000~1500' '500~1000' 'under 500' '1500~2000'] 4\n"
          ],
          "name": "stdout"
        }
      ]
    },
    {
      "cell_type": "code",
      "metadata": {
        "colab": {
          "base_uri": "https://localhost:8080/"
        },
        "id": "MthZOV73QxFV",
        "outputId": "0e4e8d23-51fb-444e-b07f-81bef6659f56"
      },
      "source": [
        "for col in cat_col:\n",
        "  print(col, test[col].unique(), len(test[col].unique()))"
      ],
      "execution_count": null,
      "outputs": [
        {
          "output_type": "stream",
          "text": [
            "임대건물구분 ['아파트' '상가'] 2\n",
            "지역 ['경기도' '부산광역시' '전라북도' '경상남도' '충청남도' '대전광역시' '제주특별자치도' '강원도' '울산광역시' '경상북도'\n",
            " '충청북도' '광주광역시' '전라남도' '대구광역시' '세종특별자치시'] 15\n",
            "공급유형 ['국민임대' '영구임대' '임대상가' '공공임대(50년)' '공공임대(10년)' '공공임대(분납)' '행복주택'] 7\n",
            "자격유형 ['H' 'A' 'E' 'C' 'D' 'G' 'I' 'J' 'K' 'L' 'M' 'N'] 12\n",
            "총세대수_그룹 ['500~1000' '1000~1500' '1500~2000' 'under 500' 'over 2000'] 5\n",
            "전용면적_그룹 ['20~40' '40~60' '60~80' 'over 100' 'under 20' '80~100'] 6\n",
            "단지내주차면수_그룹 ['500~1000' '1000~1500' '1500~2000' 'under 500'] 4\n"
          ],
          "name": "stdout"
        }
      ]
    },
    {
      "cell_type": "code",
      "metadata": {
        "id": "qMqaJB5SRZ0S"
      },
      "source": [
        ""
      ],
      "execution_count": null,
      "outputs": []
    },
    {
      "cell_type": "code",
      "metadata": {
        "colab": {
          "base_uri": "https://localhost:8080/"
        },
        "id": "zkSBL1heSg97",
        "outputId": "5e00125d-1985-45a5-afda-d0569ff45aed"
      },
      "source": [
        "le = LabelEncoder()\n",
        "\n",
        "train_enc = train.copy()\n",
        "test_enc = test.copy()\n",
        "\n",
        "train_enc['지역'] = le.fit_transform(train_enc['지역'])\n",
        "test_enc['지역'] = le.transform(test_enc['지역'])\n",
        "test_enc.head()"
      ],
      "execution_count": null,
      "outputs": [
        {
          "output_type": "execute_result",
          "data": {
            "text/plain": [
              "array([3, 3, 3, ..., 0, 0, 0])"
            ]
          },
          "metadata": {
            "tags": []
          },
          "execution_count": 104
        }
      ]
    },
    {
      "cell_type": "code",
      "metadata": {
        "id": "5dB0AlKbS7A3"
      },
      "source": [
        ""
      ],
      "execution_count": null,
      "outputs": []
    },
    {
      "cell_type": "code",
      "metadata": {
        "id": "kZe55PSDQoFq"
      },
      "source": [
        ""
      ],
      "execution_count": null,
      "outputs": []
    },
    {
      "cell_type": "code",
      "metadata": {
        "colab": {
          "base_uri": "https://localhost:8080/",
          "height": 607
        },
        "id": "rnKX_pUXTL2r",
        "outputId": "3710e846-9749-49bd-ab28-a84b9867f07a"
      },
      "source": [
        "ohe = OneHotEncoder(sparse=True)\n",
        "ohe_df_train = pd.DataFrame()\n",
        "ohe_df_test = pd.DataFrame()\n",
        "\n",
        "cat_col.remove('지역')\n",
        "for col in cat_col:\n",
        "  \n",
        "  temp1 = pd.DataFrame(ohe.fit_transform(train_enc[[col]]).toarray(), columns=list(ohe.categories_[0]))\n",
        "  temp2 = pd.DataFrame(ohe.transform(test_enc[[col]]).toarray(), columns=list(ohe.categories_[0]))\n",
        "\n",
        "  pca = PCA(n_components=temp1.shape[1])\n",
        "  temp_pca = pca.fit_transform(temp1)\n",
        "\n",
        "  cumsum = np.cumsum(pca.explained_variance_ratio_)\n",
        "  d = np.argmax(cumsum >= 0.95) + 1\n",
        "\n",
        "  n_pca = PCA(n_components=d)\n",
        "  train_pca = pd.DataFrame(n_pca.fit_transform(temp1))\n",
        "  test_pca = pd.DataFrame(n_pca.transform(temp2))\n",
        "\n",
        "  ohe_df_train = pd.concat([ohe_df_train, train_pca],axis=1)\n",
        "  ohe_df_test = pd.concat([ohe_df_test, test_pca],axis=1)\n",
        "\n",
        "ohe_df_train"
      ],
      "execution_count": null,
      "outputs": [
        {
          "output_type": "execute_result",
          "data": {
            "text/html": [
              "<div>\n",
              "<style scoped>\n",
              "    .dataframe tbody tr th:only-of-type {\n",
              "        vertical-align: middle;\n",
              "    }\n",
              "\n",
              "    .dataframe tbody tr th {\n",
              "        vertical-align: top;\n",
              "    }\n",
              "\n",
              "    .dataframe thead th {\n",
              "        text-align: right;\n",
              "    }\n",
              "</style>\n",
              "<table border=\"1\" class=\"dataframe\">\n",
              "  <thead>\n",
              "    <tr style=\"text-align: right;\">\n",
              "      <th></th>\n",
              "      <th>0</th>\n",
              "      <th>0</th>\n",
              "      <th>1</th>\n",
              "      <th>2</th>\n",
              "      <th>3</th>\n",
              "      <th>0</th>\n",
              "      <th>1</th>\n",
              "      <th>2</th>\n",
              "      <th>3</th>\n",
              "      <th>4</th>\n",
              "      <th>5</th>\n",
              "      <th>6</th>\n",
              "      <th>7</th>\n",
              "      <th>0</th>\n",
              "      <th>1</th>\n",
              "      <th>2</th>\n",
              "      <th>3</th>\n",
              "    </tr>\n",
              "  </thead>\n",
              "  <tbody>\n",
              "    <tr>\n",
              "      <th>0</th>\n",
              "      <td>-0.274349</td>\n",
              "      <td>-0.450399</td>\n",
              "      <td>-0.068207</td>\n",
              "      <td>-0.002502</td>\n",
              "      <td>-0.006628</td>\n",
              "      <td>-0.439184</td>\n",
              "      <td>-0.069129</td>\n",
              "      <td>0.010055</td>\n",
              "      <td>-0.001474</td>\n",
              "      <td>-0.00606</td>\n",
              "      <td>0.001264</td>\n",
              "      <td>0.000653</td>\n",
              "      <td>-3.066798e-16</td>\n",
              "      <td>-0.677261</td>\n",
              "      <td>-0.071130</td>\n",
              "      <td>0.002616</td>\n",
              "      <td>-0.000531</td>\n",
              "    </tr>\n",
              "    <tr>\n",
              "      <th>1</th>\n",
              "      <td>-0.274349</td>\n",
              "      <td>-0.450399</td>\n",
              "      <td>-0.068207</td>\n",
              "      <td>-0.002502</td>\n",
              "      <td>-0.006628</td>\n",
              "      <td>-0.439184</td>\n",
              "      <td>-0.069129</td>\n",
              "      <td>0.010055</td>\n",
              "      <td>-0.001474</td>\n",
              "      <td>-0.00606</td>\n",
              "      <td>0.001264</td>\n",
              "      <td>0.000653</td>\n",
              "      <td>-7.250259e-16</td>\n",
              "      <td>-0.677261</td>\n",
              "      <td>-0.071130</td>\n",
              "      <td>0.002616</td>\n",
              "      <td>-0.000531</td>\n",
              "    </tr>\n",
              "    <tr>\n",
              "      <th>2</th>\n",
              "      <td>-0.274349</td>\n",
              "      <td>-0.450399</td>\n",
              "      <td>-0.068207</td>\n",
              "      <td>-0.002502</td>\n",
              "      <td>-0.006628</td>\n",
              "      <td>-0.439184</td>\n",
              "      <td>-0.069129</td>\n",
              "      <td>0.010055</td>\n",
              "      <td>-0.001474</td>\n",
              "      <td>-0.00606</td>\n",
              "      <td>0.001264</td>\n",
              "      <td>0.000653</td>\n",
              "      <td>5.781752e-16</td>\n",
              "      <td>0.736929</td>\n",
              "      <td>-0.079252</td>\n",
              "      <td>0.002889</td>\n",
              "      <td>-0.000587</td>\n",
              "    </tr>\n",
              "    <tr>\n",
              "      <th>3</th>\n",
              "      <td>-0.274349</td>\n",
              "      <td>-0.450399</td>\n",
              "      <td>-0.068207</td>\n",
              "      <td>-0.002502</td>\n",
              "      <td>-0.006628</td>\n",
              "      <td>-0.439184</td>\n",
              "      <td>-0.069129</td>\n",
              "      <td>0.010055</td>\n",
              "      <td>-0.001474</td>\n",
              "      <td>-0.00606</td>\n",
              "      <td>0.001264</td>\n",
              "      <td>0.000653</td>\n",
              "      <td>-2.838677e-15</td>\n",
              "      <td>0.736929</td>\n",
              "      <td>-0.079252</td>\n",
              "      <td>0.002889</td>\n",
              "      <td>-0.000587</td>\n",
              "    </tr>\n",
              "    <tr>\n",
              "      <th>4</th>\n",
              "      <td>-0.274349</td>\n",
              "      <td>-0.450399</td>\n",
              "      <td>-0.068207</td>\n",
              "      <td>-0.002502</td>\n",
              "      <td>-0.006628</td>\n",
              "      <td>-0.439184</td>\n",
              "      <td>-0.069129</td>\n",
              "      <td>0.010055</td>\n",
              "      <td>-0.001474</td>\n",
              "      <td>-0.00606</td>\n",
              "      <td>0.001264</td>\n",
              "      <td>0.000653</td>\n",
              "      <td>-8.376652e-16</td>\n",
              "      <td>0.736929</td>\n",
              "      <td>-0.079252</td>\n",
              "      <td>0.002889</td>\n",
              "      <td>-0.000587</td>\n",
              "    </tr>\n",
              "    <tr>\n",
              "      <th>...</th>\n",
              "      <td>...</td>\n",
              "      <td>...</td>\n",
              "      <td>...</td>\n",
              "      <td>...</td>\n",
              "      <td>...</td>\n",
              "      <td>...</td>\n",
              "      <td>...</td>\n",
              "      <td>...</td>\n",
              "      <td>...</td>\n",
              "      <td>...</td>\n",
              "      <td>...</td>\n",
              "      <td>...</td>\n",
              "      <td>...</td>\n",
              "      <td>...</td>\n",
              "      <td>...</td>\n",
              "      <td>...</td>\n",
              "      <td>...</td>\n",
              "    </tr>\n",
              "    <tr>\n",
              "      <th>2892</th>\n",
              "      <td>-0.274349</td>\n",
              "      <td>-0.450399</td>\n",
              "      <td>-0.068207</td>\n",
              "      <td>-0.002502</td>\n",
              "      <td>-0.006628</td>\n",
              "      <td>-0.439184</td>\n",
              "      <td>-0.069129</td>\n",
              "      <td>0.010055</td>\n",
              "      <td>-0.001474</td>\n",
              "      <td>-0.00606</td>\n",
              "      <td>0.001264</td>\n",
              "      <td>0.000653</td>\n",
              "      <td>6.712595e-18</td>\n",
              "      <td>0.736929</td>\n",
              "      <td>-0.079252</td>\n",
              "      <td>0.002889</td>\n",
              "      <td>-0.000587</td>\n",
              "    </tr>\n",
              "    <tr>\n",
              "      <th>2893</th>\n",
              "      <td>-0.274349</td>\n",
              "      <td>-0.450399</td>\n",
              "      <td>-0.068207</td>\n",
              "      <td>-0.002502</td>\n",
              "      <td>-0.006628</td>\n",
              "      <td>-0.439184</td>\n",
              "      <td>-0.069129</td>\n",
              "      <td>0.010055</td>\n",
              "      <td>-0.001474</td>\n",
              "      <td>-0.00606</td>\n",
              "      <td>0.001264</td>\n",
              "      <td>0.000653</td>\n",
              "      <td>6.712603e-18</td>\n",
              "      <td>0.736929</td>\n",
              "      <td>-0.079252</td>\n",
              "      <td>0.002889</td>\n",
              "      <td>-0.000587</td>\n",
              "    </tr>\n",
              "    <tr>\n",
              "      <th>2894</th>\n",
              "      <td>-0.274349</td>\n",
              "      <td>-0.450399</td>\n",
              "      <td>-0.068207</td>\n",
              "      <td>-0.002502</td>\n",
              "      <td>-0.006628</td>\n",
              "      <td>-0.439184</td>\n",
              "      <td>-0.069129</td>\n",
              "      <td>0.010055</td>\n",
              "      <td>-0.001474</td>\n",
              "      <td>-0.00606</td>\n",
              "      <td>0.001264</td>\n",
              "      <td>0.000653</td>\n",
              "      <td>6.712603e-18</td>\n",
              "      <td>0.736929</td>\n",
              "      <td>-0.079252</td>\n",
              "      <td>0.002889</td>\n",
              "      <td>-0.000587</td>\n",
              "    </tr>\n",
              "    <tr>\n",
              "      <th>2895</th>\n",
              "      <td>-0.274349</td>\n",
              "      <td>-0.450399</td>\n",
              "      <td>-0.068207</td>\n",
              "      <td>-0.002502</td>\n",
              "      <td>-0.006628</td>\n",
              "      <td>-0.439184</td>\n",
              "      <td>-0.069129</td>\n",
              "      <td>0.010055</td>\n",
              "      <td>-0.001474</td>\n",
              "      <td>-0.00606</td>\n",
              "      <td>0.001264</td>\n",
              "      <td>0.000653</td>\n",
              "      <td>6.712603e-18</td>\n",
              "      <td>0.736929</td>\n",
              "      <td>-0.079252</td>\n",
              "      <td>0.002889</td>\n",
              "      <td>-0.000587</td>\n",
              "    </tr>\n",
              "    <tr>\n",
              "      <th>2896</th>\n",
              "      <td>-0.274349</td>\n",
              "      <td>-0.450399</td>\n",
              "      <td>-0.068207</td>\n",
              "      <td>-0.002502</td>\n",
              "      <td>-0.006628</td>\n",
              "      <td>-0.439184</td>\n",
              "      <td>-0.069129</td>\n",
              "      <td>0.010055</td>\n",
              "      <td>-0.001474</td>\n",
              "      <td>-0.00606</td>\n",
              "      <td>0.001264</td>\n",
              "      <td>0.000653</td>\n",
              "      <td>6.774564e-18</td>\n",
              "      <td>0.736929</td>\n",
              "      <td>-0.079252</td>\n",
              "      <td>0.002889</td>\n",
              "      <td>-0.000587</td>\n",
              "    </tr>\n",
              "  </tbody>\n",
              "</table>\n",
              "<p>2897 rows × 17 columns</p>\n",
              "</div>"
            ],
            "text/plain": [
              "             0         0         1  ...         1         2         3\n",
              "0    -0.274349 -0.450399 -0.068207  ... -0.071130  0.002616 -0.000531\n",
              "1    -0.274349 -0.450399 -0.068207  ... -0.071130  0.002616 -0.000531\n",
              "2    -0.274349 -0.450399 -0.068207  ... -0.079252  0.002889 -0.000587\n",
              "3    -0.274349 -0.450399 -0.068207  ... -0.079252  0.002889 -0.000587\n",
              "4    -0.274349 -0.450399 -0.068207  ... -0.079252  0.002889 -0.000587\n",
              "...        ...       ...       ...  ...       ...       ...       ...\n",
              "2892 -0.274349 -0.450399 -0.068207  ... -0.079252  0.002889 -0.000587\n",
              "2893 -0.274349 -0.450399 -0.068207  ... -0.079252  0.002889 -0.000587\n",
              "2894 -0.274349 -0.450399 -0.068207  ... -0.079252  0.002889 -0.000587\n",
              "2895 -0.274349 -0.450399 -0.068207  ... -0.079252  0.002889 -0.000587\n",
              "2896 -0.274349 -0.450399 -0.068207  ... -0.079252  0.002889 -0.000587\n",
              "\n",
              "[2897 rows x 17 columns]"
            ]
          },
          "metadata": {
            "tags": []
          },
          "execution_count": 69
        }
      ]
    },
    {
      "cell_type": "code",
      "metadata": {
        "id": "979PE2yiVkuk"
      },
      "source": [
        "c_name=[]\n",
        "for i in range(ohe_df_train.shape[1]):\n",
        "  name = 'pca_' + str(i)\n",
        "  c_name.append(name)\n",
        "\n",
        "ohe_df_train.columns = c_name\n",
        "ohe_df_test.columns = c_name"
      ],
      "execution_count": null,
      "outputs": []
    },
    {
      "cell_type": "code",
      "metadata": {
        "colab": {
          "base_uri": "https://localhost:8080/",
          "height": 426
        },
        "id": "2i2PCsuaUFmy",
        "outputId": "b8470ae5-ad34-4b4d-b8a0-41459493d9c7"
      },
      "source": [
        "train_enc = pd.concat([train_enc,ohe_df_train],axis=1).drop(cat_col,axis=1)\n",
        "test_enc = pd.concat([test_enc,ohe_df_test],axis=1).drop(cat_col,axis=1)\n",
        "train_enc.head()"
      ],
      "execution_count": null,
      "outputs": [
        {
          "output_type": "execute_result",
          "data": {
            "text/html": [
              "<div>\n",
              "<style scoped>\n",
              "    .dataframe tbody tr th:only-of-type {\n",
              "        vertical-align: middle;\n",
              "    }\n",
              "\n",
              "    .dataframe tbody tr th {\n",
              "        vertical-align: top;\n",
              "    }\n",
              "\n",
              "    .dataframe thead th {\n",
              "        text-align: right;\n",
              "    }\n",
              "</style>\n",
              "<table border=\"1\" class=\"dataframe\">\n",
              "  <thead>\n",
              "    <tr style=\"text-align: right;\">\n",
              "      <th></th>\n",
              "      <th>단지코드</th>\n",
              "      <th>총세대수</th>\n",
              "      <th>지역</th>\n",
              "      <th>전용면적</th>\n",
              "      <th>전용면적별세대수</th>\n",
              "      <th>공가수</th>\n",
              "      <th>임대보증금</th>\n",
              "      <th>임대료</th>\n",
              "      <th>지하철역수</th>\n",
              "      <th>버스정류장수</th>\n",
              "      <th>단지내주차면수</th>\n",
              "      <th>등록차량수</th>\n",
              "      <th>임대보증금로그</th>\n",
              "      <th>임대료로그</th>\n",
              "      <th>임대료대비보증금</th>\n",
              "      <th>총세대수대비주차면수</th>\n",
              "      <th>면적별세대수대비주차면수</th>\n",
              "      <th>pca_0</th>\n",
              "      <th>pca_1</th>\n",
              "      <th>pca_2</th>\n",
              "      <th>pca_3</th>\n",
              "      <th>pca_4</th>\n",
              "      <th>pca_5</th>\n",
              "      <th>pca_6</th>\n",
              "      <th>pca_7</th>\n",
              "      <th>pca_8</th>\n",
              "      <th>pca_9</th>\n",
              "      <th>pca_10</th>\n",
              "      <th>pca_11</th>\n",
              "      <th>pca_12</th>\n",
              "      <th>pca_13</th>\n",
              "      <th>pca_14</th>\n",
              "      <th>pca_15</th>\n",
              "      <th>pca_16</th>\n",
              "    </tr>\n",
              "  </thead>\n",
              "  <tbody>\n",
              "    <tr>\n",
              "      <th>0</th>\n",
              "      <td>C2483</td>\n",
              "      <td>900</td>\n",
              "      <td>3</td>\n",
              "      <td>39.72</td>\n",
              "      <td>134</td>\n",
              "      <td>38.0</td>\n",
              "      <td>15667000.0</td>\n",
              "      <td>103680.0</td>\n",
              "      <td>0.0</td>\n",
              "      <td>3.0</td>\n",
              "      <td>1425.0</td>\n",
              "      <td>1015.0</td>\n",
              "      <td>16.567067</td>\n",
              "      <td>11.549074</td>\n",
              "      <td>151.107725</td>\n",
              "      <td>1.583333</td>\n",
              "      <td>10.634328</td>\n",
              "      <td>-0.274349</td>\n",
              "      <td>-0.450399</td>\n",
              "      <td>-0.068207</td>\n",
              "      <td>-0.002502</td>\n",
              "      <td>-0.006628</td>\n",
              "      <td>-0.439184</td>\n",
              "      <td>-0.069129</td>\n",
              "      <td>0.010055</td>\n",
              "      <td>-0.001474</td>\n",
              "      <td>-0.00606</td>\n",
              "      <td>0.001264</td>\n",
              "      <td>0.000653</td>\n",
              "      <td>-3.066798e-16</td>\n",
              "      <td>-0.677261</td>\n",
              "      <td>-0.071130</td>\n",
              "      <td>0.002616</td>\n",
              "      <td>-0.000531</td>\n",
              "    </tr>\n",
              "    <tr>\n",
              "      <th>1</th>\n",
              "      <td>C2483</td>\n",
              "      <td>900</td>\n",
              "      <td>3</td>\n",
              "      <td>39.72</td>\n",
              "      <td>15</td>\n",
              "      <td>38.0</td>\n",
              "      <td>15667000.0</td>\n",
              "      <td>103680.0</td>\n",
              "      <td>0.0</td>\n",
              "      <td>3.0</td>\n",
              "      <td>1425.0</td>\n",
              "      <td>1015.0</td>\n",
              "      <td>16.567067</td>\n",
              "      <td>11.549074</td>\n",
              "      <td>151.107725</td>\n",
              "      <td>1.583333</td>\n",
              "      <td>95.000000</td>\n",
              "      <td>-0.274349</td>\n",
              "      <td>-0.450399</td>\n",
              "      <td>-0.068207</td>\n",
              "      <td>-0.002502</td>\n",
              "      <td>-0.006628</td>\n",
              "      <td>-0.439184</td>\n",
              "      <td>-0.069129</td>\n",
              "      <td>0.010055</td>\n",
              "      <td>-0.001474</td>\n",
              "      <td>-0.00606</td>\n",
              "      <td>0.001264</td>\n",
              "      <td>0.000653</td>\n",
              "      <td>-7.250259e-16</td>\n",
              "      <td>-0.677261</td>\n",
              "      <td>-0.071130</td>\n",
              "      <td>0.002616</td>\n",
              "      <td>-0.000531</td>\n",
              "    </tr>\n",
              "    <tr>\n",
              "      <th>2</th>\n",
              "      <td>C2483</td>\n",
              "      <td>900</td>\n",
              "      <td>3</td>\n",
              "      <td>51.93</td>\n",
              "      <td>385</td>\n",
              "      <td>38.0</td>\n",
              "      <td>27304000.0</td>\n",
              "      <td>184330.0</td>\n",
              "      <td>0.0</td>\n",
              "      <td>3.0</td>\n",
              "      <td>1425.0</td>\n",
              "      <td>1015.0</td>\n",
              "      <td>17.122544</td>\n",
              "      <td>12.124488</td>\n",
              "      <td>148.124841</td>\n",
              "      <td>1.583333</td>\n",
              "      <td>3.701299</td>\n",
              "      <td>-0.274349</td>\n",
              "      <td>-0.450399</td>\n",
              "      <td>-0.068207</td>\n",
              "      <td>-0.002502</td>\n",
              "      <td>-0.006628</td>\n",
              "      <td>-0.439184</td>\n",
              "      <td>-0.069129</td>\n",
              "      <td>0.010055</td>\n",
              "      <td>-0.001474</td>\n",
              "      <td>-0.00606</td>\n",
              "      <td>0.001264</td>\n",
              "      <td>0.000653</td>\n",
              "      <td>5.781752e-16</td>\n",
              "      <td>0.736929</td>\n",
              "      <td>-0.079252</td>\n",
              "      <td>0.002889</td>\n",
              "      <td>-0.000587</td>\n",
              "    </tr>\n",
              "    <tr>\n",
              "      <th>3</th>\n",
              "      <td>C2483</td>\n",
              "      <td>900</td>\n",
              "      <td>3</td>\n",
              "      <td>51.93</td>\n",
              "      <td>15</td>\n",
              "      <td>38.0</td>\n",
              "      <td>27304000.0</td>\n",
              "      <td>184330.0</td>\n",
              "      <td>0.0</td>\n",
              "      <td>3.0</td>\n",
              "      <td>1425.0</td>\n",
              "      <td>1015.0</td>\n",
              "      <td>17.122544</td>\n",
              "      <td>12.124488</td>\n",
              "      <td>148.124841</td>\n",
              "      <td>1.583333</td>\n",
              "      <td>95.000000</td>\n",
              "      <td>-0.274349</td>\n",
              "      <td>-0.450399</td>\n",
              "      <td>-0.068207</td>\n",
              "      <td>-0.002502</td>\n",
              "      <td>-0.006628</td>\n",
              "      <td>-0.439184</td>\n",
              "      <td>-0.069129</td>\n",
              "      <td>0.010055</td>\n",
              "      <td>-0.001474</td>\n",
              "      <td>-0.00606</td>\n",
              "      <td>0.001264</td>\n",
              "      <td>0.000653</td>\n",
              "      <td>-2.838677e-15</td>\n",
              "      <td>0.736929</td>\n",
              "      <td>-0.079252</td>\n",
              "      <td>0.002889</td>\n",
              "      <td>-0.000587</td>\n",
              "    </tr>\n",
              "    <tr>\n",
              "      <th>4</th>\n",
              "      <td>C2483</td>\n",
              "      <td>900</td>\n",
              "      <td>3</td>\n",
              "      <td>51.93</td>\n",
              "      <td>41</td>\n",
              "      <td>38.0</td>\n",
              "      <td>27304000.0</td>\n",
              "      <td>184330.0</td>\n",
              "      <td>0.0</td>\n",
              "      <td>3.0</td>\n",
              "      <td>1425.0</td>\n",
              "      <td>1015.0</td>\n",
              "      <td>17.122544</td>\n",
              "      <td>12.124488</td>\n",
              "      <td>148.124841</td>\n",
              "      <td>1.583333</td>\n",
              "      <td>34.756098</td>\n",
              "      <td>-0.274349</td>\n",
              "      <td>-0.450399</td>\n",
              "      <td>-0.068207</td>\n",
              "      <td>-0.002502</td>\n",
              "      <td>-0.006628</td>\n",
              "      <td>-0.439184</td>\n",
              "      <td>-0.069129</td>\n",
              "      <td>0.010055</td>\n",
              "      <td>-0.001474</td>\n",
              "      <td>-0.00606</td>\n",
              "      <td>0.001264</td>\n",
              "      <td>0.000653</td>\n",
              "      <td>-8.376652e-16</td>\n",
              "      <td>0.736929</td>\n",
              "      <td>-0.079252</td>\n",
              "      <td>0.002889</td>\n",
              "      <td>-0.000587</td>\n",
              "    </tr>\n",
              "  </tbody>\n",
              "</table>\n",
              "</div>"
            ],
            "text/plain": [
              "    단지코드  총세대수  지역   전용면적  ...    pca_13    pca_14    pca_15    pca_16\n",
              "0  C2483   900   3  39.72  ... -0.677261 -0.071130  0.002616 -0.000531\n",
              "1  C2483   900   3  39.72  ... -0.677261 -0.071130  0.002616 -0.000531\n",
              "2  C2483   900   3  51.93  ...  0.736929 -0.079252  0.002889 -0.000587\n",
              "3  C2483   900   3  51.93  ...  0.736929 -0.079252  0.002889 -0.000587\n",
              "4  C2483   900   3  51.93  ...  0.736929 -0.079252  0.002889 -0.000587\n",
              "\n",
              "[5 rows x 34 columns]"
            ]
          },
          "metadata": {
            "tags": []
          },
          "execution_count": 71
        }
      ]
    },
    {
      "cell_type": "code",
      "metadata": {
        "id": "lu3hIoA7Qir5"
      },
      "source": [
        ""
      ],
      "execution_count": null,
      "outputs": []
    },
    {
      "cell_type": "markdown",
      "metadata": {
        "id": "9licgZd1OMmg"
      },
      "source": [
        "## 학습 데이터셋 생성"
      ]
    },
    {
      "cell_type": "code",
      "metadata": {
        "colab": {
          "base_uri": "https://localhost:8080/"
        },
        "id": "H9j-N35mOMMR",
        "outputId": "88dd7e17-a065-41d8-902f-56139c8a1148"
      },
      "source": [
        "y_df = train_enc[['단지코드','등록차량수']].drop_duplicates()\n",
        "train_enc.drop('등록차량수',axis=1, inplace=True)\n",
        "\n",
        "print(len(train_enc.단지코드.unique()))\n",
        "print(len(y_df))"
      ],
      "execution_count": null,
      "outputs": [
        {
          "output_type": "stream",
          "text": [
            "417\n",
            "417\n"
          ],
          "name": "stdout"
        }
      ]
    },
    {
      "cell_type": "code",
      "metadata": {
        "colab": {
          "base_uri": "https://localhost:8080/",
          "height": 204
        },
        "id": "xoM7xIiHOdQL",
        "outputId": "904d2aca-ab84-4ba6-b4e7-02f4cc2ecfbe"
      },
      "source": [
        "y_df.head()"
      ],
      "execution_count": null,
      "outputs": [
        {
          "output_type": "execute_result",
          "data": {
            "text/html": [
              "<div>\n",
              "<style scoped>\n",
              "    .dataframe tbody tr th:only-of-type {\n",
              "        vertical-align: middle;\n",
              "    }\n",
              "\n",
              "    .dataframe tbody tr th {\n",
              "        vertical-align: top;\n",
              "    }\n",
              "\n",
              "    .dataframe thead th {\n",
              "        text-align: right;\n",
              "    }\n",
              "</style>\n",
              "<table border=\"1\" class=\"dataframe\">\n",
              "  <thead>\n",
              "    <tr style=\"text-align: right;\">\n",
              "      <th></th>\n",
              "      <th>단지코드</th>\n",
              "      <th>등록차량수</th>\n",
              "    </tr>\n",
              "  </thead>\n",
              "  <tbody>\n",
              "    <tr>\n",
              "      <th>0</th>\n",
              "      <td>C2483</td>\n",
              "      <td>1015.0</td>\n",
              "    </tr>\n",
              "    <tr>\n",
              "      <th>8</th>\n",
              "      <td>C2515</td>\n",
              "      <td>205.0</td>\n",
              "    </tr>\n",
              "    <tr>\n",
              "      <th>15</th>\n",
              "      <td>C1407</td>\n",
              "      <td>1064.0</td>\n",
              "    </tr>\n",
              "    <tr>\n",
              "      <th>26</th>\n",
              "      <td>C1945</td>\n",
              "      <td>730.0</td>\n",
              "    </tr>\n",
              "    <tr>\n",
              "      <th>32</th>\n",
              "      <td>C1470</td>\n",
              "      <td>553.0</td>\n",
              "    </tr>\n",
              "  </tbody>\n",
              "</table>\n",
              "</div>"
            ],
            "text/plain": [
              "     단지코드   등록차량수\n",
              "0   C2483  1015.0\n",
              "8   C2515   205.0\n",
              "15  C1407  1064.0\n",
              "26  C1945   730.0\n",
              "32  C1470   553.0"
            ]
          },
          "metadata": {
            "tags": []
          },
          "execution_count": 74
        }
      ]
    },
    {
      "cell_type": "code",
      "metadata": {
        "id": "eYf80Iecc-wB"
      },
      "source": [
        "no_agg_lst = ['단지코드','총세대수','공가수','지하철역수','버스정류장수','단지내주차면수','지역']  # 단지코드에 따라 정해지는 값들\n",
        "agg_lst = train_enc.columns.difference(no_agg_lst) # 하나의 단지 내에서도 다를 수 있는 값들"
      ],
      "execution_count": null,
      "outputs": []
    },
    {
      "cell_type": "code",
      "metadata": {
        "id": "mv2higpablZE"
      },
      "source": [
        "no_agg_df = train_enc[no_agg_lst].drop_duplicates().reset_index(drop=True)\n",
        "\n",
        "agg_df1 = train_enc.groupby('단지코드').sum()[agg_lst].reset_index()\n",
        "agg_df1.columns = agg_df1.columns + '_합계'\n",
        "\n",
        "agg_df2 = train_enc.groupby('단지코드').mean()[agg_lst].reset_index()\n",
        "agg_df2.columns = agg_df2.columns + '_평균'\n",
        "\n",
        "agg_df3 = train_enc.groupby('단지코드').median()[agg_lst].reset_index()\n",
        "agg_df3.columns = agg_df3.columns + '_중위수'\n",
        "\n",
        "\n",
        "no_agg_df_t = test_enc[no_agg_lst].drop_duplicates().reset_index(drop=True)\n",
        "\n",
        "agg_df1_t = test_enc.groupby('단지코드').sum()[agg_lst].reset_index()\n",
        "agg_df1_t.columns = agg_df1_t.columns + '_합계'\n",
        "\n",
        "agg_df2_t = test_enc.groupby('단지코드').mean()[agg_lst].reset_index()\n",
        "agg_df2_t.columns = agg_df2_t.columns + '_평균'\n",
        "\n",
        "agg_df3_t = test_enc.groupby('단지코드').median()[agg_lst].reset_index()\n",
        "agg_df3_t.columns = agg_df3_t.columns + '_중위수'"
      ],
      "execution_count": null,
      "outputs": []
    },
    {
      "cell_type": "code",
      "metadata": {
        "colab": {
          "base_uri": "https://localhost:8080/",
          "height": 691
        },
        "id": "AFPuZHK8efTM",
        "outputId": "b5111268-938d-463f-c122-9941bdd2e38e"
      },
      "source": [
        "train_df = pd.merge(no_agg_df,agg_df1,left_on='단지코드',right_on='단지코드_합계')\n",
        "train_df = pd.merge(train_df,agg_df2,left_on='단지코드',right_on='단지코드_평균')\n",
        "#train_df = pd.merge(train_df,agg_df3,left_on='단지코드',right_on='단지코드_중위수')\n",
        "\n",
        "test_df = pd.merge(no_agg_df_t,agg_df1_t,left_on='단지코드',right_on='단지코드_합계')\n",
        "test_df = pd.merge(test_df,agg_df2_t,left_on='단지코드',right_on='단지코드_평균')\n",
        "#test_df = pd.merge(test_df,agg_df3_t,left_on='단지코드',right_on='단지코드_중위수')\n",
        "\n",
        "train_df"
      ],
      "execution_count": null,
      "outputs": [
        {
          "output_type": "execute_result",
          "data": {
            "text/html": [
              "<div>\n",
              "<style scoped>\n",
              "    .dataframe tbody tr th:only-of-type {\n",
              "        vertical-align: middle;\n",
              "    }\n",
              "\n",
              "    .dataframe tbody tr th {\n",
              "        vertical-align: top;\n",
              "    }\n",
              "\n",
              "    .dataframe thead th {\n",
              "        text-align: right;\n",
              "    }\n",
              "</style>\n",
              "<table border=\"1\" class=\"dataframe\">\n",
              "  <thead>\n",
              "    <tr style=\"text-align: right;\">\n",
              "      <th></th>\n",
              "      <th>단지코드</th>\n",
              "      <th>총세대수</th>\n",
              "      <th>공가수</th>\n",
              "      <th>지하철역수</th>\n",
              "      <th>버스정류장수</th>\n",
              "      <th>단지내주차면수</th>\n",
              "      <th>지역</th>\n",
              "      <th>단지코드_합계</th>\n",
              "      <th>pca_0_합계</th>\n",
              "      <th>pca_1_합계</th>\n",
              "      <th>pca_10_합계</th>\n",
              "      <th>pca_11_합계</th>\n",
              "      <th>pca_12_합계</th>\n",
              "      <th>pca_13_합계</th>\n",
              "      <th>pca_14_합계</th>\n",
              "      <th>pca_15_합계</th>\n",
              "      <th>pca_16_합계</th>\n",
              "      <th>pca_2_합계</th>\n",
              "      <th>pca_3_합계</th>\n",
              "      <th>pca_4_합계</th>\n",
              "      <th>pca_5_합계</th>\n",
              "      <th>pca_6_합계</th>\n",
              "      <th>pca_7_합계</th>\n",
              "      <th>pca_8_합계</th>\n",
              "      <th>pca_9_합계</th>\n",
              "      <th>면적별세대수대비주차면수_합계</th>\n",
              "      <th>임대료_합계</th>\n",
              "      <th>임대료대비보증금_합계</th>\n",
              "      <th>임대료로그_합계</th>\n",
              "      <th>임대보증금_합계</th>\n",
              "      <th>임대보증금로그_합계</th>\n",
              "      <th>전용면적_합계</th>\n",
              "      <th>전용면적별세대수_합계</th>\n",
              "      <th>총세대수대비주차면수_합계</th>\n",
              "      <th>단지코드_평균</th>\n",
              "      <th>pca_0_평균</th>\n",
              "      <th>pca_1_평균</th>\n",
              "      <th>pca_10_평균</th>\n",
              "      <th>pca_11_평균</th>\n",
              "      <th>pca_12_평균</th>\n",
              "      <th>pca_13_평균</th>\n",
              "      <th>pca_14_평균</th>\n",
              "      <th>pca_15_평균</th>\n",
              "      <th>pca_16_평균</th>\n",
              "      <th>pca_2_평균</th>\n",
              "      <th>pca_3_평균</th>\n",
              "      <th>pca_4_평균</th>\n",
              "      <th>pca_5_평균</th>\n",
              "      <th>pca_6_평균</th>\n",
              "      <th>pca_7_평균</th>\n",
              "      <th>pca_8_평균</th>\n",
              "      <th>pca_9_평균</th>\n",
              "      <th>면적별세대수대비주차면수_평균</th>\n",
              "      <th>임대료_평균</th>\n",
              "      <th>임대료대비보증금_평균</th>\n",
              "      <th>임대료로그_평균</th>\n",
              "      <th>임대보증금_평균</th>\n",
              "      <th>임대보증금로그_평균</th>\n",
              "      <th>전용면적_평균</th>\n",
              "      <th>전용면적별세대수_평균</th>\n",
              "      <th>총세대수대비주차면수_평균</th>\n",
              "    </tr>\n",
              "  </thead>\n",
              "  <tbody>\n",
              "    <tr>\n",
              "      <th>0</th>\n",
              "      <td>C2483</td>\n",
              "      <td>900</td>\n",
              "      <td>38.0</td>\n",
              "      <td>0.0</td>\n",
              "      <td>3.0</td>\n",
              "      <td>1425.0</td>\n",
              "      <td>3</td>\n",
              "      <td>C2483</td>\n",
              "      <td>-2.194789</td>\n",
              "      <td>-3.603190</td>\n",
              "      <td>0.010115</td>\n",
              "      <td>0.005226</td>\n",
              "      <td>-1.850997e-15</td>\n",
              "      <td>3.067050</td>\n",
              "      <td>-0.617770</td>\n",
              "      <td>0.022568</td>\n",
              "      <td>-0.004582</td>\n",
              "      <td>-0.545654</td>\n",
              "      <td>-0.020019</td>\n",
              "      <td>-0.053024</td>\n",
              "      <td>-3.513469</td>\n",
              "      <td>-0.553032</td>\n",
              "      <td>0.080436</td>\n",
              "      <td>-0.011793</td>\n",
              "      <td>-0.048480</td>\n",
              "      <td>282.228284</td>\n",
              "      <td>1343280.0</td>\n",
              "      <td>1184.515381</td>\n",
              "      <td>95.995587</td>\n",
              "      <td>198211000.0</td>\n",
              "      <td>135.975391</td>\n",
              "      <td>399.01</td>\n",
              "      <td>900</td>\n",
              "      <td>12.666667</td>\n",
              "      <td>C2483</td>\n",
              "      <td>-0.274349</td>\n",
              "      <td>-0.450399</td>\n",
              "      <td>0.001264</td>\n",
              "      <td>0.000653</td>\n",
              "      <td>-2.313746e-16</td>\n",
              "      <td>0.383381</td>\n",
              "      <td>-0.077221</td>\n",
              "      <td>0.002821</td>\n",
              "      <td>-0.000573</td>\n",
              "      <td>-0.068207</td>\n",
              "      <td>-0.002502</td>\n",
              "      <td>-0.006628</td>\n",
              "      <td>-0.439184</td>\n",
              "      <td>-0.069129</td>\n",
              "      <td>0.010055</td>\n",
              "      <td>-0.001474</td>\n",
              "      <td>-0.006060</td>\n",
              "      <td>35.278535</td>\n",
              "      <td>167910.000000</td>\n",
              "      <td>148.064423</td>\n",
              "      <td>11.999448</td>\n",
              "      <td>2.477638e+07</td>\n",
              "      <td>16.996924</td>\n",
              "      <td>49.876250</td>\n",
              "      <td>112.500000</td>\n",
              "      <td>1.583333</td>\n",
              "    </tr>\n",
              "    <tr>\n",
              "      <th>1</th>\n",
              "      <td>C2515</td>\n",
              "      <td>545</td>\n",
              "      <td>17.0</td>\n",
              "      <td>0.0</td>\n",
              "      <td>3.0</td>\n",
              "      <td>624.0</td>\n",
              "      <td>2</td>\n",
              "      <td>C2515</td>\n",
              "      <td>-1.920441</td>\n",
              "      <td>-3.152791</td>\n",
              "      <td>0.008850</td>\n",
              "      <td>0.004573</td>\n",
              "      <td>8.064354e-15</td>\n",
              "      <td>0.915931</td>\n",
              "      <td>-0.530396</td>\n",
              "      <td>0.019405</td>\n",
              "      <td>-0.003940</td>\n",
              "      <td>-0.477447</td>\n",
              "      <td>-0.017517</td>\n",
              "      <td>-0.046396</td>\n",
              "      <td>-3.074285</td>\n",
              "      <td>-0.483903</td>\n",
              "      <td>0.070382</td>\n",
              "      <td>-0.010319</td>\n",
              "      <td>-0.042420</td>\n",
              "      <td>123.010820</td>\n",
              "      <td>976900.0</td>\n",
              "      <td>836.282124</td>\n",
              "      <td>82.633608</td>\n",
              "      <td>117510000.0</td>\n",
              "      <td>116.111227</td>\n",
              "      <td>310.42</td>\n",
              "      <td>545</td>\n",
              "      <td>8.014679</td>\n",
              "      <td>C2515</td>\n",
              "      <td>-0.274349</td>\n",
              "      <td>-0.450399</td>\n",
              "      <td>0.001264</td>\n",
              "      <td>0.000653</td>\n",
              "      <td>1.152051e-15</td>\n",
              "      <td>0.130847</td>\n",
              "      <td>-0.075771</td>\n",
              "      <td>0.002772</td>\n",
              "      <td>-0.000563</td>\n",
              "      <td>-0.068207</td>\n",
              "      <td>-0.002502</td>\n",
              "      <td>-0.006628</td>\n",
              "      <td>-0.439184</td>\n",
              "      <td>-0.069129</td>\n",
              "      <td>0.010055</td>\n",
              "      <td>-0.001474</td>\n",
              "      <td>-0.006060</td>\n",
              "      <td>17.572974</td>\n",
              "      <td>139557.142857</td>\n",
              "      <td>119.468875</td>\n",
              "      <td>11.804801</td>\n",
              "      <td>1.678714e+07</td>\n",
              "      <td>16.587318</td>\n",
              "      <td>44.345714</td>\n",
              "      <td>77.857143</td>\n",
              "      <td>1.144954</td>\n",
              "    </tr>\n",
              "    <tr>\n",
              "      <th>2</th>\n",
              "      <td>C1407</td>\n",
              "      <td>1216</td>\n",
              "      <td>13.0</td>\n",
              "      <td>1.0</td>\n",
              "      <td>1.0</td>\n",
              "      <td>1285.0</td>\n",
              "      <td>6</td>\n",
              "      <td>C1407</td>\n",
              "      <td>-3.017835</td>\n",
              "      <td>-4.954386</td>\n",
              "      <td>0.013908</td>\n",
              "      <td>0.007185</td>\n",
              "      <td>7.544700e-17</td>\n",
              "      <td>3.863646</td>\n",
              "      <td>-0.847403</td>\n",
              "      <td>0.030962</td>\n",
              "      <td>-0.006287</td>\n",
              "      <td>-0.750274</td>\n",
              "      <td>-0.027526</td>\n",
              "      <td>-0.072908</td>\n",
              "      <td>-4.831020</td>\n",
              "      <td>-0.760420</td>\n",
              "      <td>0.110600</td>\n",
              "      <td>-0.016215</td>\n",
              "      <td>-0.066660</td>\n",
              "      <td>180.483825</td>\n",
              "      <td>1944030.0</td>\n",
              "      <td>1734.966063</td>\n",
              "      <td>132.590451</td>\n",
              "      <td>313616000.0</td>\n",
              "      <td>188.140602</td>\n",
              "      <td>453.79</td>\n",
              "      <td>1216</td>\n",
              "      <td>11.624178</td>\n",
              "      <td>C1407</td>\n",
              "      <td>-0.274349</td>\n",
              "      <td>-0.450399</td>\n",
              "      <td>0.001264</td>\n",
              "      <td>0.000653</td>\n",
              "      <td>6.858818e-18</td>\n",
              "      <td>0.351241</td>\n",
              "      <td>-0.077037</td>\n",
              "      <td>0.002815</td>\n",
              "      <td>-0.000572</td>\n",
              "      <td>-0.068207</td>\n",
              "      <td>-0.002502</td>\n",
              "      <td>-0.006628</td>\n",
              "      <td>-0.439184</td>\n",
              "      <td>-0.069129</td>\n",
              "      <td>0.010055</td>\n",
              "      <td>-0.001474</td>\n",
              "      <td>-0.006060</td>\n",
              "      <td>16.407620</td>\n",
              "      <td>176730.000000</td>\n",
              "      <td>157.724188</td>\n",
              "      <td>12.053677</td>\n",
              "      <td>2.851055e+07</td>\n",
              "      <td>17.103691</td>\n",
              "      <td>41.253636</td>\n",
              "      <td>110.545455</td>\n",
              "      <td>1.056743</td>\n",
              "    </tr>\n",
              "    <tr>\n",
              "      <th>3</th>\n",
              "      <td>C1945</td>\n",
              "      <td>755</td>\n",
              "      <td>6.0</td>\n",
              "      <td>1.0</td>\n",
              "      <td>3.0</td>\n",
              "      <td>734.0</td>\n",
              "      <td>1</td>\n",
              "      <td>C1945</td>\n",
              "      <td>-1.646092</td>\n",
              "      <td>-2.702393</td>\n",
              "      <td>-0.652573</td>\n",
              "      <td>-0.469866</td>\n",
              "      <td>2.133928e-15</td>\n",
              "      <td>1.593193</td>\n",
              "      <td>-0.459266</td>\n",
              "      <td>0.016789</td>\n",
              "      <td>-0.003409</td>\n",
              "      <td>-0.409240</td>\n",
              "      <td>-0.015014</td>\n",
              "      <td>-0.039768</td>\n",
              "      <td>2.318023</td>\n",
              "      <td>2.362710</td>\n",
              "      <td>-0.904073</td>\n",
              "      <td>0.190550</td>\n",
              "      <td>1.611234</td>\n",
              "      <td>42.127945</td>\n",
              "      <td>1134640.0</td>\n",
              "      <td>718.869790</td>\n",
              "      <td>72.704974</td>\n",
              "      <td>135910000.0</td>\n",
              "      <td>101.420495</td>\n",
              "      <td>303.06</td>\n",
              "      <td>755</td>\n",
              "      <td>5.833113</td>\n",
              "      <td>C1945</td>\n",
              "      <td>-0.274349</td>\n",
              "      <td>-0.450399</td>\n",
              "      <td>-0.108762</td>\n",
              "      <td>-0.078311</td>\n",
              "      <td>3.556546e-16</td>\n",
              "      <td>0.265532</td>\n",
              "      <td>-0.076544</td>\n",
              "      <td>0.002798</td>\n",
              "      <td>-0.000568</td>\n",
              "      <td>-0.068207</td>\n",
              "      <td>-0.002502</td>\n",
              "      <td>-0.006628</td>\n",
              "      <td>0.386337</td>\n",
              "      <td>0.393785</td>\n",
              "      <td>-0.150679</td>\n",
              "      <td>0.031758</td>\n",
              "      <td>0.268539</td>\n",
              "      <td>7.021324</td>\n",
              "      <td>189106.666667</td>\n",
              "      <td>119.811632</td>\n",
              "      <td>12.117496</td>\n",
              "      <td>2.265167e+07</td>\n",
              "      <td>16.903416</td>\n",
              "      <td>50.510000</td>\n",
              "      <td>125.833333</td>\n",
              "      <td>0.972185</td>\n",
              "    </tr>\n",
              "    <tr>\n",
              "      <th>4</th>\n",
              "      <td>C1470</td>\n",
              "      <td>696</td>\n",
              "      <td>14.0</td>\n",
              "      <td>0.0</td>\n",
              "      <td>2.0</td>\n",
              "      <td>645.0</td>\n",
              "      <td>12</td>\n",
              "      <td>C1470</td>\n",
              "      <td>-1.097395</td>\n",
              "      <td>-1.801595</td>\n",
              "      <td>0.005057</td>\n",
              "      <td>0.002613</td>\n",
              "      <td>2.743527e-17</td>\n",
              "      <td>0.119335</td>\n",
              "      <td>-0.300763</td>\n",
              "      <td>0.011011</td>\n",
              "      <td>-0.002236</td>\n",
              "      <td>-0.272827</td>\n",
              "      <td>-0.010010</td>\n",
              "      <td>-0.026512</td>\n",
              "      <td>-1.756734</td>\n",
              "      <td>-0.276516</td>\n",
              "      <td>0.040218</td>\n",
              "      <td>-0.005896</td>\n",
              "      <td>-0.024240</td>\n",
              "      <td>33.549407</td>\n",
              "      <td>480600.0</td>\n",
              "      <td>573.944127</td>\n",
              "      <td>46.738624</td>\n",
              "      <td>70891000.0</td>\n",
              "      <td>66.536496</td>\n",
              "      <td>171.93</td>\n",
              "      <td>696</td>\n",
              "      <td>3.706897</td>\n",
              "      <td>C1470</td>\n",
              "      <td>-0.274349</td>\n",
              "      <td>-0.450399</td>\n",
              "      <td>0.001264</td>\n",
              "      <td>0.000653</td>\n",
              "      <td>6.858818e-18</td>\n",
              "      <td>0.029834</td>\n",
              "      <td>-0.075191</td>\n",
              "      <td>0.002753</td>\n",
              "      <td>-0.000559</td>\n",
              "      <td>-0.068207</td>\n",
              "      <td>-0.002502</td>\n",
              "      <td>-0.006628</td>\n",
              "      <td>-0.439184</td>\n",
              "      <td>-0.069129</td>\n",
              "      <td>0.010055</td>\n",
              "      <td>-0.001474</td>\n",
              "      <td>-0.006060</td>\n",
              "      <td>8.387352</td>\n",
              "      <td>120150.000000</td>\n",
              "      <td>143.486032</td>\n",
              "      <td>11.684656</td>\n",
              "      <td>1.772275e+07</td>\n",
              "      <td>16.634124</td>\n",
              "      <td>42.982500</td>\n",
              "      <td>174.000000</td>\n",
              "      <td>0.926724</td>\n",
              "    </tr>\n",
              "    <tr>\n",
              "      <th>...</th>\n",
              "      <td>...</td>\n",
              "      <td>...</td>\n",
              "      <td>...</td>\n",
              "      <td>...</td>\n",
              "      <td>...</td>\n",
              "      <td>...</td>\n",
              "      <td>...</td>\n",
              "      <td>...</td>\n",
              "      <td>...</td>\n",
              "      <td>...</td>\n",
              "      <td>...</td>\n",
              "      <td>...</td>\n",
              "      <td>...</td>\n",
              "      <td>...</td>\n",
              "      <td>...</td>\n",
              "      <td>...</td>\n",
              "      <td>...</td>\n",
              "      <td>...</td>\n",
              "      <td>...</td>\n",
              "      <td>...</td>\n",
              "      <td>...</td>\n",
              "      <td>...</td>\n",
              "      <td>...</td>\n",
              "      <td>...</td>\n",
              "      <td>...</td>\n",
              "      <td>...</td>\n",
              "      <td>...</td>\n",
              "      <td>...</td>\n",
              "      <td>...</td>\n",
              "      <td>...</td>\n",
              "      <td>...</td>\n",
              "      <td>...</td>\n",
              "      <td>...</td>\n",
              "      <td>...</td>\n",
              "      <td>...</td>\n",
              "      <td>...</td>\n",
              "      <td>...</td>\n",
              "      <td>...</td>\n",
              "      <td>...</td>\n",
              "      <td>...</td>\n",
              "      <td>...</td>\n",
              "      <td>...</td>\n",
              "      <td>...</td>\n",
              "      <td>...</td>\n",
              "      <td>...</td>\n",
              "      <td>...</td>\n",
              "      <td>...</td>\n",
              "      <td>...</td>\n",
              "      <td>...</td>\n",
              "      <td>...</td>\n",
              "      <td>...</td>\n",
              "      <td>...</td>\n",
              "      <td>...</td>\n",
              "      <td>...</td>\n",
              "      <td>...</td>\n",
              "      <td>...</td>\n",
              "      <td>...</td>\n",
              "      <td>...</td>\n",
              "      <td>...</td>\n",
              "      <td>...</td>\n",
              "      <td>...</td>\n",
              "    </tr>\n",
              "    <tr>\n",
              "      <th>412</th>\n",
              "      <td>C2586</td>\n",
              "      <td>90</td>\n",
              "      <td>7.0</td>\n",
              "      <td>0.0</td>\n",
              "      <td>3.0</td>\n",
              "      <td>66.0</td>\n",
              "      <td>13</td>\n",
              "      <td>C2586</td>\n",
              "      <td>-1.371743</td>\n",
              "      <td>2.381312</td>\n",
              "      <td>0.178511</td>\n",
              "      <td>0.084734</td>\n",
              "      <td>3.560380e-16</td>\n",
              "      <td>-2.673793</td>\n",
              "      <td>0.611818</td>\n",
              "      <td>0.752813</td>\n",
              "      <td>-0.060137</td>\n",
              "      <td>3.553284</td>\n",
              "      <td>-3.460721</td>\n",
              "      <td>-1.235249</td>\n",
              "      <td>2.116688</td>\n",
              "      <td>2.859191</td>\n",
              "      <td>-2.935224</td>\n",
              "      <td>-3.289869</td>\n",
              "      <td>-1.212923</td>\n",
              "      <td>22.314286</td>\n",
              "      <td>555900.0</td>\n",
              "      <td>1176.459367</td>\n",
              "      <td>57.952606</td>\n",
              "      <td>130800000.0</td>\n",
              "      <td>85.256740</td>\n",
              "      <td>133.08</td>\n",
              "      <td>90</td>\n",
              "      <td>3.666667</td>\n",
              "      <td>C2586</td>\n",
              "      <td>-0.274349</td>\n",
              "      <td>0.476262</td>\n",
              "      <td>0.035702</td>\n",
              "      <td>0.016947</td>\n",
              "      <td>7.120760e-17</td>\n",
              "      <td>-0.534759</td>\n",
              "      <td>0.122364</td>\n",
              "      <td>0.150563</td>\n",
              "      <td>-0.012027</td>\n",
              "      <td>0.710657</td>\n",
              "      <td>-0.692144</td>\n",
              "      <td>-0.247050</td>\n",
              "      <td>0.423338</td>\n",
              "      <td>0.571838</td>\n",
              "      <td>-0.587045</td>\n",
              "      <td>-0.657974</td>\n",
              "      <td>-0.242585</td>\n",
              "      <td>4.462857</td>\n",
              "      <td>111180.000000</td>\n",
              "      <td>235.291873</td>\n",
              "      <td>11.590521</td>\n",
              "      <td>2.616000e+07</td>\n",
              "      <td>17.051348</td>\n",
              "      <td>26.616000</td>\n",
              "      <td>18.000000</td>\n",
              "      <td>0.733333</td>\n",
              "    </tr>\n",
              "    <tr>\n",
              "      <th>413</th>\n",
              "      <td>C2035</td>\n",
              "      <td>492</td>\n",
              "      <td>24.0</td>\n",
              "      <td>0.0</td>\n",
              "      <td>1.0</td>\n",
              "      <td>521.0</td>\n",
              "      <td>0</td>\n",
              "      <td>C2035</td>\n",
              "      <td>-1.371743</td>\n",
              "      <td>-2.251994</td>\n",
              "      <td>0.006322</td>\n",
              "      <td>0.003266</td>\n",
              "      <td>3.368149e-17</td>\n",
              "      <td>-1.972117</td>\n",
              "      <td>-0.363771</td>\n",
              "      <td>0.013353</td>\n",
              "      <td>-0.002712</td>\n",
              "      <td>-0.341034</td>\n",
              "      <td>-0.012512</td>\n",
              "      <td>-0.033140</td>\n",
              "      <td>-2.195918</td>\n",
              "      <td>-0.345645</td>\n",
              "      <td>0.050273</td>\n",
              "      <td>-0.007371</td>\n",
              "      <td>-0.030300</td>\n",
              "      <td>292.432864</td>\n",
              "      <td>794000.0</td>\n",
              "      <td>481.409284</td>\n",
              "      <td>59.747389</td>\n",
              "      <td>78650000.0</td>\n",
              "      <td>82.484029</td>\n",
              "      <td>180.75</td>\n",
              "      <td>492</td>\n",
              "      <td>5.294715</td>\n",
              "      <td>C2035</td>\n",
              "      <td>-0.274349</td>\n",
              "      <td>-0.450399</td>\n",
              "      <td>0.001264</td>\n",
              "      <td>0.000653</td>\n",
              "      <td>6.736297e-18</td>\n",
              "      <td>-0.394423</td>\n",
              "      <td>-0.072754</td>\n",
              "      <td>0.002671</td>\n",
              "      <td>-0.000542</td>\n",
              "      <td>-0.068207</td>\n",
              "      <td>-0.002502</td>\n",
              "      <td>-0.006628</td>\n",
              "      <td>-0.439184</td>\n",
              "      <td>-0.069129</td>\n",
              "      <td>0.010055</td>\n",
              "      <td>-0.001474</td>\n",
              "      <td>-0.006060</td>\n",
              "      <td>58.486573</td>\n",
              "      <td>158800.000000</td>\n",
              "      <td>96.281857</td>\n",
              "      <td>11.949478</td>\n",
              "      <td>1.573000e+07</td>\n",
              "      <td>16.496806</td>\n",
              "      <td>36.150000</td>\n",
              "      <td>98.400000</td>\n",
              "      <td>1.058943</td>\n",
              "    </tr>\n",
              "    <tr>\n",
              "      <th>414</th>\n",
              "      <td>C2020</td>\n",
              "      <td>40</td>\n",
              "      <td>7.0</td>\n",
              "      <td>1.0</td>\n",
              "      <td>2.0</td>\n",
              "      <td>25.0</td>\n",
              "      <td>7</td>\n",
              "      <td>C2020</td>\n",
              "      <td>-0.823046</td>\n",
              "      <td>1.428787</td>\n",
              "      <td>-0.814624</td>\n",
              "      <td>-1.404565</td>\n",
              "      <td>-2.121320e+00</td>\n",
              "      <td>-1.319270</td>\n",
              "      <td>0.754077</td>\n",
              "      <td>0.747581</td>\n",
              "      <td>-0.059075</td>\n",
              "      <td>2.131970</td>\n",
              "      <td>-2.076432</td>\n",
              "      <td>-0.741150</td>\n",
              "      <td>1.174216</td>\n",
              "      <td>1.238485</td>\n",
              "      <td>-0.507976</td>\n",
              "      <td>0.112791</td>\n",
              "      <td>1.171205</td>\n",
              "      <td>7.916667</td>\n",
              "      <td>407930.0</td>\n",
              "      <td>620.689730</td>\n",
              "      <td>35.320508</td>\n",
              "      <td>84400000.0</td>\n",
              "      <td>51.317166</td>\n",
              "      <td>79.85</td>\n",
              "      <td>40</td>\n",
              "      <td>1.875000</td>\n",
              "      <td>C2020</td>\n",
              "      <td>-0.274349</td>\n",
              "      <td>0.476262</td>\n",
              "      <td>-0.271541</td>\n",
              "      <td>-0.468188</td>\n",
              "      <td>-7.071068e-01</td>\n",
              "      <td>-0.439757</td>\n",
              "      <td>0.251359</td>\n",
              "      <td>0.249194</td>\n",
              "      <td>-0.019692</td>\n",
              "      <td>0.710657</td>\n",
              "      <td>-0.692144</td>\n",
              "      <td>-0.247050</td>\n",
              "      <td>0.391405</td>\n",
              "      <td>0.412828</td>\n",
              "      <td>-0.169325</td>\n",
              "      <td>0.037597</td>\n",
              "      <td>0.390402</td>\n",
              "      <td>2.638889</td>\n",
              "      <td>135976.666667</td>\n",
              "      <td>206.896577</td>\n",
              "      <td>11.773503</td>\n",
              "      <td>2.813333e+07</td>\n",
              "      <td>17.105722</td>\n",
              "      <td>26.616667</td>\n",
              "      <td>13.333333</td>\n",
              "      <td>0.625000</td>\n",
              "    </tr>\n",
              "    <tr>\n",
              "      <th>415</th>\n",
              "      <td>C2437</td>\n",
              "      <td>90</td>\n",
              "      <td>12.0</td>\n",
              "      <td>0.0</td>\n",
              "      <td>1.0</td>\n",
              "      <td>30.0</td>\n",
              "      <td>15</td>\n",
              "      <td>C2437</td>\n",
              "      <td>-0.274349</td>\n",
              "      <td>0.444293</td>\n",
              "      <td>0.040332</td>\n",
              "      <td>0.018938</td>\n",
              "      <td>1.089948e-16</td>\n",
              "      <td>-0.677261</td>\n",
              "      <td>-0.071130</td>\n",
              "      <td>0.002616</td>\n",
              "      <td>-0.000531</td>\n",
              "      <td>0.507839</td>\n",
              "      <td>0.080122</td>\n",
              "      <td>0.919609</td>\n",
              "      <td>0.419863</td>\n",
              "      <td>0.550334</td>\n",
              "      <td>-0.469534</td>\n",
              "      <td>0.750361</td>\n",
              "      <td>-0.290342</td>\n",
              "      <td>0.333333</td>\n",
              "      <td>107530.0</td>\n",
              "      <td>96.214115</td>\n",
              "      <td>11.585534</td>\n",
              "      <td>10346000.0</td>\n",
              "      <td>16.152111</td>\n",
              "      <td>24.83</td>\n",
              "      <td>90</td>\n",
              "      <td>0.333333</td>\n",
              "      <td>C2437</td>\n",
              "      <td>-0.274349</td>\n",
              "      <td>0.444293</td>\n",
              "      <td>0.040332</td>\n",
              "      <td>0.018938</td>\n",
              "      <td>1.089948e-16</td>\n",
              "      <td>-0.677261</td>\n",
              "      <td>-0.071130</td>\n",
              "      <td>0.002616</td>\n",
              "      <td>-0.000531</td>\n",
              "      <td>0.507839</td>\n",
              "      <td>0.080122</td>\n",
              "      <td>0.919609</td>\n",
              "      <td>0.419863</td>\n",
              "      <td>0.550334</td>\n",
              "      <td>-0.469534</td>\n",
              "      <td>0.750361</td>\n",
              "      <td>-0.290342</td>\n",
              "      <td>0.333333</td>\n",
              "      <td>107530.000000</td>\n",
              "      <td>96.214115</td>\n",
              "      <td>11.585534</td>\n",
              "      <td>1.034600e+07</td>\n",
              "      <td>16.152111</td>\n",
              "      <td>24.830000</td>\n",
              "      <td>90.000000</td>\n",
              "      <td>0.333333</td>\n",
              "    </tr>\n",
              "    <tr>\n",
              "      <th>416</th>\n",
              "      <td>C2532</td>\n",
              "      <td>239</td>\n",
              "      <td>7.0</td>\n",
              "      <td>0.0</td>\n",
              "      <td>1.0</td>\n",
              "      <td>166.0</td>\n",
              "      <td>0</td>\n",
              "      <td>C2532</td>\n",
              "      <td>-1.646092</td>\n",
              "      <td>-2.702393</td>\n",
              "      <td>0.007586</td>\n",
              "      <td>0.003919</td>\n",
              "      <td>4.033712e-17</td>\n",
              "      <td>4.421573</td>\n",
              "      <td>-0.475510</td>\n",
              "      <td>0.017336</td>\n",
              "      <td>-0.003519</td>\n",
              "      <td>-0.409240</td>\n",
              "      <td>-0.015014</td>\n",
              "      <td>-0.039768</td>\n",
              "      <td>-2.635102</td>\n",
              "      <td>-0.414774</td>\n",
              "      <td>0.060327</td>\n",
              "      <td>-0.008845</td>\n",
              "      <td>-0.036360</td>\n",
              "      <td>37.431373</td>\n",
              "      <td>810140.0</td>\n",
              "      <td>588.892789</td>\n",
              "      <td>70.846810</td>\n",
              "      <td>79537000.0</td>\n",
              "      <td>98.365690</td>\n",
              "      <td>305.53</td>\n",
              "      <td>239</td>\n",
              "      <td>4.167364</td>\n",
              "      <td>C2532</td>\n",
              "      <td>-0.274349</td>\n",
              "      <td>-0.450399</td>\n",
              "      <td>0.001264</td>\n",
              "      <td>0.000653</td>\n",
              "      <td>6.722853e-18</td>\n",
              "      <td>0.736929</td>\n",
              "      <td>-0.079252</td>\n",
              "      <td>0.002889</td>\n",
              "      <td>-0.000587</td>\n",
              "      <td>-0.068207</td>\n",
              "      <td>-0.002502</td>\n",
              "      <td>-0.006628</td>\n",
              "      <td>-0.439184</td>\n",
              "      <td>-0.069129</td>\n",
              "      <td>0.010055</td>\n",
              "      <td>-0.001474</td>\n",
              "      <td>-0.006060</td>\n",
              "      <td>6.238562</td>\n",
              "      <td>135023.333333</td>\n",
              "      <td>98.148798</td>\n",
              "      <td>11.807802</td>\n",
              "      <td>1.325617e+07</td>\n",
              "      <td>16.394282</td>\n",
              "      <td>50.921667</td>\n",
              "      <td>39.833333</td>\n",
              "      <td>0.694561</td>\n",
              "    </tr>\n",
              "  </tbody>\n",
              "</table>\n",
              "<p>417 rows × 61 columns</p>\n",
              "</div>"
            ],
            "text/plain": [
              "      단지코드  총세대수   공가수  ...    전용면적_평균  전용면적별세대수_평균  총세대수대비주차면수_평균\n",
              "0    C2483   900  38.0  ...  49.876250   112.500000       1.583333\n",
              "1    C2515   545  17.0  ...  44.345714    77.857143       1.144954\n",
              "2    C1407  1216  13.0  ...  41.253636   110.545455       1.056743\n",
              "3    C1945   755   6.0  ...  50.510000   125.833333       0.972185\n",
              "4    C1470   696  14.0  ...  42.982500   174.000000       0.926724\n",
              "..     ...   ...   ...  ...        ...          ...            ...\n",
              "412  C2586    90   7.0  ...  26.616000    18.000000       0.733333\n",
              "413  C2035   492  24.0  ...  36.150000    98.400000       1.058943\n",
              "414  C2020    40   7.0  ...  26.616667    13.333333       0.625000\n",
              "415  C2437    90  12.0  ...  24.830000    90.000000       0.333333\n",
              "416  C2532   239   7.0  ...  50.921667    39.833333       0.694561\n",
              "\n",
              "[417 rows x 61 columns]"
            ]
          },
          "metadata": {
            "tags": []
          },
          "execution_count": 108
        }
      ]
    },
    {
      "cell_type": "code",
      "metadata": {
        "id": "623b2V9VeeSD"
      },
      "source": [
        "# train_df = train_df.drop(['단지코드','단지코드_합계','단지코드_평균','단지코드_중위수'],axis=1)\n",
        "# test_df = test_df.drop(['단지코드','단지코드_합계','단지코드_평균','단지코드_중위수'],axis=1)\n",
        "\n",
        "train_df = train_df.drop(['단지코드','단지코드_합계','단지코드_평균'],axis=1)\n",
        "test_df = test_df.drop(['단지코드','단지코드_합계','단지코드_평균'],axis=1)"
      ],
      "execution_count": null,
      "outputs": []
    },
    {
      "cell_type": "code",
      "metadata": {
        "id": "N0iaLN6_f-3L"
      },
      "source": [
        "train_df.to_csv('train_df_columns.csv',index=False, encoding='cp949')\n",
        "test_df.to_csv('test_df_columns.csv',index=False, encoding='cp949')"
      ],
      "execution_count": null,
      "outputs": []
    },
    {
      "cell_type": "code",
      "metadata": {
        "colab": {
          "base_uri": "https://localhost:8080/",
          "height": 691
        },
        "id": "nmB3-jXSf_h6",
        "outputId": "86ac4f5e-3540-4c24-df50-d5ee60e4c88e"
      },
      "source": [
        "test_df"
      ],
      "execution_count": null,
      "outputs": [
        {
          "output_type": "execute_result",
          "data": {
            "text/html": [
              "<div>\n",
              "<style scoped>\n",
              "    .dataframe tbody tr th:only-of-type {\n",
              "        vertical-align: middle;\n",
              "    }\n",
              "\n",
              "    .dataframe tbody tr th {\n",
              "        vertical-align: top;\n",
              "    }\n",
              "\n",
              "    .dataframe thead th {\n",
              "        text-align: right;\n",
              "    }\n",
              "</style>\n",
              "<table border=\"1\" class=\"dataframe\">\n",
              "  <thead>\n",
              "    <tr style=\"text-align: right;\">\n",
              "      <th></th>\n",
              "      <th>총세대수</th>\n",
              "      <th>공가수</th>\n",
              "      <th>지하철역수</th>\n",
              "      <th>버스정류장수</th>\n",
              "      <th>단지내주차면수</th>\n",
              "      <th>지역</th>\n",
              "      <th>pca_0_합계</th>\n",
              "      <th>pca_1_합계</th>\n",
              "      <th>pca_10_합계</th>\n",
              "      <th>pca_11_합계</th>\n",
              "      <th>pca_12_합계</th>\n",
              "      <th>pca_13_합계</th>\n",
              "      <th>pca_14_합계</th>\n",
              "      <th>pca_15_합계</th>\n",
              "      <th>pca_16_합계</th>\n",
              "      <th>pca_2_합계</th>\n",
              "      <th>pca_3_합계</th>\n",
              "      <th>pca_4_합계</th>\n",
              "      <th>pca_5_합계</th>\n",
              "      <th>pca_6_합계</th>\n",
              "      <th>pca_7_합계</th>\n",
              "      <th>pca_8_합계</th>\n",
              "      <th>pca_9_합계</th>\n",
              "      <th>면적별세대수대비주차면수_합계</th>\n",
              "      <th>임대료_합계</th>\n",
              "      <th>임대료대비보증금_합계</th>\n",
              "      <th>임대료로그_합계</th>\n",
              "      <th>임대보증금_합계</th>\n",
              "      <th>임대보증금로그_합계</th>\n",
              "      <th>전용면적_합계</th>\n",
              "      <th>전용면적별세대수_합계</th>\n",
              "      <th>총세대수대비주차면수_합계</th>\n",
              "      <th>pca_0_평균</th>\n",
              "      <th>pca_1_평균</th>\n",
              "      <th>pca_10_평균</th>\n",
              "      <th>pca_11_평균</th>\n",
              "      <th>pca_12_평균</th>\n",
              "      <th>pca_13_평균</th>\n",
              "      <th>pca_14_평균</th>\n",
              "      <th>pca_15_평균</th>\n",
              "      <th>pca_16_평균</th>\n",
              "      <th>pca_2_평균</th>\n",
              "      <th>pca_3_평균</th>\n",
              "      <th>pca_4_평균</th>\n",
              "      <th>pca_5_평균</th>\n",
              "      <th>pca_6_평균</th>\n",
              "      <th>pca_7_평균</th>\n",
              "      <th>pca_8_평균</th>\n",
              "      <th>pca_9_평균</th>\n",
              "      <th>면적별세대수대비주차면수_평균</th>\n",
              "      <th>임대료_평균</th>\n",
              "      <th>임대료대비보증금_평균</th>\n",
              "      <th>임대료로그_평균</th>\n",
              "      <th>임대보증금_평균</th>\n",
              "      <th>임대보증금로그_평균</th>\n",
              "      <th>전용면적_평균</th>\n",
              "      <th>전용면적별세대수_평균</th>\n",
              "      <th>총세대수대비주차면수_평균</th>\n",
              "    </tr>\n",
              "  </thead>\n",
              "  <tbody>\n",
              "    <tr>\n",
              "      <th>0</th>\n",
              "      <td>0.286389</td>\n",
              "      <td>0.254545</td>\n",
              "      <td>0.0</td>\n",
              "      <td>0.10</td>\n",
              "      <td>0.375350</td>\n",
              "      <td>0.066667</td>\n",
              "      <td>0.072476</td>\n",
              "      <td>0.096788</td>\n",
              "      <td>0.484446</td>\n",
              "      <td>0.504986</td>\n",
              "      <td>0.500000</td>\n",
              "      <td>0.866300</td>\n",
              "      <td>0.050266</td>\n",
              "      <td>0.556567</td>\n",
              "      <td>0.398260</td>\n",
              "      <td>0.521691</td>\n",
              "      <td>0.368893</td>\n",
              "      <td>0.515582</td>\n",
              "      <td>0.237916</td>\n",
              "      <td>0.812400</td>\n",
              "      <td>0.830647</td>\n",
              "      <td>0.587464</td>\n",
              "      <td>0.346395</td>\n",
              "      <td>0.002415</td>\n",
              "      <td>0.168256</td>\n",
              "      <td>1.215224e-06</td>\n",
              "      <td>0.328591</td>\n",
              "      <td>0.241077</td>\n",
              "      <td>0.340616</td>\n",
              "      <td>0.157915</td>\n",
              "      <td>0.286389</td>\n",
              "      <td>0.271640</td>\n",
              "      <td>9.436896e-16</td>\n",
              "      <td>-1.054712e-15</td>\n",
              "      <td>0.529365</td>\n",
              "      <td>0.522443</td>\n",
              "      <td>0.500000</td>\n",
              "      <td>8.750000e-01</td>\n",
              "      <td>0.001149</td>\n",
              "      <td>0.522843</td>\n",
              "      <td>0.463025</td>\n",
              "      <td>0.277417</td>\n",
              "      <td>0.488914</td>\n",
              "      <td>0.260639</td>\n",
              "      <td>5.766820e-01</td>\n",
              "      <td>0.900881</td>\n",
              "      <td>0.935045</td>\n",
              "      <td>0.440193</td>\n",
              "      <td>2.708627e-01</td>\n",
              "      <td>0.013774</td>\n",
              "      <td>0.423939</td>\n",
              "      <td>8.376503e-07</td>\n",
              "      <td>0.934949</td>\n",
              "      <td>0.224237</td>\n",
              "      <td>0.920105</td>\n",
              "      <td>0.408933</td>\n",
              "      <td>0.092029</td>\n",
              "      <td>0.190223</td>\n",
              "    </tr>\n",
              "    <tr>\n",
              "      <th>1</th>\n",
              "      <td>0.522423</td>\n",
              "      <td>0.163636</td>\n",
              "      <td>0.0</td>\n",
              "      <td>0.15</td>\n",
              "      <td>0.673950</td>\n",
              "      <td>0.066667</td>\n",
              "      <td>0.067644</td>\n",
              "      <td>0.087989</td>\n",
              "      <td>0.479514</td>\n",
              "      <td>0.502990</td>\n",
              "      <td>0.500000</td>\n",
              "      <td>0.789161</td>\n",
              "      <td>0.046380</td>\n",
              "      <td>0.556720</td>\n",
              "      <td>0.398211</td>\n",
              "      <td>0.519608</td>\n",
              "      <td>0.368798</td>\n",
              "      <td>0.515133</td>\n",
              "      <td>0.196712</td>\n",
              "      <td>0.737921</td>\n",
              "      <td>0.747599</td>\n",
              "      <td>0.592878</td>\n",
              "      <td>0.372421</td>\n",
              "      <td>0.006111</td>\n",
              "      <td>0.174814</td>\n",
              "      <td>1.315448e-06</td>\n",
              "      <td>0.367120</td>\n",
              "      <td>0.242787</td>\n",
              "      <td>0.380414</td>\n",
              "      <td>0.170160</td>\n",
              "      <td>0.522423</td>\n",
              "      <td>0.304489</td>\n",
              "      <td>9.436896e-16</td>\n",
              "      <td>-1.054712e-15</td>\n",
              "      <td>0.520870</td>\n",
              "      <td>0.519367</td>\n",
              "      <td>0.500000</td>\n",
              "      <td>6.666667e-01</td>\n",
              "      <td>0.003064</td>\n",
              "      <td>0.522787</td>\n",
              "      <td>0.463033</td>\n",
              "      <td>0.277417</td>\n",
              "      <td>0.488914</td>\n",
              "      <td>0.260639</td>\n",
              "      <td>3.661473e-01</td>\n",
              "      <td>0.647577</td>\n",
              "      <td>0.769049</td>\n",
              "      <td>0.449671</td>\n",
              "      <td>3.160994e-01</td>\n",
              "      <td>0.031497</td>\n",
              "      <td>0.391524</td>\n",
              "      <td>8.059862e-07</td>\n",
              "      <td>0.928512</td>\n",
              "      <td>0.200735</td>\n",
              "      <td>0.913431</td>\n",
              "      <td>0.372417</td>\n",
              "      <td>0.150964</td>\n",
              "      <td>0.188371</td>\n",
              "    </tr>\n",
              "    <tr>\n",
              "      <th>2</th>\n",
              "      <td>0.233281</td>\n",
              "      <td>0.327273</td>\n",
              "      <td>0.0</td>\n",
              "      <td>0.80</td>\n",
              "      <td>0.299160</td>\n",
              "      <td>0.466667</td>\n",
              "      <td>0.067644</td>\n",
              "      <td>0.087989</td>\n",
              "      <td>0.466731</td>\n",
              "      <td>0.497809</td>\n",
              "      <td>0.500000</td>\n",
              "      <td>0.737001</td>\n",
              "      <td>0.046881</td>\n",
              "      <td>0.556702</td>\n",
              "      <td>0.398217</td>\n",
              "      <td>0.519608</td>\n",
              "      <td>0.368798</td>\n",
              "      <td>0.515133</td>\n",
              "      <td>0.114075</td>\n",
              "      <td>0.558751</td>\n",
              "      <td>0.538351</td>\n",
              "      <td>0.606657</td>\n",
              "      <td>0.439478</td>\n",
              "      <td>0.003545</td>\n",
              "      <td>0.159226</td>\n",
              "      <td>1.430256e-06</td>\n",
              "      <td>0.364282</td>\n",
              "      <td>0.241650</td>\n",
              "      <td>0.380126</td>\n",
              "      <td>0.165570</td>\n",
              "      <td>0.233281</td>\n",
              "      <td>0.299398</td>\n",
              "      <td>9.436896e-16</td>\n",
              "      <td>-1.054712e-15</td>\n",
              "      <td>0.506096</td>\n",
              "      <td>0.514017</td>\n",
              "      <td>0.500000</td>\n",
              "      <td>5.555556e-01</td>\n",
              "      <td>0.004086</td>\n",
              "      <td>0.522758</td>\n",
              "      <td>0.463038</td>\n",
              "      <td>0.277417</td>\n",
              "      <td>0.488914</td>\n",
              "      <td>0.260639</td>\n",
              "      <td>1.942890e-15</td>\n",
              "      <td>0.207049</td>\n",
              "      <td>0.480361</td>\n",
              "      <td>0.466153</td>\n",
              "      <td>3.947719e-01</td>\n",
              "      <td>0.018095</td>\n",
              "      <td>0.356612</td>\n",
              "      <td>8.763302e-07</td>\n",
              "      <td>0.921336</td>\n",
              "      <td>0.199795</td>\n",
              "      <td>0.912740</td>\n",
              "      <td>0.353473</td>\n",
              "      <td>0.065315</td>\n",
              "      <td>0.184934</td>\n",
              "    </tr>\n",
              "    <tr>\n",
              "      <th>3</th>\n",
              "      <td>0.223053</td>\n",
              "      <td>0.127273</td>\n",
              "      <td>0.0</td>\n",
              "      <td>0.15</td>\n",
              "      <td>0.296919</td>\n",
              "      <td>0.800000</td>\n",
              "      <td>0.091802</td>\n",
              "      <td>0.131983</td>\n",
              "      <td>0.465825</td>\n",
              "      <td>0.497424</td>\n",
              "      <td>0.500000</td>\n",
              "      <td>0.705419</td>\n",
              "      <td>0.070321</td>\n",
              "      <td>0.555797</td>\n",
              "      <td>0.398504</td>\n",
              "      <td>0.530023</td>\n",
              "      <td>0.369275</td>\n",
              "      <td>0.517379</td>\n",
              "      <td>0.154816</td>\n",
              "      <td>0.572806</td>\n",
              "      <td>0.535094</td>\n",
              "      <td>0.607143</td>\n",
              "      <td>0.443463</td>\n",
              "      <td>0.000554</td>\n",
              "      <td>0.038972</td>\n",
              "      <td>6.457288e-07</td>\n",
              "      <td>0.154195</td>\n",
              "      <td>0.059840</td>\n",
              "      <td>0.163355</td>\n",
              "      <td>0.066683</td>\n",
              "      <td>0.223053</td>\n",
              "      <td>0.130819</td>\n",
              "      <td>9.436896e-16</td>\n",
              "      <td>-1.054712e-15</td>\n",
              "      <td>0.506096</td>\n",
              "      <td>0.514017</td>\n",
              "      <td>0.500000</td>\n",
              "      <td>5.000000e-01</td>\n",
              "      <td>0.004597</td>\n",
              "      <td>0.522743</td>\n",
              "      <td>0.463040</td>\n",
              "      <td>0.277417</td>\n",
              "      <td>0.488914</td>\n",
              "      <td>0.260639</td>\n",
              "      <td>1.887379e-15</td>\n",
              "      <td>0.207049</td>\n",
              "      <td>0.480361</td>\n",
              "      <td>0.466153</td>\n",
              "      <td>3.947719e-01</td>\n",
              "      <td>0.006153</td>\n",
              "      <td>0.196386</td>\n",
              "      <td>8.901979e-07</td>\n",
              "      <td>0.877470</td>\n",
              "      <td>0.111319</td>\n",
              "      <td>0.882540</td>\n",
              "      <td>0.345138</td>\n",
              "      <td>0.148663</td>\n",
              "      <td>0.192574</td>\n",
              "    </tr>\n",
              "    <tr>\n",
              "      <th>4</th>\n",
              "      <td>0.500000</td>\n",
              "      <td>0.200000</td>\n",
              "      <td>0.0</td>\n",
              "      <td>0.10</td>\n",
              "      <td>0.615686</td>\n",
              "      <td>0.066667</td>\n",
              "      <td>0.072476</td>\n",
              "      <td>0.096788</td>\n",
              "      <td>0.487003</td>\n",
              "      <td>0.506022</td>\n",
              "      <td>0.500000</td>\n",
              "      <td>0.814140</td>\n",
              "      <td>0.050767</td>\n",
              "      <td>0.556549</td>\n",
              "      <td>0.398265</td>\n",
              "      <td>0.521691</td>\n",
              "      <td>0.368893</td>\n",
              "      <td>0.515582</td>\n",
              "      <td>0.254443</td>\n",
              "      <td>0.848234</td>\n",
              "      <td>0.872497</td>\n",
              "      <td>0.584708</td>\n",
              "      <td>0.332984</td>\n",
              "      <td>0.001975</td>\n",
              "      <td>0.185367</td>\n",
              "      <td>1.204212e-06</td>\n",
              "      <td>0.330847</td>\n",
              "      <td>0.261404</td>\n",
              "      <td>0.342150</td>\n",
              "      <td>0.151009</td>\n",
              "      <td>0.500000</td>\n",
              "      <td>0.256403</td>\n",
              "      <td>9.436896e-16</td>\n",
              "      <td>-1.054712e-15</td>\n",
              "      <td>0.532689</td>\n",
              "      <td>0.523646</td>\n",
              "      <td>0.500000</td>\n",
              "      <td>7.500000e-01</td>\n",
              "      <td>0.002298</td>\n",
              "      <td>0.522809</td>\n",
              "      <td>0.463030</td>\n",
              "      <td>0.277417</td>\n",
              "      <td>0.488914</td>\n",
              "      <td>0.260639</td>\n",
              "      <td>6.590652e-01</td>\n",
              "      <td>1.000000</td>\n",
              "      <td>1.000000</td>\n",
              "      <td>0.436485</td>\n",
              "      <td>2.531614e-01</td>\n",
              "      <td>0.011185</td>\n",
              "      <td>0.467054</td>\n",
              "      <td>8.300599e-07</td>\n",
              "      <td>0.941369</td>\n",
              "      <td>0.243144</td>\n",
              "      <td>0.924248</td>\n",
              "      <td>0.376864</td>\n",
              "      <td>0.163214</td>\n",
              "      <td>0.178649</td>\n",
              "    </tr>\n",
              "    <tr>\n",
              "      <th>...</th>\n",
              "      <td>...</td>\n",
              "      <td>...</td>\n",
              "      <td>...</td>\n",
              "      <td>...</td>\n",
              "      <td>...</td>\n",
              "      <td>...</td>\n",
              "      <td>...</td>\n",
              "      <td>...</td>\n",
              "      <td>...</td>\n",
              "      <td>...</td>\n",
              "      <td>...</td>\n",
              "      <td>...</td>\n",
              "      <td>...</td>\n",
              "      <td>...</td>\n",
              "      <td>...</td>\n",
              "      <td>...</td>\n",
              "      <td>...</td>\n",
              "      <td>...</td>\n",
              "      <td>...</td>\n",
              "      <td>...</td>\n",
              "      <td>...</td>\n",
              "      <td>...</td>\n",
              "      <td>...</td>\n",
              "      <td>...</td>\n",
              "      <td>...</td>\n",
              "      <td>...</td>\n",
              "      <td>...</td>\n",
              "      <td>...</td>\n",
              "      <td>...</td>\n",
              "      <td>...</td>\n",
              "      <td>...</td>\n",
              "      <td>...</td>\n",
              "      <td>...</td>\n",
              "      <td>...</td>\n",
              "      <td>...</td>\n",
              "      <td>...</td>\n",
              "      <td>...</td>\n",
              "      <td>...</td>\n",
              "      <td>...</td>\n",
              "      <td>...</td>\n",
              "      <td>...</td>\n",
              "      <td>...</td>\n",
              "      <td>...</td>\n",
              "      <td>...</td>\n",
              "      <td>...</td>\n",
              "      <td>...</td>\n",
              "      <td>...</td>\n",
              "      <td>...</td>\n",
              "      <td>...</td>\n",
              "      <td>...</td>\n",
              "      <td>...</td>\n",
              "      <td>...</td>\n",
              "      <td>...</td>\n",
              "      <td>...</td>\n",
              "      <td>...</td>\n",
              "      <td>...</td>\n",
              "      <td>...</td>\n",
              "      <td>...</td>\n",
              "    </tr>\n",
              "    <tr>\n",
              "      <th>145</th>\n",
              "      <td>0.127065</td>\n",
              "      <td>0.309091</td>\n",
              "      <td>0.0</td>\n",
              "      <td>0.20</td>\n",
              "      <td>0.143978</td>\n",
              "      <td>0.866667</td>\n",
              "      <td>0.091802</td>\n",
              "      <td>0.131983</td>\n",
              "      <td>0.476052</td>\n",
              "      <td>0.501569</td>\n",
              "      <td>0.500000</td>\n",
              "      <td>0.653260</td>\n",
              "      <td>0.070822</td>\n",
              "      <td>0.555779</td>\n",
              "      <td>0.398510</td>\n",
              "      <td>0.530023</td>\n",
              "      <td>0.369275</td>\n",
              "      <td>0.517379</td>\n",
              "      <td>0.220926</td>\n",
              "      <td>0.716142</td>\n",
              "      <td>0.702492</td>\n",
              "      <td>0.596120</td>\n",
              "      <td>0.389817</td>\n",
              "      <td>0.000577</td>\n",
              "      <td>0.049077</td>\n",
              "      <td>3.181507e-07</td>\n",
              "      <td>0.156875</td>\n",
              "      <td>0.038668</td>\n",
              "      <td>0.158283</td>\n",
              "      <td>0.048982</td>\n",
              "      <td>0.125885</td>\n",
              "      <td>0.108494</td>\n",
              "      <td>9.436896e-16</td>\n",
              "      <td>-1.054712e-15</td>\n",
              "      <td>0.532689</td>\n",
              "      <td>0.523646</td>\n",
              "      <td>0.500000</td>\n",
              "      <td>2.500000e-01</td>\n",
              "      <td>0.006895</td>\n",
              "      <td>0.522677</td>\n",
              "      <td>0.463050</td>\n",
              "      <td>0.277417</td>\n",
              "      <td>0.488914</td>\n",
              "      <td>0.260639</td>\n",
              "      <td>6.590652e-01</td>\n",
              "      <td>1.000000</td>\n",
              "      <td>1.000000</td>\n",
              "      <td>0.436485</td>\n",
              "      <td>2.531614e-01</td>\n",
              "      <td>0.006419</td>\n",
              "      <td>0.247309</td>\n",
              "      <td>4.386006e-07</td>\n",
              "      <td>0.892719</td>\n",
              "      <td>0.071934</td>\n",
              "      <td>0.855139</td>\n",
              "      <td>0.180745</td>\n",
              "      <td>0.083901</td>\n",
              "      <td>0.158658</td>\n",
              "    </tr>\n",
              "    <tr>\n",
              "      <th>146</th>\n",
              "      <td>0.224233</td>\n",
              "      <td>0.636364</td>\n",
              "      <td>0.0</td>\n",
              "      <td>0.05</td>\n",
              "      <td>0.324930</td>\n",
              "      <td>1.000000</td>\n",
              "      <td>0.086971</td>\n",
              "      <td>0.123184</td>\n",
              "      <td>0.478789</td>\n",
              "      <td>0.502682</td>\n",
              "      <td>0.500000</td>\n",
              "      <td>0.628280</td>\n",
              "      <td>0.066435</td>\n",
              "      <td>0.555950</td>\n",
              "      <td>0.398456</td>\n",
              "      <td>0.527940</td>\n",
              "      <td>0.369180</td>\n",
              "      <td>0.516930</td>\n",
              "      <td>0.229305</td>\n",
              "      <td>0.749165</td>\n",
              "      <td>0.744994</td>\n",
              "      <td>0.593267</td>\n",
              "      <td>0.375609</td>\n",
              "      <td>0.002048</td>\n",
              "      <td>0.079066</td>\n",
              "      <td>3.667424e-07</td>\n",
              "      <td>0.200399</td>\n",
              "      <td>0.056740</td>\n",
              "      <td>0.200105</td>\n",
              "      <td>0.065437</td>\n",
              "      <td>0.222266</td>\n",
              "      <td>0.182374</td>\n",
              "      <td>9.436896e-16</td>\n",
              "      <td>-1.054712e-15</td>\n",
              "      <td>0.532689</td>\n",
              "      <td>0.523646</td>\n",
              "      <td>0.500000</td>\n",
              "      <td>2.000000e-01</td>\n",
              "      <td>0.007355</td>\n",
              "      <td>0.522664</td>\n",
              "      <td>0.463052</td>\n",
              "      <td>0.277417</td>\n",
              "      <td>0.488914</td>\n",
              "      <td>0.260639</td>\n",
              "      <td>6.590652e-01</td>\n",
              "      <td>1.000000</td>\n",
              "      <td>1.000000</td>\n",
              "      <td>0.436485</td>\n",
              "      <td>2.531614e-01</td>\n",
              "      <td>0.018877</td>\n",
              "      <td>0.318744</td>\n",
              "      <td>4.044711e-07</td>\n",
              "      <td>0.912319</td>\n",
              "      <td>0.084442</td>\n",
              "      <td>0.864866</td>\n",
              "      <td>0.191939</td>\n",
              "      <td>0.117147</td>\n",
              "      <td>0.211505</td>\n",
              "    </tr>\n",
              "    <tr>\n",
              "      <th>147</th>\n",
              "      <td>0.036979</td>\n",
              "      <td>0.163636</td>\n",
              "      <td>0.0</td>\n",
              "      <td>0.05</td>\n",
              "      <td>0.015126</td>\n",
              "      <td>0.000000</td>\n",
              "      <td>0.101466</td>\n",
              "      <td>0.184538</td>\n",
              "      <td>0.476662</td>\n",
              "      <td>0.501584</td>\n",
              "      <td>0.500000</td>\n",
              "      <td>0.651059</td>\n",
              "      <td>0.080098</td>\n",
              "      <td>0.555421</td>\n",
              "      <td>0.398624</td>\n",
              "      <td>0.569376</td>\n",
              "      <td>0.375770</td>\n",
              "      <td>0.643795</td>\n",
              "      <td>0.202988</td>\n",
              "      <td>0.628807</td>\n",
              "      <td>0.471646</td>\n",
              "      <td>0.706508</td>\n",
              "      <td>0.370282</td>\n",
              "      <td>0.000031</td>\n",
              "      <td>0.000000</td>\n",
              "      <td>0.000000e+00</td>\n",
              "      <td>0.000000</td>\n",
              "      <td>0.000000</td>\n",
              "      <td>0.000000</td>\n",
              "      <td>0.014735</td>\n",
              "      <td>0.036979</td>\n",
              "      <td>0.013097</td>\n",
              "      <td>9.436896e-16</td>\n",
              "      <td>6.684092e-01</td>\n",
              "      <td>0.564341</td>\n",
              "      <td>0.534063</td>\n",
              "      <td>0.500000</td>\n",
              "      <td>1.498801e-15</td>\n",
              "      <td>0.009193</td>\n",
              "      <td>0.522611</td>\n",
              "      <td>0.463059</td>\n",
              "      <td>0.811838</td>\n",
              "      <td>0.547489</td>\n",
              "      <td>1.000000</td>\n",
              "      <td>6.355551e-01</td>\n",
              "      <td>0.764453</td>\n",
              "      <td>0.094537</td>\n",
              "      <td>1.000000</td>\n",
              "      <td>4.440892e-16</td>\n",
              "      <td>0.000492</td>\n",
              "      <td>0.000000</td>\n",
              "      <td>0.000000e+00</td>\n",
              "      <td>0.000000</td>\n",
              "      <td>0.000000</td>\n",
              "      <td>0.000000</td>\n",
              "      <td>0.099943</td>\n",
              "      <td>0.056109</td>\n",
              "      <td>0.053527</td>\n",
              "    </tr>\n",
              "    <tr>\n",
              "      <th>148</th>\n",
              "      <td>0.255311</td>\n",
              "      <td>0.690909</td>\n",
              "      <td>0.0</td>\n",
              "      <td>0.05</td>\n",
              "      <td>0.254342</td>\n",
              "      <td>0.133333</td>\n",
              "      <td>0.057980</td>\n",
              "      <td>0.177760</td>\n",
              "      <td>0.334669</td>\n",
              "      <td>0.286210</td>\n",
              "      <td>0.277778</td>\n",
              "      <td>0.556843</td>\n",
              "      <td>0.099285</td>\n",
              "      <td>0.605128</td>\n",
              "      <td>0.392273</td>\n",
              "      <td>0.645778</td>\n",
              "      <td>0.269676</td>\n",
              "      <td>0.574592</td>\n",
              "      <td>0.273932</td>\n",
              "      <td>0.861070</td>\n",
              "      <td>0.640268</td>\n",
              "      <td>0.702162</td>\n",
              "      <td>0.504615</td>\n",
              "      <td>0.005788</td>\n",
              "      <td>0.073578</td>\n",
              "      <td>7.086973e-07</td>\n",
              "      <td>0.270066</td>\n",
              "      <td>0.072125</td>\n",
              "      <td>0.277526</td>\n",
              "      <td>0.129146</td>\n",
              "      <td>0.253344</td>\n",
              "      <td>0.285930</td>\n",
              "      <td>9.436896e-16</td>\n",
              "      <td>3.732720e-01</td>\n",
              "      <td>0.380875</td>\n",
              "      <td>0.335123</td>\n",
              "      <td>0.318182</td>\n",
              "      <td>2.276211e-01</td>\n",
              "      <td>0.107075</td>\n",
              "      <td>0.587758</td>\n",
              "      <td>0.459342</td>\n",
              "      <td>0.637342</td>\n",
              "      <td>0.321777</td>\n",
              "      <td>0.325281</td>\n",
              "      <td>6.385856e-01</td>\n",
              "      <td>0.826527</td>\n",
              "      <td>0.593934</td>\n",
              "      <td>0.559819</td>\n",
              "      <td>4.588273e-01</td>\n",
              "      <td>0.024305</td>\n",
              "      <td>0.134828</td>\n",
              "      <td>3.552749e-07</td>\n",
              "      <td>0.558856</td>\n",
              "      <td>0.048790</td>\n",
              "      <td>0.545221</td>\n",
              "      <td>0.098083</td>\n",
              "      <td>0.057062</td>\n",
              "      <td>0.139130</td>\n",
              "    </tr>\n",
              "    <tr>\n",
              "      <th>149</th>\n",
              "      <td>0.140047</td>\n",
              "      <td>0.818182</td>\n",
              "      <td>0.0</td>\n",
              "      <td>0.10</td>\n",
              "      <td>0.160784</td>\n",
              "      <td>0.800000</td>\n",
              "      <td>0.091802</td>\n",
              "      <td>0.131983</td>\n",
              "      <td>0.476052</td>\n",
              "      <td>0.501569</td>\n",
              "      <td>0.500000</td>\n",
              "      <td>0.653260</td>\n",
              "      <td>0.070822</td>\n",
              "      <td>0.555779</td>\n",
              "      <td>0.398510</td>\n",
              "      <td>0.530023</td>\n",
              "      <td>0.369275</td>\n",
              "      <td>0.517379</td>\n",
              "      <td>0.220926</td>\n",
              "      <td>0.716142</td>\n",
              "      <td>0.702492</td>\n",
              "      <td>0.596120</td>\n",
              "      <td>0.389817</td>\n",
              "      <td>0.000747</td>\n",
              "      <td>0.041448</td>\n",
              "      <td>3.564535e-07</td>\n",
              "      <td>0.154859</td>\n",
              "      <td>0.036240</td>\n",
              "      <td>0.157836</td>\n",
              "      <td>0.051917</td>\n",
              "      <td>0.138474</td>\n",
              "      <td>0.110333</td>\n",
              "      <td>9.436896e-16</td>\n",
              "      <td>-1.054712e-15</td>\n",
              "      <td>0.532689</td>\n",
              "      <td>0.523646</td>\n",
              "      <td>0.500000</td>\n",
              "      <td>2.500000e-01</td>\n",
              "      <td>0.006895</td>\n",
              "      <td>0.522677</td>\n",
              "      <td>0.463050</td>\n",
              "      <td>0.277417</td>\n",
              "      <td>0.488914</td>\n",
              "      <td>0.260639</td>\n",
              "      <td>6.590652e-01</td>\n",
              "      <td>1.000000</td>\n",
              "      <td>1.000000</td>\n",
              "      <td>0.436485</td>\n",
              "      <td>2.531614e-01</td>\n",
              "      <td>0.008416</td>\n",
              "      <td>0.208865</td>\n",
              "      <td>4.914048e-07</td>\n",
              "      <td>0.881246</td>\n",
              "      <td>0.067416</td>\n",
              "      <td>0.852723</td>\n",
              "      <td>0.208002</td>\n",
              "      <td>0.092292</td>\n",
              "      <td>0.161452</td>\n",
              "    </tr>\n",
              "  </tbody>\n",
              "</table>\n",
              "<p>150 rows × 58 columns</p>\n",
              "</div>"
            ],
            "text/plain": [
              "         총세대수       공가수  지하철역수  ...   전용면적_평균  전용면적별세대수_평균  총세대수대비주차면수_평균\n",
              "0    0.286389  0.254545    0.0  ...  0.408933     0.092029       0.190223\n",
              "1    0.522423  0.163636    0.0  ...  0.372417     0.150964       0.188371\n",
              "2    0.233281  0.327273    0.0  ...  0.353473     0.065315       0.184934\n",
              "3    0.223053  0.127273    0.0  ...  0.345138     0.148663       0.192574\n",
              "4    0.500000  0.200000    0.0  ...  0.376864     0.163214       0.178649\n",
              "..        ...       ...    ...  ...       ...          ...            ...\n",
              "145  0.127065  0.309091    0.0  ...  0.180745     0.083901       0.158658\n",
              "146  0.224233  0.636364    0.0  ...  0.191939     0.117147       0.211505\n",
              "147  0.036979  0.163636    0.0  ...  0.099943     0.056109       0.053527\n",
              "148  0.255311  0.690909    0.0  ...  0.098083     0.057062       0.139130\n",
              "149  0.140047  0.818182    0.0  ...  0.208002     0.092292       0.161452\n",
              "\n",
              "[150 rows x 58 columns]"
            ]
          },
          "metadata": {
            "tags": []
          },
          "execution_count": 180
        }
      ]
    },
    {
      "cell_type": "code",
      "metadata": {
        "id": "tM_9eXy8WoPL"
      },
      "source": [
        ""
      ],
      "execution_count": null,
      "outputs": []
    },
    {
      "cell_type": "markdown",
      "metadata": {
        "id": "edjUPeCjgJm1"
      },
      "source": [
        "## 스케일링"
      ]
    },
    {
      "cell_type": "code",
      "metadata": {
        "id": "ZTKtvTtigNQf"
      },
      "source": [
        "ms = MinMaxScaler()\n",
        "train_df = pd.DataFrame(ms.fit_transform(train_df), columns = train_df.columns)\n",
        "test_df = pd.DataFrame(ms.transform(test_df), columns = test_df.columns)"
      ],
      "execution_count": null,
      "outputs": []
    },
    {
      "cell_type": "code",
      "metadata": {
        "id": "GaHNCRgMWpC-"
      },
      "source": [
        ""
      ],
      "execution_count": null,
      "outputs": []
    },
    {
      "cell_type": "markdown",
      "metadata": {
        "id": "o-fXAnT2XYVn"
      },
      "source": [
        "## Feature Selection"
      ]
    },
    {
      "cell_type": "code",
      "metadata": {
        "id": "DPxGVOP7Yh93"
      },
      "source": [
        "y = y_df['등록차량수']"
      ],
      "execution_count": null,
      "outputs": []
    },
    {
      "cell_type": "code",
      "metadata": {
        "id": "AW7lq_qkXbVV"
      },
      "source": [
        ""
      ],
      "execution_count": null,
      "outputs": []
    },
    {
      "cell_type": "code",
      "metadata": {
        "colab": {
          "base_uri": "https://localhost:8080/",
          "height": 315
        },
        "id": "0tL4s-rmXbXc",
        "outputId": "89413ed0-9688-4921-fd55-a918a0662115"
      },
      "source": [
        "# model = lgbm = LGBMRegressor(n_estimators=300, max_depth=3, random_state=1234)\n",
        "\n",
        "# # 각 특성과 타깃(class) 사이에 유의한 통계적 관계가 있는지 계산하여 특성을 선택하는 방법 \n",
        "# cv_scores = []\n",
        "# for p in tqdm(range(5,100,1)):\n",
        "#     X_new = SelectPercentile(percentile=p).fit_transform(train_df, y)    \n",
        "#     cv_score = cross_val_score(model, X_new, y, scoring='neg_mean_absolute_error', cv=5).mean() * (-1)\n",
        "#     cv_scores.append((p,cv_score))\n",
        "\n",
        "# # Print the best percentile\n",
        "# best_score = cv_scores[np.argmin([score for _, score in cv_scores])]\n",
        "# print(best_score)\n",
        "\n",
        "# # Plot the performance change with p\n",
        "# plt.plot([k for k, _ in cv_scores], [score for _, score in cv_scores])\n",
        "# plt.xlabel('Percent of features')\n",
        "# plt.grid()"
      ],
      "execution_count": null,
      "outputs": [
        {
          "output_type": "stream",
          "text": [
            "100%|██████████| 95/95 [00:44<00:00,  2.15it/s]\n"
          ],
          "name": "stderr"
        },
        {
          "output_type": "stream",
          "text": [
            "(30, 165.08994445205624)\n"
          ],
          "name": "stdout"
        },
        {
          "output_type": "display_data",
          "data": {
            "image/png": "[encoded data removed]",
            "text/plain": [
              "<Figure size 432x288 with 1 Axes>"
            ]
          },
          "metadata": {
            "tags": [],
            "needs_background": "light"
          }
        }
      ]
    },
    {
      "cell_type": "code",
      "metadata": {
        "id": "9RRRJjxCWpOk"
      },
      "source": [
        "# # 과적합을 피하기 위해 최적의 p값 주변의 값을 선택하는게 더 나은 결과를 얻을 수 있다. \n",
        "# selectp = SelectPercentile(percentile=60).fit(train_df, y)\n",
        "# X_train_sel = selectp.transform(train_df)\n",
        "# X_test_sel = selectp.transform(test_df)"
      ],
      "execution_count": null,
      "outputs": []
    },
    {
      "cell_type": "markdown",
      "metadata": {
        "id": "R2wjhThu0_A8"
      },
      "source": [
        "## 데이터 분할"
      ]
    },
    {
      "cell_type": "code",
      "metadata": {
        "colab": {
          "base_uri": "https://localhost:8080/"
        },
        "id": "G9ASCXJAg6Ij",
        "outputId": "3dbbe6e7-bc93-4e32-d59c-5027c827967b"
      },
      "source": [
        "X_train, X_test, y_train, y_test = train_test_split(train_df, y, random_state=1234)\n",
        "print(X_train.shape, y_train.shape, X_test.shape, y_test.shape)"
      ],
      "execution_count": null,
      "outputs": [
        {
          "output_type": "stream",
          "text": [
            "(312, 58) (312,) (105, 58) (105,)\n"
          ],
          "name": "stdout"
        }
      ]
    },
    {
      "cell_type": "code",
      "metadata": {
        "id": "v0JWY3FKdqo1"
      },
      "source": [
        ""
      ],
      "execution_count": null,
      "outputs": []
    },
    {
      "cell_type": "code",
      "metadata": {
        "colab": {
          "base_uri": "https://localhost:8080/"
        },
        "id": "j_KnezrtrmJJ",
        "outputId": "742f1639-5e3b-4856-8c67-5fe59dd0ca3e"
      },
      "source": [
        "lr = LinearRegression()\n",
        "lr.fit(X_train,y_train)"
      ],
      "execution_count": null,
      "outputs": [
        {
          "output_type": "execute_result",
          "data": {
            "text/plain": [
              "LinearRegression(copy_X=True, fit_intercept=True, n_jobs=None, normalize=False)"
            ]
          },
          "metadata": {
            "tags": []
          },
          "execution_count": 117
        }
      ]
    },
    {
      "cell_type": "code",
      "metadata": {
        "colab": {
          "base_uri": "https://localhost:8080/"
        },
        "id": "Tf-6tpR0rssn",
        "outputId": "8b51d330-f30f-4866-cbff-f4aa2046fda5"
      },
      "source": [
        "y_predict = lr.predict(X_test)\n",
        "mean_absolute_error(y_predict, y_test)"
      ],
      "execution_count": null,
      "outputs": [
        {
          "output_type": "execute_result",
          "data": {
            "text/plain": [
              "161.42756919197092"
            ]
          },
          "metadata": {
            "tags": []
          },
          "execution_count": 118
        }
      ]
    },
    {
      "cell_type": "code",
      "metadata": {
        "id": "-x__JexFrulf"
      },
      "source": [
        ""
      ],
      "execution_count": null,
      "outputs": []
    },
    {
      "cell_type": "code",
      "metadata": {
        "colab": {
          "base_uri": "https://localhost:8080/"
        },
        "id": "9c_NrWEMgZpr",
        "outputId": "6883c27d-cf74-43f6-b1c1-68ded7445e21"
      },
      "source": [
        "rf = RandomForestRegressor(n_estimators=300, max_depth=3, min_samples_leaf=3, random_state=1234)\n",
        "rf.fit(X_train,y_train)"
      ],
      "execution_count": null,
      "outputs": [
        {
          "output_type": "execute_result",
          "data": {
            "text/plain": [
              "RandomForestRegressor(bootstrap=True, ccp_alpha=0.0, criterion='mse',\n",
              "                      max_depth=3, max_features='auto', max_leaf_nodes=None,\n",
              "                      max_samples=None, min_impurity_decrease=0.0,\n",
              "                      min_impurity_split=None, min_samples_leaf=3,\n",
              "                      min_samples_split=2, min_weight_fraction_leaf=0.0,\n",
              "                      n_estimators=300, n_jobs=None, oob_score=False,\n",
              "                      random_state=1234, verbose=0, warm_start=False)"
            ]
          },
          "metadata": {
            "tags": []
          },
          "execution_count": 114
        }
      ]
    },
    {
      "cell_type": "code",
      "metadata": {
        "colab": {
          "base_uri": "https://localhost:8080/"
        },
        "id": "cHJvk55OhRO9",
        "outputId": "6071cbd2-f399-4363-fe59-0852cbaa99ad"
      },
      "source": [
        "y_predict = rf.predict(X_test)\n",
        "mean_absolute_error(y_predict, y_test)"
      ],
      "execution_count": null,
      "outputs": [
        {
          "output_type": "execute_result",
          "data": {
            "text/plain": [
              "162.86649072497767"
            ]
          },
          "metadata": {
            "tags": []
          },
          "execution_count": 119
        }
      ]
    },
    {
      "cell_type": "code",
      "metadata": {
        "id": "5sHXi6qXq5iE"
      },
      "source": [
        ""
      ],
      "execution_count": null,
      "outputs": []
    },
    {
      "cell_type": "code",
      "metadata": {
        "colab": {
          "base_uri": "https://localhost:8080/"
        },
        "id": "DTuHXA6HsxAD",
        "outputId": "47360abd-3642-4cf6-9f6a-38b9c42dc7ca"
      },
      "source": [
        "et = ExtraTreesRegressor(n_estimators=300, max_depth=3, random_state=1234)\n",
        "et.fit(X_train,y_train)"
      ],
      "execution_count": null,
      "outputs": [
        {
          "output_type": "execute_result",
          "data": {
            "text/plain": [
              "ExtraTreesRegressor(bootstrap=False, ccp_alpha=0.0, criterion='mse',\n",
              "                    max_depth=3, max_features='auto', max_leaf_nodes=None,\n",
              "                    max_samples=None, min_impurity_decrease=0.0,\n",
              "                    min_impurity_split=None, min_samples_leaf=1,\n",
              "                    min_samples_split=2, min_weight_fraction_leaf=0.0,\n",
              "                    n_estimators=300, n_jobs=None, oob_score=False,\n",
              "                    random_state=1234, verbose=0, warm_start=False)"
            ]
          },
          "metadata": {
            "tags": []
          },
          "execution_count": 137
        }
      ]
    },
    {
      "cell_type": "code",
      "metadata": {
        "colab": {
          "base_uri": "https://localhost:8080/"
        },
        "id": "DPAGSChgsxFI",
        "outputId": "60e2e5ab-09aa-4681-82ed-6dd92db73392"
      },
      "source": [
        "y_predict = rf.predict(X_test)\n",
        "mean_absolute_error(y_predict, y_test)"
      ],
      "execution_count": null,
      "outputs": [
        {
          "output_type": "execute_result",
          "data": {
            "text/plain": [
              "162.86649072497767"
            ]
          },
          "metadata": {
            "tags": []
          },
          "execution_count": 138
        }
      ]
    },
    {
      "cell_type": "code",
      "metadata": {
        "id": "AsmucZTQsxJU"
      },
      "source": [
        ""
      ],
      "execution_count": null,
      "outputs": []
    },
    {
      "cell_type": "code",
      "metadata": {
        "colab": {
          "base_uri": "https://localhost:8080/"
        },
        "id": "vQuJOYeNhfjo",
        "outputId": "19968a5b-0c0b-4b25-ef9d-2d2b377b6f40"
      },
      "source": [
        "lgbm = LGBMRegressor(n_estimators=300, max_depth=3, random_state=1234)\n",
        "lgbm.fit(X_train,y_train)"
      ],
      "execution_count": null,
      "outputs": [
        {
          "output_type": "execute_result",
          "data": {
            "text/plain": [
              "LGBMRegressor(boosting_type='gbdt', class_weight=None, colsample_bytree=1.0,\n",
              "              importance_type='split', learning_rate=0.1, max_depth=3,\n",
              "              min_child_samples=20, min_child_weight=0.001, min_split_gain=0.0,\n",
              "              n_estimators=300, n_jobs=-1, num_leaves=31, objective=None,\n",
              "              random_state=1234, reg_alpha=0.0, reg_lambda=0.0, silent=True,\n",
              "              subsample=1.0, subsample_for_bin=200000, subsample_freq=0)"
            ]
          },
          "metadata": {
            "tags": []
          },
          "execution_count": 121
        }
      ]
    },
    {
      "cell_type": "code",
      "metadata": {
        "colab": {
          "base_uri": "https://localhost:8080/"
        },
        "id": "1CUw0ylGhx10",
        "outputId": "a0eb8df8-124c-4eaa-ddab-036466d1c6e3"
      },
      "source": [
        "y_predict = lgbm.predict(X_test)\n",
        "mean_absolute_error(y_predict, y_test)"
      ],
      "execution_count": null,
      "outputs": [
        {
          "output_type": "execute_result",
          "data": {
            "text/plain": [
              "161.69397150522147"
            ]
          },
          "metadata": {
            "tags": []
          },
          "execution_count": 122
        }
      ]
    },
    {
      "cell_type": "code",
      "metadata": {
        "id": "gXuXLuxlsEcT"
      },
      "source": [
        ""
      ],
      "execution_count": null,
      "outputs": []
    },
    {
      "cell_type": "code",
      "metadata": {
        "id": "kLHRvhliswge"
      },
      "source": [
        ""
      ],
      "execution_count": null,
      "outputs": []
    },
    {
      "cell_type": "markdown",
      "metadata": {
        "id": "0jfFE2fsbP2F"
      },
      "source": [
        "## 하이퍼파라미터 튜닝"
      ]
    },
    {
      "cell_type": "code",
      "metadata": {
        "id": "HQZ5iL7b0fM6"
      },
      "source": [
        "param_grid_rf = {\n",
        "    'n_estimators': [100, 130, 150, 200], \n",
        "    'max_depth': [3, 5, 7], \n",
        "    'max_features': [0.7, 0.9],\n",
        "    'min_samples_split': [2,4,6],\n",
        "    'min_samples_leaf':[1,3,5]\n",
        "}"
      ],
      "execution_count": null,
      "outputs": []
    },
    {
      "cell_type": "code",
      "metadata": {
        "colab": {
          "base_uri": "https://localhost:8080/"
        },
        "id": "9eNKHR7U0fPS",
        "outputId": "dbdb5022-4304-4967-a06c-0311449a9d75"
      },
      "source": [
        "rf = RandomForestRegressor(random_state=1234)\n",
        "rf_cv = RandomizedSearchCV(estimator=rf, param_distributions=param_grid_rf, scoring='neg_mean_squared_error', cv = 5, n_iter=100, random_state=1234)\n",
        "\n",
        "# Train on training data-\n",
        "rf_cv.fit(X_train, y_train)"
      ],
      "execution_count": null,
      "outputs": [
        {
          "output_type": "execute_result",
          "data": {
            "text/plain": [
              "RandomizedSearchCV(cv=5, error_score=nan,\n",
              "                   estimator=RandomForestRegressor(bootstrap=True,\n",
              "                                                   ccp_alpha=0.0,\n",
              "                                                   criterion='mse',\n",
              "                                                   max_depth=None,\n",
              "                                                   max_features='auto',\n",
              "                                                   max_leaf_nodes=None,\n",
              "                                                   max_samples=None,\n",
              "                                                   min_impurity_decrease=0.0,\n",
              "                                                   min_impurity_split=None,\n",
              "                                                   min_samples_leaf=1,\n",
              "                                                   min_samples_split=2,\n",
              "                                                   min_weight_fraction_leaf=0.0,\n",
              "                                                   n_estimators=100,\n",
              "                                                   n_jobs=None, oob_score=False,\n",
              "                                                   random_state=1234, verbose=0,\n",
              "                                                   warm_start=False),\n",
              "                   iid='deprecated', n_iter=100, n_jobs=None,\n",
              "                   param_distributions={'max_depth': [3, 5, 7],\n",
              "                                        'max_features': [0.7, 0.9],\n",
              "                                        'min_samples_leaf': [1, 3, 5],\n",
              "                                        'min_samples_split': [2, 4, 6],\n",
              "                                        'n_estimators': [100, 130, 150, 200]},\n",
              "                   pre_dispatch='2*n_jobs', random_state=1234, refit=True,\n",
              "                   return_train_score=False, scoring='neg_mean_squared_error',\n",
              "                   verbose=0)"
            ]
          },
          "metadata": {
            "tags": []
          },
          "execution_count": 171
        }
      ]
    },
    {
      "cell_type": "code",
      "metadata": {
        "colab": {
          "base_uri": "https://localhost:8080/"
        },
        "id": "W6fBo8qi0m3m",
        "outputId": "3666af52-e140-492e-e761-1752449f8673"
      },
      "source": [
        "rf_cv.best_params_"
      ],
      "execution_count": null,
      "outputs": [
        {
          "output_type": "execute_result",
          "data": {
            "text/plain": [
              "{'max_depth': 7,\n",
              " 'max_features': 0.9,\n",
              " 'min_samples_leaf': 5,\n",
              " 'min_samples_split': 4,\n",
              " 'n_estimators': 130}"
            ]
          },
          "metadata": {
            "tags": []
          },
          "execution_count": 172
        }
      ]
    },
    {
      "cell_type": "code",
      "metadata": {
        "colab": {
          "base_uri": "https://localhost:8080/"
        },
        "id": "kdlMDMBa0m3m",
        "outputId": "e8cb68a1-47df-4afe-90d5-03622e4a2791"
      },
      "source": [
        "x = rf_cv.predict(X_test)\n",
        "mean_absolute_error(x, y_test)"
      ],
      "execution_count": null,
      "outputs": [
        {
          "output_type": "execute_result",
          "data": {
            "text/plain": [
              "155.08181481254522"
            ]
          },
          "metadata": {
            "tags": []
          },
          "execution_count": 173
        }
      ]
    },
    {
      "cell_type": "code",
      "metadata": {
        "id": "RQ5xdoWW0ouC"
      },
      "source": [
        ""
      ],
      "execution_count": null,
      "outputs": []
    },
    {
      "cell_type": "code",
      "metadata": {
        "id": "r9e61WCb0owO"
      },
      "source": [
        ""
      ],
      "execution_count": null,
      "outputs": []
    },
    {
      "cell_type": "code",
      "metadata": {
        "id": "qOVEM152bvJu"
      },
      "source": [
        "param_grid_et = {\n",
        "    'n_estimators': [100, 130, 150, 200], \n",
        "    'max_depth': [3, 5, 7], \n",
        "    'max_features': [0.7, 0.9],\n",
        "    'min_samples_split': [2,4,6],\n",
        "    'min_samples_leaf':[1,3,5]\n",
        "}"
      ],
      "execution_count": null,
      "outputs": []
    },
    {
      "cell_type": "code",
      "metadata": {
        "colab": {
          "base_uri": "https://localhost:8080/"
        },
        "id": "dSZwY_EdupvL",
        "outputId": "d994d1ce-7bd4-4657-cc67-8976a18cc1de"
      },
      "source": [
        "et = ExtraTreesRegressor(random_state=1234)\n",
        "et_cv = RandomizedSearchCV(estimator=et, param_distributions=param_grid_et, scoring='neg_mean_squared_error', cv = 5, n_iter=100, random_state=1234)\n",
        "\n",
        "# Train on training data-\n",
        "et_cv.fit(X_train, y_train)"
      ],
      "execution_count": null,
      "outputs": [
        {
          "output_type": "execute_result",
          "data": {
            "text/plain": [
              "RandomizedSearchCV(cv=5, error_score=nan,\n",
              "                   estimator=ExtraTreesRegressor(bootstrap=False, ccp_alpha=0.0,\n",
              "                                                 criterion='mse',\n",
              "                                                 max_depth=None,\n",
              "                                                 max_features='auto',\n",
              "                                                 max_leaf_nodes=None,\n",
              "                                                 max_samples=None,\n",
              "                                                 min_impurity_decrease=0.0,\n",
              "                                                 min_impurity_split=None,\n",
              "                                                 min_samples_leaf=1,\n",
              "                                                 min_samples_split=2,\n",
              "                                                 min_weight_fraction_leaf=0.0,\n",
              "                                                 n_estimators=100, n_jobs=None,\n",
              "                                                 oob_score=False,\n",
              "                                                 random_state=1234, verbose=0,\n",
              "                                                 warm_start=False),\n",
              "                   iid='deprecated', n_iter=100, n_jobs=None,\n",
              "                   param_distributions={'max_depth': [3, 5, 7],\n",
              "                                        'max_features': [0.7, 0.9],\n",
              "                                        'min_samples_leaf': [1, 3, 5],\n",
              "                                        'min_samples_split': [2, 4, 6],\n",
              "                                        'n_estimators': [100, 130, 150, 200]},\n",
              "                   pre_dispatch='2*n_jobs', random_state=1234, refit=True,\n",
              "                   return_train_score=False, scoring='neg_mean_squared_error',\n",
              "                   verbose=0)"
            ]
          },
          "metadata": {
            "tags": []
          },
          "execution_count": 142
        }
      ]
    },
    {
      "cell_type": "code",
      "metadata": {
        "colab": {
          "base_uri": "https://localhost:8080/"
        },
        "id": "elREhVhIz9Oc",
        "outputId": "7ddad32a-f8db-4570-af3a-594504217ab9"
      },
      "source": [
        "et_cv.best_params_"
      ],
      "execution_count": null,
      "outputs": [
        {
          "output_type": "execute_result",
          "data": {
            "text/plain": [
              "{'max_depth': 7,\n",
              " 'max_features': 0.9,\n",
              " 'min_samples_leaf': 1,\n",
              " 'min_samples_split': 4,\n",
              " 'n_estimators': 130}"
            ]
          },
          "metadata": {
            "tags": []
          },
          "execution_count": 164
        }
      ]
    },
    {
      "cell_type": "code",
      "metadata": {
        "colab": {
          "base_uri": "https://localhost:8080/"
        },
        "id": "T8c5TR6Du0R9",
        "outputId": "a64b9bc6-235c-44ea-ed87-e6247be3edf6"
      },
      "source": [
        "x = et_cv.predict(X_test)\n",
        "mean_absolute_error(x, y_test)"
      ],
      "execution_count": null,
      "outputs": [
        {
          "output_type": "execute_result",
          "data": {
            "text/plain": [
              "146.50896348441938"
            ]
          },
          "metadata": {
            "tags": []
          },
          "execution_count": 143
        }
      ]
    },
    {
      "cell_type": "code",
      "metadata": {
        "id": "MlU1At2uu0Uy"
      },
      "source": [
        ""
      ],
      "execution_count": null,
      "outputs": []
    },
    {
      "cell_type": "code",
      "metadata": {
        "id": "qJP_trXSbPis"
      },
      "source": [
        "param_grid_lgb = {\n",
        "    'boosting_type' : ['gbdt','dart'],\n",
        "    'n_estimators': [200, 500, 1000, 2000], \n",
        "    'learning_rate': [0.1, 0.05, 0.01], \n",
        "    'max_depth': [6, 7, 8], \n",
        "    'colsample_bytree': [0.8, 0.9, 1.0], \n",
        "    'subsample': [0.8, 0.9, 1.0],\n",
        "}"
      ],
      "execution_count": null,
      "outputs": []
    },
    {
      "cell_type": "code",
      "metadata": {
        "colab": {
          "base_uri": "https://localhost:8080/"
        },
        "id": "16Q873SpbPk_",
        "outputId": "3b28614f-a827-4118-e342-7a8df5aff347"
      },
      "source": [
        "lgbm = LGBMRegressor(random_state=1234)\n",
        "lgbm_cv = RandomizedSearchCV(estimator=lgbm, param_distributions=param_grid_lgb, scoring='neg_mean_squared_error', cv = 5, n_iter=100, random_state=1234)\n",
        "\n",
        "# Train on training data-\n",
        "lgbm_cv.fit(X_train, y_train)"
      ],
      "execution_count": null,
      "outputs": [
        {
          "output_type": "execute_result",
          "data": {
            "text/plain": [
              "RandomizedSearchCV(cv=5, error_score=nan,\n",
              "                   estimator=LGBMRegressor(boosting_type='gbdt',\n",
              "                                           class_weight=None,\n",
              "                                           colsample_bytree=1.0,\n",
              "                                           importance_type='split',\n",
              "                                           learning_rate=0.1, max_depth=-1,\n",
              "                                           min_child_samples=20,\n",
              "                                           min_child_weight=0.001,\n",
              "                                           min_split_gain=0.0, n_estimators=100,\n",
              "                                           n_jobs=-1, num_leaves=31,\n",
              "                                           objective=None, random_state=1234,\n",
              "                                           reg_alpha=0.0, reg_lambda=0.0,\n",
              "                                           silen...\n",
              "                   iid='deprecated', n_iter=100, n_jobs=None,\n",
              "                   param_distributions={'boosting_type': ['gbdt', 'dart'],\n",
              "                                        'colsample_bytree': [0.8, 0.9, 1.0],\n",
              "                                        'learning_rate': [0.1, 0.05, 0.01],\n",
              "                                        'max_depth': [6, 7, 8],\n",
              "                                        'n_estimators': [200, 500, 1000, 2000],\n",
              "                                        'subsample': [0.8, 0.9, 1.0]},\n",
              "                   pre_dispatch='2*n_jobs', random_state=1234, refit=True,\n",
              "                   return_train_score=False, scoring='neg_mean_squared_error',\n",
              "                   verbose=0)"
            ]
          },
          "metadata": {
            "tags": []
          },
          "execution_count": 135
        }
      ]
    },
    {
      "cell_type": "code",
      "metadata": {
        "colab": {
          "base_uri": "https://localhost:8080/"
        },
        "id": "ebS0vEdIb9dK",
        "outputId": "a0c0c362-fed2-4ba2-cede-674a9db17d27"
      },
      "source": [
        "x = lgbm_cv.predict(X_test)\n",
        "mean_absolute_error(x, y_test)"
      ],
      "execution_count": null,
      "outputs": [
        {
          "output_type": "execute_result",
          "data": {
            "text/plain": [
              "158.54595885416708"
            ]
          },
          "metadata": {
            "tags": []
          },
          "execution_count": 136
        }
      ]
    },
    {
      "cell_type": "code",
      "metadata": {
        "id": "Ba8Lb7h-y-Ti",
        "colab": {
          "base_uri": "https://localhost:8080/"
        },
        "outputId": "cacc7e0a-2c4f-4d99-80bf-05fa30a662d7"
      },
      "source": [
        "lgbm_cv.best_params_"
      ],
      "execution_count": null,
      "outputs": [
        {
          "output_type": "execute_result",
          "data": {
            "text/plain": [
              "{'boosting_type': 'gbdt',\n",
              " 'colsample_bytree': 0.8,\n",
              " 'learning_rate': 0.05,\n",
              " 'max_depth': 8,\n",
              " 'n_estimators': 200,\n",
              " 'subsample': 0.9}"
            ]
          },
          "metadata": {
            "tags": []
          },
          "execution_count": 165
        }
      ]
    },
    {
      "cell_type": "code",
      "metadata": {
        "id": "jFvk9bFn0Bvl"
      },
      "source": [
        ""
      ],
      "execution_count": null,
      "outputs": []
    },
    {
      "cell_type": "markdown",
      "metadata": {
        "id": "sYCdacGP0_A9"
      },
      "source": [
        "## 추론 및 제출"
      ]
    },
    {
      "cell_type": "code",
      "metadata": {
        "id": "X21_-1oQxi1b"
      },
      "source": [
        "pred_lr = lr.predict(test_df)\n",
        "pred_rf = rf_cv.predict(test_df)\n",
        "pred_lgbm = lgbm_cv.predict(test_df)\n",
        "pred_et = et_cv.predict(test_df)"
      ],
      "execution_count": null,
      "outputs": []
    },
    {
      "cell_type": "code",
      "metadata": {
        "id": "lWjF7sq-xi4B"
      },
      "source": [
        "pred_tot = pred_lr*0.3 + pred_lgbm*0.3 + pred_et*0.4\n",
        "#pred_tot = pred_rf*0.3 + pred_lgbm*0.3 + pred_et*0.4"
      ],
      "execution_count": null,
      "outputs": []
    },
    {
      "cell_type": "code",
      "metadata": {
        "colab": {
          "base_uri": "https://localhost:8080/",
          "height": 418
        },
        "id": "vk2t2QLtxi6T",
        "outputId": "64f13a67-0aef-4a45-b052-178194b2efa0"
      },
      "source": [
        "submission['num'] = pred_tot\n",
        "submission"
      ],
      "execution_count": null,
      "outputs": [
        {
          "output_type": "execute_result",
          "data": {
            "text/html": [
              "<div>\n",
              "<style scoped>\n",
              "    .dataframe tbody tr th:only-of-type {\n",
              "        vertical-align: middle;\n",
              "    }\n",
              "\n",
              "    .dataframe tbody tr th {\n",
              "        vertical-align: top;\n",
              "    }\n",
              "\n",
              "    .dataframe thead th {\n",
              "        text-align: right;\n",
              "    }\n",
              "</style>\n",
              "<table border=\"1\" class=\"dataframe\">\n",
              "  <thead>\n",
              "    <tr style=\"text-align: right;\">\n",
              "      <th></th>\n",
              "      <th>code</th>\n",
              "      <th>num</th>\n",
              "    </tr>\n",
              "  </thead>\n",
              "  <tbody>\n",
              "    <tr>\n",
              "      <th>0</th>\n",
              "      <td>C1072</td>\n",
              "      <td>769.970918</td>\n",
              "    </tr>\n",
              "    <tr>\n",
              "      <th>1</th>\n",
              "      <td>C1128</td>\n",
              "      <td>1248.062742</td>\n",
              "    </tr>\n",
              "    <tr>\n",
              "      <th>2</th>\n",
              "      <td>C1456</td>\n",
              "      <td>580.850981</td>\n",
              "    </tr>\n",
              "    <tr>\n",
              "      <th>3</th>\n",
              "      <td>C1840</td>\n",
              "      <td>541.786456</td>\n",
              "    </tr>\n",
              "    <tr>\n",
              "      <th>4</th>\n",
              "      <td>C1332</td>\n",
              "      <td>1209.883189</td>\n",
              "    </tr>\n",
              "    <tr>\n",
              "      <th>...</th>\n",
              "      <td>...</td>\n",
              "      <td>...</td>\n",
              "    </tr>\n",
              "    <tr>\n",
              "      <th>145</th>\n",
              "      <td>C2456</td>\n",
              "      <td>230.268946</td>\n",
              "    </tr>\n",
              "    <tr>\n",
              "      <th>146</th>\n",
              "      <td>C1266</td>\n",
              "      <td>419.752391</td>\n",
              "    </tr>\n",
              "    <tr>\n",
              "      <th>147</th>\n",
              "      <td>C2152</td>\n",
              "      <td>77.957257</td>\n",
              "    </tr>\n",
              "    <tr>\n",
              "      <th>148</th>\n",
              "      <td>C1267</td>\n",
              "      <td>208.583001</td>\n",
              "    </tr>\n",
              "    <tr>\n",
              "      <th>149</th>\n",
              "      <td>C2189</td>\n",
              "      <td>194.569266</td>\n",
              "    </tr>\n",
              "  </tbody>\n",
              "</table>\n",
              "<p>150 rows × 2 columns</p>\n",
              "</div>"
            ],
            "text/plain": [
              "      code          num\n",
              "0    C1072   769.970918\n",
              "1    C1128  1248.062742\n",
              "2    C1456   580.850981\n",
              "3    C1840   541.786456\n",
              "4    C1332  1209.883189\n",
              "..     ...          ...\n",
              "145  C2456   230.268946\n",
              "146  C1266   419.752391\n",
              "147  C2152    77.957257\n",
              "148  C1267   208.583001\n",
              "149  C2189   194.569266\n",
              "\n",
              "[150 rows x 2 columns]"
            ]
          },
          "metadata": {
            "tags": []
          },
          "execution_count": 151
        }
      ]
    },
    {
      "cell_type": "code",
      "metadata": {
        "id": "IVPF3ZUN0_A9"
      },
      "source": [
        "submission.to_csv('new_ensemble_model.csv', index=False)"
      ],
      "execution_count": null,
      "outputs": []
    },
    {
      "cell_type": "code",
      "metadata": {
        "id": "eX__G090yI08"
      },
      "source": [
        ""
      ],
      "execution_count": null,
      "outputs": []
    }
  ]
}